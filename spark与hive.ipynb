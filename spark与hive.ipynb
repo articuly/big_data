{
 "cells": [
  {
   "cell_type": "code",
   "execution_count": 1,
   "metadata": {},
   "outputs": [],
   "source": [
    "from pyspark import SparkContext, SparkConf\n",
    "\n",
    "conf = SparkConf().setMaster('local[*]').setAppName('testing')\n",
    "sc = SparkContext(conf=conf)"
   ]
  },
  {
   "cell_type": "code",
   "execution_count": 20,
   "metadata": {},
   "outputs": [],
   "source": [
    "log=sc.textFile('hdfs://192.168.142.1:19330/user/root/web_access_demo.log')"
   ]
  },
  {
   "cell_type": "code",
   "execution_count": 22,
   "metadata": {},
   "outputs": [
    {
     "data": {
      "text/plain": [
       "['27.19.74.143 - 30/May/2013:17:38:20 +0800 \"GET /static/image/common/faq.gif HTTP/1.1\" 200 1127',\n",
       " '110.52.250.126 - 30/May/2013:17:38:20 +0800 \"GET /data/cache/style_1_widthauto.css?y7a HTTP/1.1\" 200 1292',\n",
       " '27.19.74.143 - 30/May/2013:17:38:20 +0800 \"GET /static/image/common/hot_1.gif HTTP/1.1\" 200 680',\n",
       " '27.19.74.143 - 30/May/2013:17:38:20 +0800 \"GET /static/image/common/hot_2.gif HTTP/1.1\" 200 682',\n",
       " '27.19.74.143 - 30/May/2013:17:38:20 +0800 \"GET /static/image/filetype/common.gif HTTP/1.1\" 200 90']"
      ]
     },
     "execution_count": 22,
     "metadata": {},
     "output_type": "execute_result"
    }
   ],
   "source": [
    "log.take(5)"
   ]
  },
  {
   "cell_type": "code",
   "execution_count": 52,
   "metadata": {},
   "outputs": [],
   "source": [
    "rdd1=sc.parallelize([0, 1, 2, 3, 4, 5, 6, 7, 8, 9])"
   ]
  },
  {
   "cell_type": "code",
   "execution_count": 53,
   "metadata": {},
   "outputs": [
    {
     "data": {
      "text/plain": [
       "[0, 1]"
      ]
     },
     "execution_count": 53,
     "metadata": {},
     "output_type": "execute_result"
    }
   ],
   "source": [
    "rdd1.take(2)"
   ]
  },
  {
   "cell_type": "code",
   "execution_count": 25,
   "metadata": {},
   "outputs": [],
   "source": [
    "from pyspark.sql import SparkSession\n",
    "sp=SparkSession.builder.appName('dataframeApp').getOrCreate()"
   ]
  },
  {
   "cell_type": "code",
   "execution_count": 26,
   "metadata": {},
   "outputs": [],
   "source": [
    "json_file=sp.read.json('hdfs://0.0.0.0:19330/user/root/profile.json')"
   ]
  },
  {
   "cell_type": "code",
   "execution_count": 28,
   "metadata": {},
   "outputs": [
    {
     "data": {
      "text/plain": [
       "[Row(distinct_id='UC.aed7566e01ed4fb99be03f980ff4293f', event=None, original_id=None, properties=Row($is_login_id=None, account='UC.aed7566e01ed4fb99be03f980ff4293f', app_code=3, auction_profit=None, baptise_infos=None, channel_id=104, charm=None, client_version=None, coin_id=None, coin_new_value=None, connect_id=4, copper=None, device_id='ce7a9c904768320eadee8dd238550dcb', device_model='HUAWEI FRD-AL00', elf_infos=None, env_tag=None, equip_infos=None, fashion_level=None, game_id=1, gold=None, guild_level=None, guild_name=None, guild_uid=None, is_online=None, is_pay_first=None, is_zc=None, jade_infos=None, jewel_infos=None, job=None, level=None, log_type='account', login_in_time=None, login_ip='222.188.128.144', login_out_time=None, muhon_infos=None, online_time=None, os='Android', os_ver='Android OS 8.0.0 / API-26 (HUAWEIFRD-AL00/535(C00))', pay_gold_times=None, pay_last_time=None, pay_real_amount=None, pay_times=None, pay_total_amount=None, pay_virtual_amount=None, platform_id=1, rebirth_level=None, register_ip='117.63.92.26', register_time='2018-10-16 10:01:45.000', role_name=None, sdk_accountid=None, server_id=102, server_version=None, sex=None, test_serverid=None, vip=None, vip_exp=None, wifi=None, wing_level=None), time=None, type='profile_set'),\n",
       " Row(distinct_id='UC.3ea5453b6b6542f29bd9d46630a1a068', event=None, original_id=None, properties=Row($is_login_id=None, account='UC.3ea5453b6b6542f29bd9d46630a1a068', app_code=None, auction_profit=None, baptise_infos=None, channel_id=104, charm=None, client_version=None, coin_id=None, coin_new_value=None, connect_id=4, copper=None, device_id='86de61c26d74836a0164e407daf62a98', device_model='HUAWEI CLT-AL01', elf_infos=None, env_tag=None, equip_infos=None, fashion_level=None, game_id=1, gold=None, guild_level=None, guild_name=None, guild_uid=None, is_online=None, is_pay_first=None, is_zc=None, jade_infos=None, jewel_infos=None, job=None, level=None, log_type='account', login_in_time=None, login_ip='117.136.41.73', login_out_time=None, muhon_infos=None, online_time=None, os='Android OS', os_ver='Android OS 8.1.0 / API-27 (HUAWEICLT-AL01/171(C00))', pay_gold_times=None, pay_last_time=None, pay_real_amount=None, pay_times=None, pay_total_amount=None, pay_virtual_amount=None, platform_id=1, rebirth_level=None, register_ip='120.229.57.26', register_time='2018-10-16 09:59:30.000', role_name=None, sdk_accountid=None, server_id=102, server_version=None, sex=None, test_serverid=None, vip=None, vip_exp=None, wifi=None, wing_level=None), time=None, type='profile_set')]"
      ]
     },
     "execution_count": 28,
     "metadata": {},
     "output_type": "execute_result"
    }
   ],
   "source": [
    "json_file.take(2)"
   ]
  },
  {
   "cell_type": "code",
   "execution_count": 30,
   "metadata": {},
   "outputs": [
    {
     "data": {
      "text/plain": [
       "[('distinct_id', 'string'),\n",
       " ('event', 'string'),\n",
       " ('original_id', 'string'),\n",
       " ('properties',\n",
       "  'struct<$is_login_id:boolean,account:string,app_code:bigint,auction_profit:bigint,baptise_infos:string,channel_id:bigint,charm:bigint,client_version:string,coin_id:bigint,coin_new_value:bigint,connect_id:bigint,copper:bigint,device_id:string,device_model:string,elf_infos:string,env_tag:string,equip_infos:string,fashion_level:bigint,game_id:bigint,gold:bigint,guild_level:bigint,guild_name:string,guild_uid:string,is_online:boolean,is_pay_first:boolean,is_zc:string,jade_infos:string,jewel_infos:string,job:bigint,level:bigint,log_type:string,login_in_time:string,login_ip:string,login_out_time:string,muhon_infos:string,online_time:bigint,os:string,os_ver:string,pay_gold_times:bigint,pay_last_time:string,pay_real_amount:bigint,pay_times:bigint,pay_total_amount:bigint,pay_virtual_amount:bigint,platform_id:bigint,rebirth_level:bigint,register_ip:string,register_time:string,role_name:string,sdk_accountid:string,server_id:bigint,server_version:string,sex:bigint,test_serverid:string,vip:bigint,vip_exp:double,wifi:boolean,wing_level:bigint>'),\n",
       " ('time', 'bigint'),\n",
       " ('type', 'string')]"
      ]
     },
     "execution_count": 30,
     "metadata": {},
     "output_type": "execute_result"
    }
   ],
   "source": [
    "json_file.dtypes"
   ]
  },
  {
   "cell_type": "code",
   "execution_count": 31,
   "metadata": {},
   "outputs": [
    {
     "name": "stdout",
     "output_type": "stream",
     "text": [
      "+--------------------+-------+--------------------+--------------------+-------------+------------+\n",
      "|         distinct_id|  event|         original_id|          properties|         time|        type|\n",
      "+--------------------+-------+--------------------+--------------------+-------------+------------+\n",
      "|UC.aed7566e01ed4f...|   null|                null|[, UC.aed7566e01e...|         null| profile_set|\n",
      "|UC.3ea5453b6b6542...|   null|                null|[, UC.3ea5453b6b6...|         null| profile_set|\n",
      "|UC.9f1d759b422b44...|   null|                null|[, UC.9f1d759b422...|         null| profile_set|\n",
      "|11AE142139D946EDB...|$SignUp|11AE142139D946EDB...|[,,,,,,,,,,,,,,,,...|1568800557532|track_signup|\n",
      "|11AE142139D946EDB...|   null|                null|[true, c878e3d7ba...|         null| profile_set|\n",
      "|BA15409A2F1945E8A...|$SignUp|BA15409A2F1945E8A...|[,,,,,,,,,,,,,,,,...|1568800557532|track_signup|\n",
      "|BA15409A2F1945E8A...|   null|                null|[true,,,,,,,,,,,,...|         null| profile_set|\n",
      "|941EDDFC022B42B99...|$SignUp|941EDDFC022B42B99...|[,,,,,,,,,,,,,,,,...|1568800557533|track_signup|\n",
      "|941EDDFC022B42B99...|   null|                null|[true, ad7ede55b1...|         null| profile_set|\n",
      "|UC.7c67fb5a639a48...|   null|                null|[, UC.7c67fb5a639...|         null| profile_set|\n",
      "|6DABB4E93F9A47C9B...|   null|                null|[, XG.12003a5a15c...|         null| profile_set|\n",
      "|UC.1642eda3b0e247...|   null|                null|[, UC.1642eda3b0e...|         null| profile_set|\n",
      "|XG.fb26332eaa8344...|   null|                null|[, XG.fb26332eaa8...|         null| profile_set|\n",
      "|UC.09999246ce434c...|   null|                null|[, UC.09999246ce4...|         null| profile_set|\n",
      "|543B549D75EA4D09A...|   null|                null|[, 543B549D75EA4D...|         null| profile_set|\n",
      "|404337BDEFDD46B78...|   null|                null|[, UC.6fc63c74eb4...|         null| profile_set|\n",
      "|UC.7175649925874e...|   null|                null|[, UC.71756499258...|         null| profile_set|\n",
      "|047EFA6C5BED4BA0B...|$SignUp|047EFA6C5BED4BA0B...|[,,,,,,,,,,,,,,,,...|1568800557536|track_signup|\n",
      "|047EFA6C5BED4BA0B...|   null|                null|[true, 882a4aa5d2...|         null| profile_set|\n",
      "|2FD26132BFD842DD8...|$SignUp|2FD26132BFD842DD8...|[,,,,,,,,,,,,,,,,...|1568800557536|track_signup|\n",
      "+--------------------+-------+--------------------+--------------------+-------------+------------+\n",
      "only showing top 20 rows\n",
      "\n"
     ]
    }
   ],
   "source": [
    "json_file.show()"
   ]
  },
  {
   "cell_type": "code",
   "execution_count": 44,
   "metadata": {},
   "outputs": [],
   "source": [
    "df=json_file.select(['properties.*'])"
   ]
  },
  {
   "cell_type": "code",
   "execution_count": 48,
   "metadata": {},
   "outputs": [
    {
     "name": "stdout",
     "output_type": "stream",
     "text": [
      "+------------+-------+--------+--------------+-------------+----------+-----+--------------+-------+--------------+----------+------+---------+------------+---------+-------+-----------+-------------+-------+----+-----------+----------+---------+---------+------------+-----+----------+-----------+---+-----+--------+-------------+--------+--------------+-----------+-----------+---+------+--------------+-------------+---------------+---------+----------------+------------------+-----------+-------------+-----------+-------------+---------+-------------+---------+--------------+---+-------------+---+-------+----+----------+\n",
      "|$is_login_id|account|app_code|auction_profit|baptise_infos|channel_id|charm|client_version|coin_id|coin_new_value|connect_id|copper|device_id|device_model|elf_infos|env_tag|equip_infos|fashion_level|game_id|gold|guild_level|guild_name|guild_uid|is_online|is_pay_first|is_zc|jade_infos|jewel_infos|job|level|log_type|login_in_time|login_ip|login_out_time|muhon_infos|online_time| os|os_ver|pay_gold_times|pay_last_time|pay_real_amount|pay_times|pay_total_amount|pay_virtual_amount|platform_id|rebirth_level|register_ip|register_time|role_name|sdk_accountid|server_id|server_version|sex|test_serverid|vip|vip_exp|wifi|wing_level|\n",
      "+------------+-------+--------+--------------+-------------+----------+-----+--------------+-------+--------------+----------+------+---------+------------+---------+-------+-----------+-------------+-------+----+-----------+----------+---------+---------+------------+-----+----------+-----------+---+-----+--------+-------------+--------+--------------+-----------+-----------+---+------+--------------+-------------+---------------+---------+----------------+------------------+-----------+-------------+-----------+-------------+---------+-------------+---------+--------------+---+-------------+---+-------+----+----------+\n",
      "|         nul|    UC.|       3|           nul|          nul|       104|  nul|           nul|    nul|           nul|         4|   nul|      ce7|         HUA|      nul|    nul|        nul|          nul|      1| nul|        nul|       nul|      nul|      nul|         nul|  nul|       nul|        nul|nul|  nul|     acc|          nul|     222|           nul|        nul|        nul|And|   And|           nul|          nul|            nul|      nul|             nul|               nul|          1|          nul|        117|          201|      nul|          nul|      102|           nul|nul|          nul|nul|    nul| nul|       nul|\n",
      "|         nul|    UC.|     nul|           nul|          nul|       104|  nul|           nul|    nul|           nul|         4|   nul|      86d|         HUA|      nul|    nul|        nul|          nul|      1| nul|        nul|       nul|      nul|      nul|         nul|  nul|       nul|        nul|nul|  nul|     acc|          nul|     117|           nul|        nul|        nul|And|   And|           nul|          nul|            nul|      nul|             nul|               nul|          1|          nul|        120|          201|      nul|          nul|      102|           nul|nul|          nul|nul|    nul| nul|       nul|\n",
      "|         nul|    UC.|       3|           nul|          nul|       104|  nul|           nul|    nul|           nul|         4|   nul|      78b|         OPP|      nul|    nul|        nul|          nul|      1| nul|        nul|       nul|      nul|      nul|         nul|  nul|       nul|        nul|nul|  nul|     acc|          nul|     112|           nul|        nul|        nul|And|   And|           nul|          nul|            nul|      nul|             nul|               nul|          1|          nul|        112|          201|      nul|          nul|      105|           nul|nul|          nul|nul|    nul| nul|       nul|\n",
      "|         nul|    nul|     nul|           nul|          nul|       nul|  nul|           nul|    nul|           nul|       nul|   nul|      nul|         nul|      nul|    nul|        nul|          nul|    nul| nul|        nul|       nul|      nul|      nul|         nul|  nul|       nul|        nul|nul|  nul|     nul|          nul|     nul|           nul|        nul|        nul|nul|   nul|           nul|          nul|            nul|      nul|             nul|               nul|        nul|          nul|        nul|          nul|      nul|          nul|      nul|           nul|nul|          nul|nul|    nul| nul|       nul|\n",
      "|         tru|    c87|     nul|           nul|          nul|       nul|  nul|           nul|    nul|           nul|       nul|   nul|      nul|         nul|      nul|    nul|        nul|            1|      1|   0|        nul|       nul|      nul|      fal|         nul|  nul|       nul|        nul|nul|  300|     rol|          201|     114|           201|        nul|         38|nul|   nul|           nul|          nul|            nul|      nul|             nul|               nul|          0|          nul|        nul|          nul|      nul|          nul|      101|           1.0|nul|          nul|  0|    nul| nul|       nul|\n",
      "|         nul|    nul|     nul|           nul|          nul|       nul|  nul|           nul|    nul|           nul|       nul|   nul|      nul|         nul|      nul|    nul|        nul|          nul|    nul| nul|        nul|       nul|      nul|      nul|         nul|  nul|       nul|        nul|nul|  nul|     nul|          nul|     nul|           nul|        nul|        nul|nul|   nul|           nul|          nul|            nul|      nul|             nul|               nul|        nul|          nul|        nul|          nul|      nul|          nul|      nul|           nul|nul|          nul|nul|    nul| nul|       nul|\n",
      "|         tru|    nul|     nul|           nul|          nul|       nul|  nul|           nul|    nul|           nul|       nul|   nul|      nul|         nul|      nul|    nul|        nul|          nul|    nul| nul|        nul|       nul|      nul|      nul|         nul|  Tru|       nul|        nul|nul|  nul|     nul|          nul|     nul|           nul|        nul|        nul|nul|   nul|           nul|          nul|            nul|      nul|             nul|               nul|        nul|          nul|        nul|          nul|      nul|          nul|      nul|           nul|nul|          nul|nul|    nul| nul|       nul|\n",
      "|         nul|    nul|     nul|           nul|          nul|       nul|  nul|           nul|    nul|           nul|       nul|   nul|      nul|         nul|      nul|    nul|        nul|          nul|    nul| nul|        nul|       nul|      nul|      nul|         nul|  nul|       nul|        nul|nul|  nul|     nul|          nul|     nul|           nul|        nul|        nul|nul|   nul|           nul|          nul|            nul|      nul|             nul|               nul|        nul|          nul|        nul|          nul|      nul|          nul|      nul|           nul|nul|          nul|nul|    nul| nul|       nul|\n",
      "|         tru|    ad7|     nul|           nul|          nul|         0|  nul|           nul|    nul|           nul|         0|     0|      nul|         nul|      nul|    nul|        nul|            1|      1|   0|        nul|       nul|      nul|      tru|         nul|  nul|       nul|        nul|  4|    1|     rol|          201|     114|           nul|        nul|        nul|nul|   nul|           nul|          nul|            nul|      nul|             nul|               nul|          0|          nul|        114|          201|   黎云雯|          nul|      101|           1.0|  2|          nul|  0|    nul| nul|       nul|\n",
      "|         nul|    UC.|     nul|           nul|          nul|       nul|  nul|           nul|    nul|           nul|       nul|   nul|      nul|         nul|      nul|    nul|        nul|          nul|    nul| nul|        nul|       nul|      nul|      nul|         nul|  nul|       nul|        nul|nul|  nul|     acc|          nul|     nul|           nul|        nul|        nul|nul|   nul|           nul|          nul|            nul|      nul|             nul|               nul|        nul|          nul|        183|          201|      nul|          nul|      nul|           nul|nul|          nul|nul|    nul| nul|       nul|\n",
      "|         nul|    XG.|     nul|           nul|          nul|       107|  nul|           com|      0|           800|        10|     0|      f67|         OPP|      nul|    nul|        nul|            1|      1|   0|        nul|       nul|      nul|      fal|         nul|  nul|       nul|        nul|  1|   38|     rol|          201|     223|           201|        nul|         70|And|   And|           nul|          nul|            nul|      nul|             nul|               nul|          0|          nul|        223|          201|   颜新晨|          nul|      104|           1.0|  1|          nul|  0|    nul| tru|       nul|\n",
      "|         nul|    UC.|     nul|           nul|          nul|       104|  nul|           nul|    nul|           nul|         4|   nul|      396|         sam|      nul|    nul|        nul|          nul|      1| nul|        nul|       nul|      nul|      nul|         nul|  nul|       nul|        nul|nul|  nul|     acc|          nul|     119|           nul|        nul|        nul|And|   And|           nul|          nul|            nul|      nul|             nul|               nul|          1|          nul|        119|          201|      nul|          nul|      102|           nul|nul|          nul|nul|    nul| nul|       nul|\n",
      "|         nul|    XG.|       1|           nul|          nul|       107|  nul|           nul|    nul|           nul|        10|   nul|      809|         Xia|      nul|    nul|        nul|          nul|      1| nul|        nul|       nul|      nul|      nul|         nul|  nul|       nul|        nul|nul|  nul|     acc|          nul|     113|           nul|        nul|        nul|And|   And|           nul|          nul|            nul|      nul|             nul|               nul|          4|          nul|        113|          201|      nul|          nul|      104|           nul|nul|          nul|nul|    nul| nul|       nul|\n",
      "|         nul|    UC.|       3|           nul|          nul|       104|  nul|           nul|    nul|           nul|         4|   nul|      160|         HUA|      nul|    nul|        nul|          nul|      1| nul|        nul|       nul|      nul|      nul|         nul|  nul|       nul|        nul|nul|  nul|     acc|          nul|     49.|           nul|        nul|        nul|And|   And|           nul|          nul|            nul|      nul|             nul|               nul|          1|          nul|        36.|          201|      nul|          nul|      105|           nul|nul|          nul|nul|    nul| nul|       nul|\n",
      "|         nul|    543|     nul|           nul|          nul|       107|  nul|           com|      5|           800|        10|   133|      f72|         OPP|      nul|    nul|        nul|           63|      1|  16|        nul|       nul|      nul|      fal|         tru|  nul|       nul|        nul| 25|  260|     rol|          201|     14.|           201|        nul|        404|And|   And|           nul|          201|            288|        4|             288|                 0|          0|            2|        183|          201|     雪梦|          nul|      104|           1.0|  2|          nul|  0|    nul| tru|         3|\n",
      "|         nul|    UC.|     nul|           nul|          nul|       104|  nul|           com|      0|           100|         4|     0|      886|         viv|      nul|    nul|        nul|            3|      1| 550|        nul|       nul|      nul|      fal|         nul|  nul|       nul|        nul|  5|   63|     rol|          201|     144|           201|        nul|         31|And|   And|           nul|          nul|            nul|      nul|             nul|               nul|          0|          nul|        144|          201|   墨漓冫|          nul|      102|           1.0|  2|          nul|  1|    nul| tru|       nul|\n",
      "|         nul|    UC.|     nul|           nul|          nul|       nul|  nul|           nul|    nul|           nul|       nul|   nul|      nul|         nul|      nul|    nul|        nul|          nul|    nul| nul|        nul|       nul|      nul|      nul|         nul|  nul|       nul|        nul|nul|  nul|     acc|          nul|     nul|           nul|        nul|        nul|nul|   nul|           nul|          nul|            nul|      nul|             nul|               nul|        nul|          nul|        121|          201|      nul|          nul|      nul|           nul|nul|          nul|nul|    nul| nul|       nul|\n",
      "|         nul|    nul|     nul|           nul|          nul|       nul|  nul|           nul|    nul|           nul|       nul|   nul|      nul|         nul|      nul|    nul|        nul|          nul|    nul| nul|        nul|       nul|      nul|      nul|         nul|  nul|       nul|        nul|nul|  nul|     nul|          nul|     nul|           nul|        nul|        nul|nul|   nul|           nul|          nul|            nul|      nul|             nul|               nul|        nul|          nul|        nul|          nul|      nul|          nul|      nul|           nul|nul|          nul|nul|    nul| nul|       nul|\n",
      "|         tru|    882|     nul|           nul|          nul|         0|  nul|           nul|    nul|           nul|         0|     0|      nul|         nul|      nul|    nul|        nul|          nul|      1|   0|        nul|       nul|      nul|      fal|         nul|  nul|       nul|        nul|  1|    1|     rol|          201|     114|           201|        nul|          6|nul|   nul|           nul|          nul|            nul|      nul|             nul|               nul|          0|          nul|        114|          201|   广唯菱|          nul|      101|           1.0|  2|          nul|  0|    nul| nul|       nul|\n",
      "|         nul|    nul|     nul|           nul|          nul|       nul|  nul|           nul|    nul|           nul|       nul|   nul|      nul|         nul|      nul|    nul|        nul|          nul|    nul| nul|        nul|       nul|      nul|      nul|         nul|  nul|       nul|        nul|nul|  nul|     nul|          nul|     nul|           nul|        nul|        nul|nul|   nul|           nul|          nul|            nul|      nul|             nul|               nul|        nul|          nul|        nul|          nul|      nul|          nul|      nul|           nul|nul|          nul|nul|    nul| nul|       nul|\n",
      "+------------+-------+--------+--------------+-------------+----------+-----+--------------+-------+--------------+----------+------+---------+------------+---------+-------+-----------+-------------+-------+----+-----------+----------+---------+---------+------------+-----+----------+-----------+---+-----+--------+-------------+--------+--------------+-----------+-----------+---+------+--------------+-------------+---------------+---------+----------------+------------------+-----------+-------------+-----------+-------------+---------+-------------+---------+--------------+---+-------------+---+-------+----+----------+\n",
      "only showing top 20 rows\n",
      "\n"
     ]
    }
   ],
   "source": [
    "df.show(truncate=3)"
   ]
  },
  {
   "cell_type": "code",
   "execution_count": 40,
   "metadata": {},
   "outputs": [],
   "source": [
    "import databricks.koalas as ks"
   ]
  },
  {
   "cell_type": "code",
   "execution_count": 49,
   "metadata": {},
   "outputs": [],
   "source": [
    "df_profile=df.to_koalas()"
   ]
  },
  {
   "cell_type": "code",
   "execution_count": 50,
   "metadata": {},
   "outputs": [
    {
     "data": {
      "text/html": [
       "<div>\n",
       "<style scoped>\n",
       "    .dataframe tbody tr th:only-of-type {\n",
       "        vertical-align: middle;\n",
       "    }\n",
       "\n",
       "    .dataframe tbody tr th {\n",
       "        vertical-align: top;\n",
       "    }\n",
       "\n",
       "    .dataframe thead th {\n",
       "        text-align: right;\n",
       "    }\n",
       "</style>\n",
       "<table border=\"1\" class=\"dataframe\">\n",
       "  <thead>\n",
       "    <tr style=\"text-align: right;\">\n",
       "      <th></th>\n",
       "      <th>$is_login_id</th>\n",
       "      <th>account</th>\n",
       "      <th>app_code</th>\n",
       "      <th>auction_profit</th>\n",
       "      <th>baptise_infos</th>\n",
       "      <th>channel_id</th>\n",
       "      <th>charm</th>\n",
       "      <th>client_version</th>\n",
       "      <th>coin_id</th>\n",
       "      <th>coin_new_value</th>\n",
       "      <th>connect_id</th>\n",
       "      <th>copper</th>\n",
       "      <th>device_id</th>\n",
       "      <th>device_model</th>\n",
       "      <th>elf_infos</th>\n",
       "      <th>env_tag</th>\n",
       "      <th>equip_infos</th>\n",
       "      <th>fashion_level</th>\n",
       "      <th>game_id</th>\n",
       "      <th>gold</th>\n",
       "      <th>guild_level</th>\n",
       "      <th>guild_name</th>\n",
       "      <th>guild_uid</th>\n",
       "      <th>is_online</th>\n",
       "      <th>is_pay_first</th>\n",
       "      <th>is_zc</th>\n",
       "      <th>jade_infos</th>\n",
       "      <th>jewel_infos</th>\n",
       "      <th>job</th>\n",
       "      <th>level</th>\n",
       "      <th>log_type</th>\n",
       "      <th>login_in_time</th>\n",
       "      <th>login_ip</th>\n",
       "      <th>login_out_time</th>\n",
       "      <th>muhon_infos</th>\n",
       "      <th>online_time</th>\n",
       "      <th>os</th>\n",
       "      <th>os_ver</th>\n",
       "      <th>pay_gold_times</th>\n",
       "      <th>pay_last_time</th>\n",
       "      <th>pay_real_amount</th>\n",
       "      <th>pay_times</th>\n",
       "      <th>pay_total_amount</th>\n",
       "      <th>pay_virtual_amount</th>\n",
       "      <th>platform_id</th>\n",
       "      <th>rebirth_level</th>\n",
       "      <th>register_ip</th>\n",
       "      <th>register_time</th>\n",
       "      <th>role_name</th>\n",
       "      <th>sdk_accountid</th>\n",
       "      <th>server_id</th>\n",
       "      <th>server_version</th>\n",
       "      <th>sex</th>\n",
       "      <th>test_serverid</th>\n",
       "      <th>vip</th>\n",
       "      <th>vip_exp</th>\n",
       "      <th>wifi</th>\n",
       "      <th>wing_level</th>\n",
       "    </tr>\n",
       "  </thead>\n",
       "  <tbody>\n",
       "    <tr>\n",
       "      <th>0</th>\n",
       "      <td>None</td>\n",
       "      <td>UC.aed7566e01ed4fb99be03f980ff4293f</td>\n",
       "      <td>3.0</td>\n",
       "      <td>NaN</td>\n",
       "      <td>None</td>\n",
       "      <td>104.0</td>\n",
       "      <td>NaN</td>\n",
       "      <td>None</td>\n",
       "      <td>NaN</td>\n",
       "      <td>NaN</td>\n",
       "      <td>4.0</td>\n",
       "      <td>NaN</td>\n",
       "      <td>ce7a9c904768320eadee8dd238550dcb</td>\n",
       "      <td>HUAWEI FRD-AL00</td>\n",
       "      <td>None</td>\n",
       "      <td>None</td>\n",
       "      <td>None</td>\n",
       "      <td>NaN</td>\n",
       "      <td>1.0</td>\n",
       "      <td>NaN</td>\n",
       "      <td>NaN</td>\n",
       "      <td>None</td>\n",
       "      <td>None</td>\n",
       "      <td>None</td>\n",
       "      <td>None</td>\n",
       "      <td>None</td>\n",
       "      <td>None</td>\n",
       "      <td>None</td>\n",
       "      <td>NaN</td>\n",
       "      <td>NaN</td>\n",
       "      <td>account</td>\n",
       "      <td>None</td>\n",
       "      <td>222.188.128.144</td>\n",
       "      <td>None</td>\n",
       "      <td>None</td>\n",
       "      <td>NaN</td>\n",
       "      <td>Android</td>\n",
       "      <td>Android OS 8.0.0 / API-26 (HUAWEIFRD-AL00/535(...</td>\n",
       "      <td>NaN</td>\n",
       "      <td>None</td>\n",
       "      <td>NaN</td>\n",
       "      <td>NaN</td>\n",
       "      <td>NaN</td>\n",
       "      <td>NaN</td>\n",
       "      <td>1.0</td>\n",
       "      <td>NaN</td>\n",
       "      <td>117.63.92.26</td>\n",
       "      <td>2018-10-16 10:01:45.000</td>\n",
       "      <td>None</td>\n",
       "      <td>None</td>\n",
       "      <td>102.0</td>\n",
       "      <td>None</td>\n",
       "      <td>NaN</td>\n",
       "      <td>None</td>\n",
       "      <td>NaN</td>\n",
       "      <td>NaN</td>\n",
       "      <td>None</td>\n",
       "      <td>NaN</td>\n",
       "    </tr>\n",
       "    <tr>\n",
       "      <th>1</th>\n",
       "      <td>None</td>\n",
       "      <td>UC.3ea5453b6b6542f29bd9d46630a1a068</td>\n",
       "      <td>NaN</td>\n",
       "      <td>NaN</td>\n",
       "      <td>None</td>\n",
       "      <td>104.0</td>\n",
       "      <td>NaN</td>\n",
       "      <td>None</td>\n",
       "      <td>NaN</td>\n",
       "      <td>NaN</td>\n",
       "      <td>4.0</td>\n",
       "      <td>NaN</td>\n",
       "      <td>86de61c26d74836a0164e407daf62a98</td>\n",
       "      <td>HUAWEI CLT-AL01</td>\n",
       "      <td>None</td>\n",
       "      <td>None</td>\n",
       "      <td>None</td>\n",
       "      <td>NaN</td>\n",
       "      <td>1.0</td>\n",
       "      <td>NaN</td>\n",
       "      <td>NaN</td>\n",
       "      <td>None</td>\n",
       "      <td>None</td>\n",
       "      <td>None</td>\n",
       "      <td>None</td>\n",
       "      <td>None</td>\n",
       "      <td>None</td>\n",
       "      <td>None</td>\n",
       "      <td>NaN</td>\n",
       "      <td>NaN</td>\n",
       "      <td>account</td>\n",
       "      <td>None</td>\n",
       "      <td>117.136.41.73</td>\n",
       "      <td>None</td>\n",
       "      <td>None</td>\n",
       "      <td>NaN</td>\n",
       "      <td>Android OS</td>\n",
       "      <td>Android OS 8.1.0 / API-27 (HUAWEICLT-AL01/171(...</td>\n",
       "      <td>NaN</td>\n",
       "      <td>None</td>\n",
       "      <td>NaN</td>\n",
       "      <td>NaN</td>\n",
       "      <td>NaN</td>\n",
       "      <td>NaN</td>\n",
       "      <td>1.0</td>\n",
       "      <td>NaN</td>\n",
       "      <td>120.229.57.26</td>\n",
       "      <td>2018-10-16 09:59:30.000</td>\n",
       "      <td>None</td>\n",
       "      <td>None</td>\n",
       "      <td>102.0</td>\n",
       "      <td>None</td>\n",
       "      <td>NaN</td>\n",
       "      <td>None</td>\n",
       "      <td>NaN</td>\n",
       "      <td>NaN</td>\n",
       "      <td>None</td>\n",
       "      <td>NaN</td>\n",
       "    </tr>\n",
       "    <tr>\n",
       "      <th>2</th>\n",
       "      <td>None</td>\n",
       "      <td>UC.9f1d759b422b4442ac6b2c094c425390</td>\n",
       "      <td>3.0</td>\n",
       "      <td>NaN</td>\n",
       "      <td>None</td>\n",
       "      <td>104.0</td>\n",
       "      <td>NaN</td>\n",
       "      <td>None</td>\n",
       "      <td>NaN</td>\n",
       "      <td>NaN</td>\n",
       "      <td>4.0</td>\n",
       "      <td>NaN</td>\n",
       "      <td>78b4c4823b1833a4a4336ca8d4ded36d</td>\n",
       "      <td>OPPO OPPO R9s Plus</td>\n",
       "      <td>None</td>\n",
       "      <td>None</td>\n",
       "      <td>None</td>\n",
       "      <td>NaN</td>\n",
       "      <td>1.0</td>\n",
       "      <td>NaN</td>\n",
       "      <td>NaN</td>\n",
       "      <td>None</td>\n",
       "      <td>None</td>\n",
       "      <td>None</td>\n",
       "      <td>None</td>\n",
       "      <td>None</td>\n",
       "      <td>None</td>\n",
       "      <td>None</td>\n",
       "      <td>NaN</td>\n",
       "      <td>NaN</td>\n",
       "      <td>account</td>\n",
       "      <td>None</td>\n",
       "      <td>112.115.89.144</td>\n",
       "      <td>None</td>\n",
       "      <td>None</td>\n",
       "      <td>NaN</td>\n",
       "      <td>Android</td>\n",
       "      <td>Android OS 6.0.1 / API-23 (MMB29M/eng.root.201...</td>\n",
       "      <td>NaN</td>\n",
       "      <td>None</td>\n",
       "      <td>NaN</td>\n",
       "      <td>NaN</td>\n",
       "      <td>NaN</td>\n",
       "      <td>NaN</td>\n",
       "      <td>1.0</td>\n",
       "      <td>NaN</td>\n",
       "      <td>112.115.89.144</td>\n",
       "      <td>2018-12-18 12:19:42.000</td>\n",
       "      <td>None</td>\n",
       "      <td>None</td>\n",
       "      <td>105.0</td>\n",
       "      <td>None</td>\n",
       "      <td>NaN</td>\n",
       "      <td>None</td>\n",
       "      <td>NaN</td>\n",
       "      <td>NaN</td>\n",
       "      <td>None</td>\n",
       "      <td>NaN</td>\n",
       "    </tr>\n",
       "    <tr>\n",
       "      <th>3</th>\n",
       "      <td>None</td>\n",
       "      <td>None</td>\n",
       "      <td>NaN</td>\n",
       "      <td>NaN</td>\n",
       "      <td>None</td>\n",
       "      <td>NaN</td>\n",
       "      <td>NaN</td>\n",
       "      <td>None</td>\n",
       "      <td>NaN</td>\n",
       "      <td>NaN</td>\n",
       "      <td>NaN</td>\n",
       "      <td>NaN</td>\n",
       "      <td>None</td>\n",
       "      <td>None</td>\n",
       "      <td>None</td>\n",
       "      <td>None</td>\n",
       "      <td>None</td>\n",
       "      <td>NaN</td>\n",
       "      <td>NaN</td>\n",
       "      <td>NaN</td>\n",
       "      <td>NaN</td>\n",
       "      <td>None</td>\n",
       "      <td>None</td>\n",
       "      <td>None</td>\n",
       "      <td>None</td>\n",
       "      <td>None</td>\n",
       "      <td>None</td>\n",
       "      <td>None</td>\n",
       "      <td>NaN</td>\n",
       "      <td>NaN</td>\n",
       "      <td>None</td>\n",
       "      <td>None</td>\n",
       "      <td>None</td>\n",
       "      <td>None</td>\n",
       "      <td>None</td>\n",
       "      <td>NaN</td>\n",
       "      <td>None</td>\n",
       "      <td>None</td>\n",
       "      <td>NaN</td>\n",
       "      <td>None</td>\n",
       "      <td>NaN</td>\n",
       "      <td>NaN</td>\n",
       "      <td>NaN</td>\n",
       "      <td>NaN</td>\n",
       "      <td>NaN</td>\n",
       "      <td>NaN</td>\n",
       "      <td>None</td>\n",
       "      <td>None</td>\n",
       "      <td>None</td>\n",
       "      <td>None</td>\n",
       "      <td>NaN</td>\n",
       "      <td>None</td>\n",
       "      <td>NaN</td>\n",
       "      <td>None</td>\n",
       "      <td>NaN</td>\n",
       "      <td>NaN</td>\n",
       "      <td>None</td>\n",
       "      <td>NaN</td>\n",
       "    </tr>\n",
       "    <tr>\n",
       "      <th>4</th>\n",
       "      <td>True</td>\n",
       "      <td>c878e3d7ba1b44d28574b9a91451aed6</td>\n",
       "      <td>NaN</td>\n",
       "      <td>NaN</td>\n",
       "      <td>None</td>\n",
       "      <td>NaN</td>\n",
       "      <td>NaN</td>\n",
       "      <td>None</td>\n",
       "      <td>NaN</td>\n",
       "      <td>NaN</td>\n",
       "      <td>NaN</td>\n",
       "      <td>NaN</td>\n",
       "      <td>None</td>\n",
       "      <td>None</td>\n",
       "      <td>None</td>\n",
       "      <td>None</td>\n",
       "      <td>None</td>\n",
       "      <td>1.0</td>\n",
       "      <td>1.0</td>\n",
       "      <td>0.0</td>\n",
       "      <td>NaN</td>\n",
       "      <td>None</td>\n",
       "      <td>None</td>\n",
       "      <td>False</td>\n",
       "      <td>None</td>\n",
       "      <td>None</td>\n",
       "      <td>None</td>\n",
       "      <td>None</td>\n",
       "      <td>NaN</td>\n",
       "      <td>300.0</td>\n",
       "      <td>role</td>\n",
       "      <td>2019-01-24 15:18:51.000</td>\n",
       "      <td>114.219.22.46</td>\n",
       "      <td>2019-01-24 15:56:51.000</td>\n",
       "      <td>None</td>\n",
       "      <td>38.0</td>\n",
       "      <td>None</td>\n",
       "      <td>None</td>\n",
       "      <td>NaN</td>\n",
       "      <td>None</td>\n",
       "      <td>NaN</td>\n",
       "      <td>NaN</td>\n",
       "      <td>NaN</td>\n",
       "      <td>NaN</td>\n",
       "      <td>0.0</td>\n",
       "      <td>NaN</td>\n",
       "      <td>None</td>\n",
       "      <td>None</td>\n",
       "      <td>None</td>\n",
       "      <td>None</td>\n",
       "      <td>101.0</td>\n",
       "      <td>1.0</td>\n",
       "      <td>NaN</td>\n",
       "      <td>None</td>\n",
       "      <td>0.0</td>\n",
       "      <td>NaN</td>\n",
       "      <td>None</td>\n",
       "      <td>NaN</td>\n",
       "    </tr>\n",
       "  </tbody>\n",
       "</table>\n",
       "</div>"
      ],
      "text/plain": [
       "  $is_login_id                              account  app_code  auction_profit baptise_infos  channel_id  charm client_version  coin_id  coin_new_value  connect_id  copper                         device_id        device_model elf_infos env_tag equip_infos  fashion_level  game_id  gold  guild_level guild_name guild_uid is_online is_pay_first is_zc jade_infos jewel_infos  job  level log_type            login_in_time         login_ip           login_out_time muhon_infos  online_time          os                                                       os_ver  pay_gold_times pay_last_time  pay_real_amount  pay_times  pay_total_amount  pay_virtual_amount  platform_id  rebirth_level     register_ip            register_time role_name sdk_accountid  server_id server_version  sex test_serverid  vip  vip_exp  wifi  wing_level\n",
       "0         None  UC.aed7566e01ed4fb99be03f980ff4293f       3.0             NaN          None       104.0    NaN           None      NaN             NaN         4.0     NaN  ce7a9c904768320eadee8dd238550dcb     HUAWEI FRD-AL00      None    None        None            NaN      1.0   NaN          NaN       None      None      None         None  None       None        None  NaN    NaN  account                     None  222.188.128.144                     None        None          NaN     Android          Android OS 8.0.0 / API-26 (HUAWEIFRD-AL00/535(C00))             NaN          None              NaN        NaN               NaN                 NaN          1.0            NaN    117.63.92.26  2018-10-16 10:01:45.000      None          None      102.0           None  NaN          None  NaN      NaN  None         NaN\n",
       "1         None  UC.3ea5453b6b6542f29bd9d46630a1a068       NaN             NaN          None       104.0    NaN           None      NaN             NaN         4.0     NaN  86de61c26d74836a0164e407daf62a98     HUAWEI CLT-AL01      None    None        None            NaN      1.0   NaN          NaN       None      None      None         None  None       None        None  NaN    NaN  account                     None    117.136.41.73                     None        None          NaN  Android OS          Android OS 8.1.0 / API-27 (HUAWEICLT-AL01/171(C00))             NaN          None              NaN        NaN               NaN                 NaN          1.0            NaN   120.229.57.26  2018-10-16 09:59:30.000      None          None      102.0           None  NaN          None  NaN      NaN  None         NaN\n",
       "2         None  UC.9f1d759b422b4442ac6b2c094c425390       3.0             NaN          None       104.0    NaN           None      NaN             NaN         4.0     NaN  78b4c4823b1833a4a4336ca8d4ded36d  OPPO OPPO R9s Plus      None    None        None            NaN      1.0   NaN          NaN       None      None      None         None  None       None        None  NaN    NaN  account                     None   112.115.89.144                     None        None          NaN     Android  Android OS 6.0.1 / API-23 (MMB29M/eng.root.20181029.191836)             NaN          None              NaN        NaN               NaN                 NaN          1.0            NaN  112.115.89.144  2018-12-18 12:19:42.000      None          None      105.0           None  NaN          None  NaN      NaN  None         NaN\n",
       "3         None                                 None       NaN             NaN          None         NaN    NaN           None      NaN             NaN         NaN     NaN                              None                None      None    None        None            NaN      NaN   NaN          NaN       None      None      None         None  None       None        None  NaN    NaN     None                     None             None                     None        None          NaN        None                                                         None             NaN          None              NaN        NaN               NaN                 NaN          NaN            NaN            None                     None      None          None        NaN           None  NaN          None  NaN      NaN  None         NaN\n",
       "4         True     c878e3d7ba1b44d28574b9a91451aed6       NaN             NaN          None         NaN    NaN           None      NaN             NaN         NaN     NaN                              None                None      None    None        None            1.0      1.0   0.0          NaN       None      None     False         None  None       None        None  NaN  300.0     role  2019-01-24 15:18:51.000    114.219.22.46  2019-01-24 15:56:51.000        None         38.0        None                                                         None             NaN          None              NaN        NaN               NaN                 NaN          0.0            NaN            None                     None      None          None      101.0            1.0  NaN          None  0.0      NaN  None         NaN"
      ]
     },
     "execution_count": 50,
     "metadata": {},
     "output_type": "execute_result"
    }
   ],
   "source": [
    "df_profile.head()"
   ]
  },
  {
   "cell_type": "code",
   "execution_count": 51,
   "metadata": {},
   "outputs": [
    {
     "data": {
      "text/plain": [
       "1    4231\n",
       "3    3897\n",
       "5      63\n",
       "2       7\n",
       "Name: app_code, dtype: int64"
      ]
     },
     "execution_count": 51,
     "metadata": {},
     "output_type": "execute_result"
    }
   ],
   "source": [
    "df_profile['app_code'].value_counts()"
   ]
  },
  {
   "cell_type": "code",
   "execution_count": 54,
   "metadata": {},
   "outputs": [
    {
     "data": {
      "text/plain": [
       "10"
      ]
     },
     "execution_count": 54,
     "metadata": {},
     "output_type": "execute_result"
    }
   ],
   "source": [
    "rdd1.count()"
   ]
  },
  {
   "cell_type": "code",
   "execution_count": 55,
   "metadata": {},
   "outputs": [
    {
     "data": {
      "text/plain": [
       "[0, 1, 2, 3, 4, 5, 6, 7, 8, 9]"
      ]
     },
     "execution_count": 55,
     "metadata": {},
     "output_type": "execute_result"
    }
   ],
   "source": [
    "rdd1.collect()"
   ]
  },
  {
   "cell_type": "code",
   "execution_count": 56,
   "metadata": {},
   "outputs": [],
   "source": [
    "rdd2=sc.range(0, 1000, 1, 8)"
   ]
  },
  {
   "cell_type": "code",
   "execution_count": 57,
   "metadata": {},
   "outputs": [
    {
     "data": {
      "text/plain": [
       "8"
      ]
     },
     "execution_count": 57,
     "metadata": {},
     "output_type": "execute_result"
    }
   ],
   "source": [
    "rdd2.getNumPartitions()"
   ]
  },
  {
   "cell_type": "code",
   "execution_count": 59,
   "metadata": {},
   "outputs": [
    {
     "data": {
      "text/plain": [
       "999"
      ]
     },
     "execution_count": 59,
     "metadata": {},
     "output_type": "execute_result"
    }
   ],
   "source": [
    "rdd2.max()"
   ]
  },
  {
   "cell_type": "code",
   "execution_count": 60,
   "metadata": {},
   "outputs": [
    {
     "data": {
      "text/plain": [
       "0"
      ]
     },
     "execution_count": 60,
     "metadata": {},
     "output_type": "execute_result"
    }
   ],
   "source": [
    "rdd2.min()"
   ]
  },
  {
   "cell_type": "code",
   "execution_count": 62,
   "metadata": {},
   "outputs": [
    {
     "data": {
      "text/plain": [
       "[949, 64, 49, 412, 791, 367, 62, 267, 876, 30]"
      ]
     },
     "execution_count": 62,
     "metadata": {},
     "output_type": "execute_result"
    }
   ],
   "source": [
    "rdd2.takeSample(True, 10)"
   ]
  },
  {
   "cell_type": "code",
   "execution_count": 65,
   "metadata": {},
   "outputs": [],
   "source": [
    "ss=sc.textFile('shakespeare_all.txt')"
   ]
  },
  {
   "cell_type": "code",
   "execution_count": 66,
   "metadata": {},
   "outputs": [
    {
     "data": {
      "text/plain": [
       "169442"
      ]
     },
     "execution_count": 66,
     "metadata": {},
     "output_type": "execute_result"
    }
   ],
   "source": [
    "ss.count()"
   ]
  },
  {
   "cell_type": "code",
   "execution_count": 67,
   "metadata": {},
   "outputs": [
    {
     "data": {
      "text/plain": [
       "['Project Gutenberg’s The Complete Works of William Shakespeare, by William Shakespeare',\n",
       " '',\n",
       " 'This eBook is for the use of anyone anywhere in the United States and',\n",
       " 'most other parts of the world at no cost and with almost no restrictions',\n",
       " 'whatsoever.  You may copy it, give it away or re-use it under the terms']"
      ]
     },
     "execution_count": 67,
     "metadata": {},
     "output_type": "execute_result"
    }
   ],
   "source": [
    "ss.take(5)"
   ]
  },
  {
   "cell_type": "code",
   "execution_count": 68,
   "metadata": {},
   "outputs": [],
   "source": [
    "words=ss.flatMap(lambda x: x.split(' '))\n",
    "lowercase=words.map(lambda x: x.lower())\n",
    "allwords=lowercase.count()"
   ]
  },
  {
   "cell_type": "code",
   "execution_count": 69,
   "metadata": {},
   "outputs": [],
   "source": [
    "dist_words=lowercase.distinct().count()"
   ]
  },
  {
   "cell_type": "code",
   "execution_count": 70,
   "metadata": {},
   "outputs": [
    {
     "data": {
      "text/plain": [
       "1237651"
      ]
     },
     "execution_count": 70,
     "metadata": {},
     "output_type": "execute_result"
    }
   ],
   "source": [
    "allwords"
   ]
  },
  {
   "cell_type": "code",
   "execution_count": 71,
   "metadata": {},
   "outputs": [
    {
     "data": {
      "text/plain": [
       "67803"
      ]
     },
     "execution_count": 71,
     "metadata": {},
     "output_type": "execute_result"
    }
   ],
   "source": [
    "dist_words"
   ]
  },
  {
   "cell_type": "code",
   "execution_count": 78,
   "metadata": {},
   "outputs": [
    {
     "data": {
      "text/plain": [
       "['\\tTom’s', '\"', '\"', '\"', '\"', '\"', '\"', '\"', '\"', '\"']"
      ]
     },
     "execution_count": 78,
     "metadata": {},
     "output_type": "execute_result"
    }
   ],
   "source": [
    "words.filter(lambda x: len(x)>0).sortBy(lambda x:x[0].lower(), ascending=True).take(10) # 有空字符，无索引，要过滤"
   ]
  },
  {
   "cell_type": "code",
   "execution_count": 79,
   "metadata": {},
   "outputs": [
    {
     "data": {
      "text/plain": [
       "45"
      ]
     },
     "execution_count": 79,
     "metadata": {},
     "output_type": "execute_result"
    }
   ],
   "source": [
    "rdd1.reduce(lambda x, y: x+y)"
   ]
  },
  {
   "cell_type": "code",
   "execution_count": 81,
   "metadata": {},
   "outputs": [],
   "source": [
    "def printfunc(x):\n",
    "    print(x)"
   ]
  },
  {
   "cell_type": "code",
   "execution_count": 90,
   "metadata": {},
   "outputs": [],
   "source": [
    "longwords=words.filter(lambda x: len(x)>12)"
   ]
  },
  {
   "cell_type": "code",
   "execution_count": 91,
   "metadata": {},
   "outputs": [],
   "source": [
    "longwords.foreach(lambda x: printfunc(x))  # 返回在控台"
   ]
  },
  {
   "cell_type": "code",
   "execution_count": 92,
   "metadata": {},
   "outputs": [
    {
     "data": {
      "text/plain": [
       "['www.gutenberg.org.',\n",
       " 'self-substantial',\n",
       " 'never-resting',\n",
       " 'new-appearing',\n",
       " 'determination,']"
      ]
     },
     "execution_count": 92,
     "metadata": {},
     "output_type": "execute_result"
    }
   ],
   "source": [
    "longwords.take(5)"
   ]
  },
  {
   "cell_type": "code",
   "execution_count": 95,
   "metadata": {},
   "outputs": [],
   "source": [
    "import re"
   ]
  },
  {
   "cell_type": "code",
   "execution_count": 99,
   "metadata": {},
   "outputs": [],
   "source": [
    "flattened=ss.filter(lambda line: len(line)>0).flatMap(lambda line: re.split('\\W+', line))"
   ]
  },
  {
   "cell_type": "code",
   "execution_count": 100,
   "metadata": {},
   "outputs": [
    {
     "data": {
      "text/plain": [
       "['Project', 'Gutenberg', 's', 'The', 'Complete', 'Works']"
      ]
     },
     "execution_count": 100,
     "metadata": {},
     "output_type": "execute_result"
    }
   ],
   "source": [
    "flattened.take(6)"
   ]
  },
  {
   "cell_type": "code",
   "execution_count": 101,
   "metadata": {},
   "outputs": [],
   "source": [
    "kvpairs=flattened.filter(lambda word: len(word)>0).map(lambda word: (word.lower(), 1))"
   ]
  },
  {
   "cell_type": "code",
   "execution_count": 102,
   "metadata": {},
   "outputs": [
    {
     "data": {
      "text/plain": [
       "[('project', 1), ('gutenberg', 1), ('s', 1), ('the', 1), ('complete', 1)]"
      ]
     },
     "execution_count": 102,
     "metadata": {},
     "output_type": "execute_result"
    }
   ],
   "source": [
    "kvpairs.take(5)"
   ]
  },
  {
   "cell_type": "code",
   "execution_count": 103,
   "metadata": {},
   "outputs": [],
   "source": [
    "countsbyword=kvpairs.reduceByKey(lambda a, b: a+b).sortByKey(ascending=False)"
   ]
  },
  {
   "cell_type": "code",
   "execution_count": 104,
   "metadata": {},
   "outputs": [
    {
     "data": {
      "text/plain": [
       "[('être', 1),\n",
       " ('êtes', 3),\n",
       " ('été', 1),\n",
       " ('écus', 2),\n",
       " ('écoutez', 1),\n",
       " ('écolier', 1),\n",
       " ('échapper', 1),\n",
       " ('æson', 1),\n",
       " ('æneas', 1),\n",
       " ('æacides', 1)]"
      ]
     },
     "execution_count": 104,
     "metadata": {},
     "output_type": "execute_result"
    }
   ],
   "source": [
    "countsbyword.take(10)"
   ]
  },
  {
   "cell_type": "code",
   "execution_count": 107,
   "metadata": {},
   "outputs": [],
   "source": [
    "topwords=countsbyword.map(lambda x: (x[1], x[0])).sortByKey(ascending=False)"
   ]
  },
  {
   "cell_type": "code",
   "execution_count": 108,
   "metadata": {},
   "outputs": [
    {
     "data": {
      "text/plain": [
       "[(30214, 'the'),\n",
       " (28468, 'and'),\n",
       " (23946, 'i'),\n",
       " (21144, 'to'),\n",
       " (18842, 'of'),\n",
       " (16342, 'a'),\n",
       " (14693, 'you'),\n",
       " (13198, 'my'),\n",
       " (12382, 'in'),\n",
       " (12256, 'that')]"
      ]
     },
     "execution_count": 108,
     "metadata": {},
     "output_type": "execute_result"
    }
   ],
   "source": [
    "topwords.take(10)"
   ]
  },
  {
   "cell_type": "code",
   "execution_count": 112,
   "metadata": {},
   "outputs": [],
   "source": [
    "from pyspark.sql import SparkSession\n",
    "spark=SparkSession.builder.appName('sql app').enableHiveSupport().getOrCreate()"
   ]
  },
  {
   "cell_type": "code",
   "execution_count": 113,
   "metadata": {},
   "outputs": [
    {
     "name": "stdout",
     "output_type": "stream",
     "text": [
      "+---------+---+\n",
      "|       _1| _2|\n",
      "+---------+---+\n",
      "|     être|  1|\n",
      "|     êtes|  3|\n",
      "|      été|  1|\n",
      "|     écus|  2|\n",
      "|  écoutez|  1|\n",
      "|  écolier|  1|\n",
      "| échapper|  1|\n",
      "|     æson|  1|\n",
      "|    æneas|  1|\n",
      "|  æacides|  1|\n",
      "|        à| 11|\n",
      "|  zwounds|  7|\n",
      "|zwaggered|  1|\n",
      "|   zounds| 15|\n",
      "|     zone|  1|\n",
      "|  zodiacs|  1|\n",
      "|   zodiac|  1|\n",
      "|       zo|  1|\n",
      "|      zir|  2|\n",
      "|      zip|  1|\n",
      "+---------+---+\n",
      "only showing top 20 rows\n",
      "\n"
     ]
    }
   ],
   "source": [
    "spark.createDataFrame(countsbyword).show()"
   ]
  },
  {
   "cell_type": "code",
   "execution_count": 120,
   "metadata": {},
   "outputs": [
    {
     "data": {
      "text/plain": [
       "[Row($is_login_id=None, account='UC.aed7566e01ed4fb99be03f980ff4293f', app_code=3, auction_profit=None, baptise_infos=None, channel_id=104, charm=None, client_version=None, coin_id=None, coin_new_value=None, connect_id=4, copper=None, device_id='ce7a9c904768320eadee8dd238550dcb', device_model='HUAWEI FRD-AL00', elf_infos=None, env_tag=None, equip_infos=None, fashion_level=None, game_id=1, gold=None, guild_level=None, guild_name=None, guild_uid=None, is_online=None, is_pay_first=None, is_zc=None, jade_infos=None, jewel_infos=None, job=None, level=None, log_type='account', login_in_time=None, login_ip='222.188.128.144', login_out_time=None, muhon_infos=None, online_time=None, os='Android', os_ver='Android OS 8.0.0 / API-26 (HUAWEIFRD-AL00/535(C00))', pay_gold_times=None, pay_last_time=None, pay_real_amount=None, pay_times=None, pay_total_amount=None, pay_virtual_amount=None, platform_id=1, rebirth_level=None, register_ip='117.63.92.26', register_time='2018-10-16 10:01:45.000', role_name=None, sdk_accountid=None, server_id=102, server_version=None, sex=None, test_serverid=None, vip=None, vip_exp=None, wifi=None, wing_level=None),\n",
       " Row($is_login_id=None, account='UC.3ea5453b6b6542f29bd9d46630a1a068', app_code=None, auction_profit=None, baptise_infos=None, channel_id=104, charm=None, client_version=None, coin_id=None, coin_new_value=None, connect_id=4, copper=None, device_id='86de61c26d74836a0164e407daf62a98', device_model='HUAWEI CLT-AL01', elf_infos=None, env_tag=None, equip_infos=None, fashion_level=None, game_id=1, gold=None, guild_level=None, guild_name=None, guild_uid=None, is_online=None, is_pay_first=None, is_zc=None, jade_infos=None, jewel_infos=None, job=None, level=None, log_type='account', login_in_time=None, login_ip='117.136.41.73', login_out_time=None, muhon_infos=None, online_time=None, os='Android OS', os_ver='Android OS 8.1.0 / API-27 (HUAWEICLT-AL01/171(C00))', pay_gold_times=None, pay_last_time=None, pay_real_amount=None, pay_times=None, pay_total_amount=None, pay_virtual_amount=None, platform_id=1, rebirth_level=None, register_ip='120.229.57.26', register_time='2018-10-16 09:59:30.000', role_name=None, sdk_accountid=None, server_id=102, server_version=None, sex=None, test_serverid=None, vip=None, vip_exp=None, wifi=None, wing_level=None),\n",
       " Row($is_login_id=None, account='UC.9f1d759b422b4442ac6b2c094c425390', app_code=3, auction_profit=None, baptise_infos=None, channel_id=104, charm=None, client_version=None, coin_id=None, coin_new_value=None, connect_id=4, copper=None, device_id='78b4c4823b1833a4a4336ca8d4ded36d', device_model='OPPO OPPO R9s Plus', elf_infos=None, env_tag=None, equip_infos=None, fashion_level=None, game_id=1, gold=None, guild_level=None, guild_name=None, guild_uid=None, is_online=None, is_pay_first=None, is_zc=None, jade_infos=None, jewel_infos=None, job=None, level=None, log_type='account', login_in_time=None, login_ip='112.115.89.144', login_out_time=None, muhon_infos=None, online_time=None, os='Android', os_ver='Android OS 6.0.1 / API-23 (MMB29M/eng.root.20181029.191836)', pay_gold_times=None, pay_last_time=None, pay_real_amount=None, pay_times=None, pay_total_amount=None, pay_virtual_amount=None, platform_id=1, rebirth_level=None, register_ip='112.115.89.144', register_time='2018-12-18 12:19:42.000', role_name=None, sdk_accountid=None, server_id=105, server_version=None, sex=None, test_serverid=None, vip=None, vip_exp=None, wifi=None, wing_level=None),\n",
       " Row($is_login_id=None, account=None, app_code=None, auction_profit=None, baptise_infos=None, channel_id=None, charm=None, client_version=None, coin_id=None, coin_new_value=None, connect_id=None, copper=None, device_id=None, device_model=None, elf_infos=None, env_tag=None, equip_infos=None, fashion_level=None, game_id=None, gold=None, guild_level=None, guild_name=None, guild_uid=None, is_online=None, is_pay_first=None, is_zc=None, jade_infos=None, jewel_infos=None, job=None, level=None, log_type=None, login_in_time=None, login_ip=None, login_out_time=None, muhon_infos=None, online_time=None, os=None, os_ver=None, pay_gold_times=None, pay_last_time=None, pay_real_amount=None, pay_times=None, pay_total_amount=None, pay_virtual_amount=None, platform_id=None, rebirth_level=None, register_ip=None, register_time=None, role_name=None, sdk_accountid=None, server_id=None, server_version=None, sex=None, test_serverid=None, vip=None, vip_exp=None, wifi=None, wing_level=None),\n",
       " Row($is_login_id=True, account='c878e3d7ba1b44d28574b9a91451aed6', app_code=None, auction_profit=None, baptise_infos=None, channel_id=None, charm=None, client_version=None, coin_id=None, coin_new_value=None, connect_id=None, copper=None, device_id=None, device_model=None, elf_infos=None, env_tag=None, equip_infos=None, fashion_level=1, game_id=1, gold=0, guild_level=None, guild_name=None, guild_uid=None, is_online=False, is_pay_first=None, is_zc=None, jade_infos=None, jewel_infos=None, job=None, level=300, log_type='role', login_in_time='2019-01-24 15:18:51.000', login_ip='114.219.22.46', login_out_time='2019-01-24 15:56:51.000', muhon_infos=None, online_time=38, os=None, os_ver=None, pay_gold_times=None, pay_last_time=None, pay_real_amount=None, pay_times=None, pay_total_amount=None, pay_virtual_amount=None, platform_id=0, rebirth_level=None, register_ip=None, register_time=None, role_name=None, sdk_accountid=None, server_id=101, server_version='1.0', sex=None, test_serverid=None, vip=0, vip_exp=None, wifi=None, wing_level=None)]"
      ]
     },
     "execution_count": 120,
     "metadata": {},
     "output_type": "execute_result"
    }
   ],
   "source": [
    "df.take(5)"
   ]
  },
  {
   "cell_type": "code",
   "execution_count": 121,
   "metadata": {},
   "outputs": [],
   "source": [
    "df.write.saveAsTable('profile_json')"
   ]
  },
  {
   "cell_type": "code",
   "execution_count": 122,
   "metadata": {},
   "outputs": [],
   "source": [
    "new=spark.table('profile_json')  # 本地spark保存在本地"
   ]
  },
  {
   "cell_type": "code",
   "execution_count": 123,
   "metadata": {},
   "outputs": [
    {
     "name": "stdout",
     "output_type": "stream",
     "text": [
      "+------------+--------------------+--------+--------------+-------------+----------+-----+--------------------+-------+--------------+----------+--------+--------------------+--------------------+--------------------+-------+--------------------+-------------+-------+----+-----------+----------+---------+---------+------------+-----+--------------------+--------------------+----+-----+--------+--------------------+---------------+--------------------+-----------+-----------+----------+--------------------+--------------+--------------------+---------------+---------+----------------+------------------+-----------+-------------+---------------+--------------------+----------+-------------+---------+--------------+----+-------------+----+-------+-----+----------+\n",
      "|$is_login_id|             account|app_code|auction_profit|baptise_infos|channel_id|charm|      client_version|coin_id|coin_new_value|connect_id|  copper|           device_id|        device_model|           elf_infos|env_tag|         equip_infos|fashion_level|game_id|gold|guild_level|guild_name|guild_uid|is_online|is_pay_first|is_zc|          jade_infos|         jewel_infos| job|level|log_type|       login_in_time|       login_ip|      login_out_time|muhon_infos|online_time|        os|              os_ver|pay_gold_times|       pay_last_time|pay_real_amount|pay_times|pay_total_amount|pay_virtual_amount|platform_id|rebirth_level|    register_ip|       register_time| role_name|sdk_accountid|server_id|server_version| sex|test_serverid| vip|vip_exp| wifi|wing_level|\n",
      "+------------+--------------------+--------+--------------+-------------+----------+-----+--------------------+-------+--------------+----------+--------+--------------------+--------------------+--------------------+-------+--------------------+-------------+-------+----+-----------+----------+---------+---------+------------+-----+--------------------+--------------------+----+-----+--------+--------------------+---------------+--------------------+-----------+-----------+----------+--------------------+--------------+--------------------+---------------+---------+----------------+------------------+-----------+-------------+---------------+--------------------+----------+-------------+---------+--------------+----+-------------+----+-------+-----+----------+\n",
      "|        null|UC.8d4c67ead04945...|    null|          null|         null|       104| null|                null|   null|          null|         4|    null|70bda2a4b7c7301c5...|    samsung sm-g9250|                null|   null|                null|         null|      1|null|       null|      null|     null|     null|        null| null|                null|                null|null| null| account|                null|  110.184.4.189|                null|       null|       null|Android OS|Android OS 5.1.1 ...|          null|                null|           null|     null|            null|              null|          1|         null|  110.184.4.189|2018-10-16 11:39:...|      null|         null|      102|          null|null|         null|null|   null| null|      null|\n",
      "|        null|B23BD69E0F9E42149...|    null|          null|         null|       104| null|com.yxsoda.xyj.al...|      5|          1100|         4| 8256589|465cb1c848d1e15a6...|     HUAWEI MHA-AL00|1:1,0;2:2,0;5:2,0...|   null|10350006:5,2,300;...|           66|      1|5068|          2|    英灵殿|     null|    false|        null| null|4001:10;4002:8;40...|3:3,4:6,5:20,6:1,7:1|  25|  370|    role|2018-12-25 23:29:...| 124.64.179.119|2018-12-25 23:42:...|       null|        590|Android OS|Android OS 8.0.0 ...|          null|                null|           null|     null|            null|              null|          0|            2| 124.64.176.156|2018-12-18 14:27:...|    を心怡|         null|      105|           1.0|   2|         null|   0| 479.43| true|        16|\n",
      "|        null|UC.94ebd147060b4d...|    null|          null|         null|       104| null|com.yxsoda.xyj.al...|      0|        101602|         4|       0|acfc79907bec5ee15...|OnePlus ONEPLUS A...|                null|   null|10310002:3,0,0;10...|            4|      1|1000|       null|  君临天下|     null|    false|        null| null|              4001:1|                null|   1|   64|    role|2018-12-19 19:49:...|   1.189.57.180|2018-12-19 20:19:...|       null|         29|Android OS|Android OS 5.1.1 ...|          null|                null|           null|     null|            null|              null|          0|         null|   1.189.57.180|2018-12-19 19:49:...|    易＿龙|         null|      102|           1.0|   1|         null|   1|   10.0| true|      null|\n",
      "|        null|UC.bb089d4505054f...|    null|          null|         null|       104| null|                null|   null|          null|         4|    null|4bac1aa1271301082...| vivo vivo X20Plus A|                null|   null|                null|         null|      1|null|       null|      null|     null|     null|        null| null|                null|                null|null| null| account|                null|  39.89.189.208|                null|       null|       null|Android OS|Android OS 7.1.1 ...|          null|                null|           null|     null|            null|              null|          1|         null|  39.89.189.208|2018-10-16 12:56:...|      null|         null|      102|          null|null|         null|null|   null| null|      null|\n",
      "|        null|699e62f56a104a4c9...|    null|          null|         null|         1| null|      com.yxsoda.xyj|      0|         50000|         1|       0|4ead8fd35eaab9a96...|     HUAWEI PLK-AL10|                null|   null|10310001:3,0,0;10...|            2|      1|   0|       null|      null|     null|    false|        null| null|                null|                null|   1|   24|    role|2018-12-27 10:57:...|  116.233.203.5|2018-12-27 11:13:...|       null|         15|Android OS|Android OS 5.0.2 ...|          null|                null|           null|     null|            null|              null|          0|         null|  116.233.203.5|2018-12-27 10:57:...|    浅＿卢|         null|      101|           1.0|   1|         null|   0|   null| true|      null|\n",
      "|        null|UC.5eeeb6e361284b...|    null|          null|         null|       104| null|com.yxsoda.xyj.al...|      8|          1600|         4|       0|9a12026c9dedb1310...|         Xiaomi MI 6|                null|   null|                null|            3|      1| 994|       null|      null|     null|    false|        null| null|                null|                null|   5|  143|    role|2018-10-16 10:43:...|  61.165.208.11|2018-10-16 12:24:...|       null|        100|Android OS|Android OS 8.0.0 ...|          null|                null|           null|     null|            null|              null|          0|         null|  61.165.208.11|2018-10-16 10:43:...|  白衣杉杉|         null|      102|           1.0|   2|         null|   4|   null| true|      null|\n",
      "|        null|XG.efa652e49fb943...|    null|          null|         null|       107| null|com.yxsoda.xyzg.j...|      3|            15|        10|    3778|a3610f8df185be1ef...|   Xiaomi MI 5s Plus|                null|   null|                null|           26|      1|   0|       null|      null|     null|    false|        null| null|                null|                null|   5|  103|    role|2018-11-07 18:22:...|  101.74.143.89|2018-11-07 19:02:...|       null|         82|Android OS|Android OS 7.0 / ...|          null|                null|           null|     null|            null|              null|          0|         null|183.199.223.148|2018-11-02 19:45:...|灵魂丶风语|         null|      104|           1.0|   2|         null|   0|   null| true|         2|\n",
      "|        null|UC.0676cb8b2be24b...|    null|          null|         null|       104| null|                null|   null|          null|         4|    null|44ad49296cddb640a...|      oppo oppo a53m|                null|   null|                null|         null|      1|null|       null|      null|     null|     null|        null| null|                null|                null|null| null| account|                null|  113.66.34.128|                null|       null|       null|Android OS|Android OS 5.1.1 ...|          null|                null|           null|     null|            null|              null|          1|         null|  113.66.34.128|2018-10-17 15:46:...|      null|         null|      102|          null|null|         null|null|   null| null|      null|\n",
      "|        null|UC.6f415a96df634e...|    null|          null|         null|       104| null|com.yxsoda.xyj.al...|      0|         59169|         4|       0|15ee430181b09ad88...|      Xiaomi MI 8 UD|                null|   null|                null|            1|      1|   0|       null|      null|     null|    false|        null| null|                null|                null|   1|   59|    role|2018-10-19 16:49:...|117.136.105.123|2018-10-19 17:11:...|       null|         22|Android OS|Android OS 8.1.0 ...|          null|                null|           null|     null|            null|              null|          0|         null|  222.88.203.69|2018-10-19 16:49:...|  ロ易立人|         null|      102|           1.0|   1|         null|   0|   null| true|      null|\n",
      "|        null|UC.1735d42feab34a...|    null|          null|         null|       104| null|com.yxsoda.xyj.al...|      0|         20000|         4|       0|567034a64690763bb...|     HUAWEI ANE-AL00|                null|   null|                null|            0|      1|2000|       null|      null|     null|    false|        null| null|                null|                null|   5|    3|    role|2018-10-18 08:38:...|  183.200.51.67|2018-10-18 08:45:...|       null|          7|Android OS|Android OS 8.0.0 ...|          null|                null|           null|     null|            null|              null|          0|         null|  183.200.51.67|2018-10-18 08:38:...|轩辕灬冰莹|         null|      102|           1.0|   2|         null|   0|   null| true|      null|\n",
      "|        null|XG.fa0c54f3e05c41...|    null|          null|         null|       107| null|com.yxsoda.xyzg.j...|      3|             5|        10| 4508799|52739694a3f7164c2...|       OPPO OPPO R11|                null|   null|                null|           27|      1|  60|       null|      null|     null|    false|        true| null|                null|                null|   5|   89|    role|2018-11-03 23:09:...|163.125.231.149|2018-11-03 23:28:...|       null|         37|Android OS|Android OS 7.1.1 ...|          null|2018-11-03 23:12:...|              6|        1|               6|                 0|          0|         null| 117.136.40.211|2018-11-02 20:19:...|彼岸つ甜畅|         null|      104|           1.0|   2|         null|   0|   null| true|      null|\n",
      "|        null|UC.3034ab307bcc46...|    null|          null|         null|      null| null|                null|   null|          null|      null|    null|                null|                null|                null|   null|                null|         null|   null|null|       null|      null|     null|     null|        null| null|                null|                null|null| null| account|                null|           null|                null|       null|       null|      null|                null|          null|                null|           null|     null|            null|              null|       null|         null|   58.55.144.27|2018-08-30 12:19:...|      null|         null|     null|          null|null|         null|null|   null| null|      null|\n",
      "|        null|UC.1a17d453b4514f...|    null|          null|         null|       104| null|com.yxsoda.xyj.al...|      0|         80000|         4| 4749998|07eb420541b5640dd...|       Meizu M6 Note|                null|   null|                null|           26|      1|5112|       null|      null|     null|    false|        null| null|                null|                null|   1|   52|    role|2018-10-21 01:36:...|     1.63.31.98|2018-10-21 01:45:...|       null|         16|Android OS|Android OS 7.1.2 ...|          null|                null|           null|     null|            null|              null|          0|         null|     1.63.31.98|2018-10-20 23:56:...|百里︶天佑|         null|      102|           1.0|   1|         null|   4|   null| true|      null|\n",
      "|        null|XG.11b7cc7306204e...|       1|          null|         null|       107| null|                null|   null|          null|        10|    null|22fd82f175b13a92b...|      vivo vivo Y71A|                null|   null|                null|         null|      1|null|       null|      null|     null|     null|        null| null|                null|                null|null| null| account|                null| 183.199.119.45|                null|       null|       null|   Android|Android OS 8.1.0 ...|          null|                null|           null|     null|            null|              null|          4|         null| 183.199.119.45|2018-11-03 06:27:...|      null|         null|      104|          null|null|         null|null|   null| null|      null|\n",
      "|        null|UC.7798735d12444c...|    null|          null|         null|      null| null|                null|   null|          null|      null|    null|                null|                null|                null|   null|                null|         null|   null|null|       null|      null|     null|     null|        null| null|                null|                null|null| null| account|                null|           null|                null|       null|       null|      null|                null|          null|                null|           null|     null|            null|              null|       null|         null|  36.40.101.213|2018-09-03 16:06:...|      null|         null|     null|          null|null|         null|null|   null| null|      null|\n",
      "|        null|UC.940c8da0d19440...|    null|          null|         null|       104| null|com.yxsoda.xyj.al...|      0|       1200000|         4|16830620|695ba6fb8e4423b47...|       vivo vivo X6D|                null|   null|                null|            3|      1|  48|       null|      null|     null|    false|        null| null|                null|                null|   1|  132|    role|2018-10-16 11:30:...|117.178.100.185|2018-10-16 12:48:...|       null|        151|Android OS|Android OS 5.1 / ...|          null|                null|           null|     null|            null|              null|          0|         null| 182.105.183.44|2018-10-16 10:09:...| 帅的sao气|         null|      102|           1.0|   1|         null|   4|   null|false|         2|\n",
      "|        null|C4D315AF57874F0B9...|    null|          null|         null|       104| null|com.yxsoda.xyj.al...|      5|           800|         4| 5969435|8a17d66d7d52efda7...|HUAWEI HUAWEI MLA...|                null|   null|10350004:3,1,60;1...|           13|      1|1050|       null|  惊声尖叫|     null|    false|        null| null|4001:9;4101:1;4002:1|             1:5,2:2|  15|  157|    role|2018-12-19 12:32:...| 218.75.213.136|2018-12-19 17:01:...|       null|        363|Android OS|Android OS 6.0 / ...|          null|                null|           null|     null|            null|              null|          0|            1| 36.157.165.102|2018-12-18 22:01:...| 令狐‖仙姝|         null|      105|           1.0|   2|         null|   0| 24.619| true|         2|\n",
      "|        null|ff1c41a020d14ff3b...|    null|          null|         null|         1| null|                null|      3|            50|        13|       0|1338ca2a00b664988...|        Netease MuMu|                null|   null|10310004:2,0,0;10...|            4|      1|   0|       null|      null|     null|    false|        null| null|              4001:1|                null|   1|  111|    role|2019-01-09 10:06:...|  49.64.211.242|2019-01-09 11:32:...|       null|         86|Android OS|Android OS 6.0.1 ...|          null|                null|           null|     null|            null|              null|          0|         null|  49.64.211.242|2019-01-09 10:06:...|    简灯笼|         null|      109|           1.0|   1|         null|   0|   null| true|      null|\n",
      "|        null|                null|    null|          null|         null|      null| null|                null|   null|          null|      null|    null|                null|                null|                null|   null|                null|         null|   null|null|       null|      null|     null|     null|        null| null|                null|                null|null| null|    null|                null|           null|                null|       null|       null|      null|                null|          null|                null|           null|     null|            null|              null|       null|         null|           null|                null|      null|         null|     null|          null|null|         null|null|   null| null|      null|\n",
      "|        true|                null|    null|          null|         null|      null| null|                null|   null|          null|      null|    null|                null|                null|                null|   null|                null|         null|   null|null|       null|      null|     null|     null|        null| True|                null|                null|null| null|    null|                null|           null|                null|       null|       null|      null|                null|          null|                null|           null|     null|            null|              null|       null|         null|           null|                null|      null|         null|     null|          null|null|         null|null|   null| null|      null|\n",
      "+------------+--------------------+--------+--------------+-------------+----------+-----+--------------------+-------+--------------+----------+--------+--------------------+--------------------+--------------------+-------+--------------------+-------------+-------+----+-----------+----------+---------+---------+------------+-----+--------------------+--------------------+----+-----+--------+--------------------+---------------+--------------------+-----------+-----------+----------+--------------------+--------------+--------------------+---------------+---------+----------------+------------------+-----------+-------------+---------------+--------------------+----------+-------------+---------+--------------+----+-------------+----+-------+-----+----------+\n",
      "only showing top 20 rows\n",
      "\n"
     ]
    }
   ],
   "source": [
    "new.show()"
   ]
  },
  {
   "cell_type": "code",
   "execution_count": 124,
   "metadata": {},
   "outputs": [
    {
     "name": "stdout",
     "output_type": "stream",
     "text": [
      "+--------+------------+-----------+\n",
      "|database|   tableName|isTemporary|\n",
      "+--------+------------+-----------+\n",
      "| default|profile_json|      false|\n",
      "+--------+------------+-----------+\n",
      "\n"
     ]
    }
   ],
   "source": [
    "spark.sql('show tables;').show()"
   ]
  },
  {
   "cell_type": "code",
   "execution_count": 1,
   "metadata": {},
   "outputs": [],
   "source": [
    "from pyspark import SparkConf, SparkContext\n",
    "from pyspark.sql import HiveContext\n",
    "\n",
    "conf = (SparkConf()\n",
    "         .setMaster('local[*]')\n",
    "         .setAppName(\"My hive app\")\n",
    "         .set(\"spark.executor.memory\", \"4g\"))\n",
    "sc = SparkContext(conf = conf)\n",
    "sqlContext = HiveContext(sc)"
   ]
  },
  {
   "cell_type": "code",
   "execution_count": 2,
   "metadata": {},
   "outputs": [
    {
     "name": "stdout",
     "output_type": "stream",
     "text": [
      "+---+-----+\n",
      "| id|value|\n",
      "+---+-----+\n",
      "|  1|  abc|\n",
      "|  2|  def|\n",
      "|  3|  ghi|\n",
      "+---+-----+\n",
      "\n"
     ]
    }
   ],
   "source": [
    "test_df = sqlContext.sql(\"Select * from test_db.test_table\")\n",
    "test_df.show()"
   ]
  },
  {
   "cell_type": "code",
   "execution_count": null,
   "metadata": {},
   "outputs": [],
   "source": [
    "import numpy as"
   ]
  }
 ],
 "metadata": {
  "kernelspec": {
   "display_name": "Python [conda env:spark_env]",
   "language": "python",
   "name": "conda-env-spark_env-py"
  },
  "language_info": {
   "codemirror_mode": {
    "name": "ipython",
    "version": 3
   },
   "file_extension": ".py",
   "mimetype": "text/x-python",
   "name": "python",
   "nbconvert_exporter": "python",
   "pygments_lexer": "ipython3",
   "version": "3.6.12"
  }
 },
 "nbformat": 4,
 "nbformat_minor": 4
}
