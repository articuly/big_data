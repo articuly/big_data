{
 "cells": [
  {
   "cell_type": "code",
   "execution_count": 2,
   "metadata": {},
   "outputs": [],
   "source": [
    "import pyspark\n",
    "sc = pyspark.SparkContext('local[*]')  # 按CPU个数的本地运行模式"
   ]
  },
  {
   "cell_type": "code",
   "execution_count": 3,
   "metadata": {},
   "outputs": [
    {
     "data": {
      "text/plain": [
       "[638, 307, 697, 701, 605]"
      ]
     },
     "execution_count": 3,
     "metadata": {},
     "output_type": "execute_result"
    }
   ],
   "source": [
    "rdd = sc.parallelize(range(1000))\n",
    "rdd.takeSample(False, 5)  # 无放回抽样"
   ]
  },
  {
   "cell_type": "code",
   "execution_count": 4,
   "metadata": {},
   "outputs": [
    {
     "data": {
      "text/plain": [
       "PythonRDD[3] at RDD at PythonRDD.scala:53"
      ]
     },
     "execution_count": 4,
     "metadata": {},
     "output_type": "execute_result"
    }
   ],
   "source": [
    "rdd"
   ]
  },
  {
   "cell_type": "code",
   "execution_count": 5,
   "metadata": {},
   "outputs": [],
   "source": [
    "numbers = range(16)"
   ]
  },
  {
   "cell_type": "code",
   "execution_count": 6,
   "metadata": {},
   "outputs": [],
   "source": [
    "rdd1 = sc.parallelize(numbers)"
   ]
  },
  {
   "cell_type": "code",
   "execution_count": 7,
   "metadata": {},
   "outputs": [
    {
     "data": {
      "text/plain": [
       "[0, 1, 2, 3, 4, 5, 6, 7, 8, 9, 10, 11, 12, 13, 14, 15]"
      ]
     },
     "execution_count": 7,
     "metadata": {},
     "output_type": "execute_result"
    }
   ],
   "source": [
    "rdd1.collect()"
   ]
  },
  {
   "cell_type": "code",
   "execution_count": 8,
   "metadata": {},
   "outputs": [
    {
     "data": {
      "text/plain": [
       "[0, 1, 2]"
      ]
     },
     "execution_count": 8,
     "metadata": {},
     "output_type": "execute_result"
    }
   ],
   "source": [
    "rdd1.take(3)"
   ]
  },
  {
   "cell_type": "code",
   "execution_count": 9,
   "metadata": {},
   "outputs": [
    {
     "data": {
      "text/plain": [
       "('shakespeare_all.txt', <http.client.HTTPMessage at 0x22ad45d8548>)"
      ]
     },
     "execution_count": 9,
     "metadata": {},
     "output_type": "execute_result"
    }
   ],
   "source": [
    "import urllib.request\n",
    "url = 'http://www.gutenberg.org/files/100/100-0.txt'\n",
    "urllib.request.urlretrieve(url, 'shakespeare_all.txt')"
   ]
  },
  {
   "cell_type": "code",
   "execution_count": 20,
   "metadata": {},
   "outputs": [
    {
     "data": {
      "text/plain": [
       "['Project Gutenberg’s The Complete Works of William Shakespeare, by William Shakespeare',\n",
       " '',\n",
       " 'This eBook is for the use of anyone anywhere in the United States and',\n",
       " 'most other parts of the world at no cost and with almost no restrictions',\n",
       " 'whatsoever.  You may copy it, give it away or re-use it under the terms',\n",
       " 'of the Project Gutenberg License included with this eBook or online at',\n",
       " 'www.gutenberg.org.  If you are not located in the United States, you’ll',\n",
       " 'have to check the laws of the country where you are located before using',\n",
       " 'this ebook.',\n",
       " '']"
      ]
     },
     "execution_count": 20,
     "metadata": {},
     "output_type": "execute_result"
    }
   ],
   "source": [
    "sc.textFile(\n",
    "    'file:///D:/Projects/python_projects/big_data/shakespeare_all.txt').take(\n",
    "        10)  # 无法读取则用绝对路经"
   ]
  },
  {
   "cell_type": "code",
   "execution_count": 26,
   "metadata": {},
   "outputs": [],
   "source": [
    "rdd1.saveAsTextFile('file:///D:/Projects/python_projects/big_data/numbers16.txt'\n",
    "                   )  # 保存文件夹，按分区分成文本"
   ]
  },
  {
   "cell_type": "code",
   "execution_count": 27,
   "metadata": {},
   "outputs": [
    {
     "data": {
      "text/plain": [
       "[0, 1, 4, 9, 16, 25, 36, 49, 64, 81, 100, 121, 144, 169, 196, 225]"
      ]
     },
     "execution_count": 27,
     "metadata": {},
     "output_type": "execute_result"
    }
   ],
   "source": [
    "def sq(x):\n",
    "    return x**2\n",
    "\n",
    "\n",
    "rdd1.map(sq).collect()"
   ]
  },
  {
   "cell_type": "code",
   "execution_count": 28,
   "metadata": {},
   "outputs": [
    {
     "data": {
      "text/plain": [
       "[0, 1, 8, 27, 64, 125, 216, 343, 512, 729, 1000, 1331, 1728, 2197, 2744, 3375]"
      ]
     },
     "execution_count": 28,
     "metadata": {},
     "output_type": "execute_result"
    }
   ],
   "source": [
    "rdd1.map(lambda x: x**3).collect()"
   ]
  },
  {
   "cell_type": "code",
   "execution_count": 29,
   "metadata": {},
   "outputs": [
    {
     "data": {
      "text/plain": [
       "1200"
      ]
     },
     "execution_count": 29,
     "metadata": {},
     "output_type": "execute_result"
    }
   ],
   "source": [
    "rdd1.map(lambda x: x*10).reduce(lambda a, b: a+b)"
   ]
  },
  {
   "cell_type": "code",
   "execution_count": 30,
   "metadata": {},
   "outputs": [
    {
     "data": {
      "text/plain": [
       "240"
      ]
     },
     "execution_count": 30,
     "metadata": {},
     "output_type": "execute_result"
    }
   ],
   "source": [
    "rdd1.map(lambda x: x*2).sum()"
   ]
  },
  {
   "cell_type": "code",
   "execution_count": 35,
   "metadata": {},
   "outputs": [
    {
     "data": {
      "text/plain": [
       "[('even', 0),\n",
       " ('odd', 1),\n",
       " ('even', 2),\n",
       " ('odd', 3),\n",
       " ('even', 4),\n",
       " ('odd', 5),\n",
       " ('even', 6),\n",
       " ('odd', 7),\n",
       " ('even', 8),\n",
       " ('odd', 9),\n",
       " ('even', 10),\n",
       " ('odd', 11),\n",
       " ('even', 12),\n",
       " ('odd', 13),\n",
       " ('even', 14),\n",
       " ('odd', 15)]"
      ]
     },
     "execution_count": 35,
     "metadata": {},
     "output_type": "execute_result"
    }
   ],
   "source": [
    "def tag(x):\n",
    "    return 'even' if x%2==0 else 'odd'\n",
    "\n",
    "rdd1.map(lambda x:(tag(x), x)).collect()"
   ]
  },
  {
   "cell_type": "code",
   "execution_count": 36,
   "metadata": {},
   "outputs": [
    {
     "data": {
      "text/plain": [
       "[('even', 56), ('odd', 64)]"
      ]
     },
     "execution_count": 36,
     "metadata": {},
     "output_type": "execute_result"
    }
   ],
   "source": [
    "rdd1.map(lambda x:(tag(x), x)).reduceByKey(lambda a, b: a+b).collect()"
   ]
  },
  {
   "cell_type": "code",
   "execution_count": 37,
   "metadata": {},
   "outputs": [
    {
     "data": {
      "text/plain": [
       "{'line': 169442, 'char': 5389109, 'words': 961565}"
      ]
     },
     "execution_count": 37,
     "metadata": {},
     "output_type": "execute_result"
    }
   ],
   "source": [
    "def emit_feats(line):\n",
    "    return [('char', len(line)), ('words', len(line.split())), ('line', 1)]\n",
    "\n",
    "\n",
    "sc.textFile('file:///D:/Projects/python_projects/big_data/shakespeare_all.txt'\n",
    "           ).flatMap(emit_feats).reduceByKey(lambda a, b: a + b).collectAsMap()"
   ]
  },
  {
   "cell_type": "code",
   "execution_count": 40,
   "metadata": {},
   "outputs": [
    {
     "data": {
      "text/plain": [
       "[('the', 30193),\n",
       " ('and', 28456),\n",
       " ('i', 23041),\n",
       " ('to', 21067),\n",
       " ('of', 18842),\n",
       " ('a', 16263),\n",
       " ('you', 14593),\n",
       " ('my', 13184),\n",
       " ('in', 12339),\n",
       " ('that', 12081),\n",
       " ('is', 9859),\n",
       " ('not', 9088),\n",
       " ('with', 8536),\n",
       " ('me', 8284),\n",
       " ('for', 8263),\n",
       " ('it', 8215),\n",
       " ('his', 7583),\n",
       " ('be', 7404),\n",
       " ('this', 7177),\n",
       " ('he', 7089),\n",
       " ('your', 7077),\n",
       " ('but', 6765),\n",
       " ('have', 6286),\n",
       " ('as', 6197),\n",
       " ('thou', 5878),\n",
       " ('him', 5562),\n",
       " ('so', 5466),\n",
       " ('will', 5308),\n",
       " ('what', 4992),\n",
       " ('s', 4758),\n",
       " ('her', 4603),\n",
       " ('d', 4594),\n",
       " ('thy', 4359),\n",
       " ('all', 4273),\n",
       " ('by', 4123),\n",
       " ('no', 4075),\n",
       " ('do', 3976),\n",
       " ('shall', 3848),\n",
       " ('if', 3810),\n",
       " ('we', 3762),\n",
       " ('are', 3742),\n",
       " ('on', 3438),\n",
       " ('thee', 3394),\n",
       " ('our', 3295),\n",
       " ('lord', 3190),\n",
       " ('king', 3035),\n",
       " ('now', 3026),\n",
       " ('sir', 3002),\n",
       " ('good', 2982),\n",
       " ('from', 2908),\n",
       " ('o', 2903),\n",
       " ('she', 2876),\n",
       " ('at', 2759),\n",
       " ('they', 2746),\n",
       " ('or', 2729),\n",
       " ('come', 2643),\n",
       " ('which', 2577),\n",
       " ('more', 2501),\n",
       " ('would', 2484),\n",
       " ('then', 2479),\n",
       " ('enter', 2475),\n",
       " ('was', 2450),\n",
       " ('here', 2404),\n",
       " ('love', 2400),\n",
       " ('well', 2389),\n",
       " ('their', 2376),\n",
       " ('let', 2375),\n",
       " ('how', 2325),\n",
       " ('am', 2295),\n",
       " ('_', 2251),\n",
       " ('when', 2222),\n",
       " ('there', 2213),\n",
       " ('them', 2120),\n",
       " ('hath', 2058),\n",
       " ('man', 2049),\n",
       " ('like', 2025),\n",
       " ('one', 1984),\n",
       " ('than', 1964),\n",
       " ('an', 1889),\n",
       " ('upon', 1870),\n",
       " ('know', 1824),\n",
       " ('say', 1820),\n",
       " ('may', 1815),\n",
       " ('make', 1794),\n",
       " ('did', 1784),\n",
       " ('go', 1770),\n",
       " ('us', 1767),\n",
       " ('yet', 1760),\n",
       " ('were', 1723),\n",
       " ('should', 1704),\n",
       " ('must', 1649),\n",
       " ('see', 1567),\n",
       " ('had', 1558),\n",
       " ('why', 1555),\n",
       " ('such', 1543),\n",
       " ('ll', 1519),\n",
       " ('out', 1515),\n",
       " ('where', 1445),\n",
       " ('some', 1445),\n",
       " ('give', 1436)]"
      ]
     },
     "execution_count": 40,
     "metadata": {},
     "output_type": "execute_result"
    }
   ],
   "source": [
    "import re\n",
    "WORD_RE=re.compile(r\"[\\w']+\")\n",
    "sc.textFile('file:///D:/Projects/python_projects/big_data/shakespeare_all.txt'\n",
    "           ).flatMap(lambda line: [(word.lower(), 1) for word in WORD_RE.findall(line)]).reduceByKey(lambda a, b: a+b).takeOrdered(100, key=lambda x: -x[1])"
   ]
  },
  {
   "cell_type": "code",
   "execution_count": null,
   "metadata": {},
   "outputs": [],
   "source": []
  }
 ],
 "metadata": {
  "kernelspec": {
   "display_name": "Python [conda env:spark_env]",
   "language": "python",
   "name": "conda-env-spark_env-py"
  },
  "language_info": {
   "codemirror_mode": {
    "name": "ipython",
    "version": 3
   },
   "file_extension": ".py",
   "mimetype": "text/x-python",
   "name": "python",
   "nbconvert_exporter": "python",
   "pygments_lexer": "ipython3",
   "version": "3.7.9"
  }
 },
 "nbformat": 4,
 "nbformat_minor": 4
}
