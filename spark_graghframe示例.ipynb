{
 "cells": [
  {
   "cell_type": "code",
   "execution_count": 2,
   "metadata": {},
   "outputs": [],
   "source": [
    "from functools import reduce\n",
    "import pyspark\n",
    "from pyspark.sql import SQLContext\n",
    "from pyspark.sql.functions import col, lit, when\n",
    "from graphframes import *"
   ]
  },
  {
   "cell_type": "code",
   "execution_count": 4,
   "metadata": {},
   "outputs": [],
   "source": [
    "sqlc = SQLContext(sc)"
   ]
  },
  {
   "cell_type": "code",
   "execution_count": 5,
   "metadata": {},
   "outputs": [],
   "source": [
    "vertices = sqlc.createDataFrame([\n",
    "  (\"a\", \"Alice\", 34),\n",
    "  (\"b\", \"Bob\", 36),\n",
    "  (\"c\", \"Charlie\", 30),\n",
    "  (\"d\", \"David\", 29),\n",
    "  (\"e\", \"Esther\", 32),\n",
    "  (\"f\", \"Fanny\", 36),\n",
    "  (\"g\", \"Gabby\", 60)], [\"id\", \"name\", \"age\"])"
   ]
  },
  {
   "cell_type": "code",
   "execution_count": 6,
   "metadata": {},
   "outputs": [
    {
     "name": "stdout",
     "output_type": "stream",
     "text": [
      "+---+-------+---+\n",
      "| id|   name|age|\n",
      "+---+-------+---+\n",
      "|  a|  Alice| 34|\n",
      "|  b|    Bob| 36|\n",
      "|  c|Charlie| 30|\n",
      "|  d|  David| 29|\n",
      "|  e| Esther| 32|\n",
      "|  f|  Fanny| 36|\n",
      "|  g|  Gabby| 60|\n",
      "+---+-------+---+\n",
      "\n"
     ]
    }
   ],
   "source": [
    "vertices.show()"
   ]
  },
  {
   "cell_type": "code",
   "execution_count": 7,
   "metadata": {},
   "outputs": [],
   "source": [
    "edges = sqlc.createDataFrame([\n",
    "  (\"a\", \"b\", \"friend\"),\n",
    "  (\"b\", \"c\", \"follow\"),\n",
    "  (\"c\", \"b\", \"follow\"),\n",
    "  (\"f\", \"c\", \"follow\"),\n",
    "  (\"e\", \"f\", \"follow\"),\n",
    "  (\"e\", \"d\", \"friend\"),\n",
    "  (\"d\", \"a\", \"friend\"),\n",
    "  (\"a\", \"e\", \"friend\")\n",
    "], [\"src\", \"dst\", \"relationship\"])"
   ]
  },
  {
   "cell_type": "code",
   "execution_count": 8,
   "metadata": {},
   "outputs": [
    {
     "name": "stdout",
     "output_type": "stream",
     "text": [
      "GraphFrame(v:[id: string, name: string ... 1 more field], e:[src: string, dst: string ... 1 more field])\n"
     ]
    }
   ],
   "source": [
    "g = GraphFrame(vertices, edges)\n",
    "print(g)"
   ]
  },
  {
   "cell_type": "code",
   "execution_count": 9,
   "metadata": {},
   "outputs": [
    {
     "name": "stdout",
     "output_type": "stream",
     "text": [
      "GraphFrame(v:[id: string, name: string ... 1 more field], e:[src: string, dst: string ... 1 more field])\n"
     ]
    }
   ],
   "source": [
    "# This example graph also comes with the GraphFrames package.\n",
    "from graphframes.examples import Graphs\n",
    "same_g = Graphs(sqlContext).friends()\n",
    "print(same_g)"
   ]
  },
  {
   "cell_type": "code",
   "execution_count": 10,
   "metadata": {},
   "outputs": [
    {
     "data": {
      "text/plain": [
       "DataFrame[id: string, name: string, age: bigint]"
      ]
     },
     "metadata": {},
     "output_type": "display_data"
    }
   ],
   "source": [
    "display(g.vertices)"
   ]
  },
  {
   "cell_type": "code",
   "execution_count": 11,
   "metadata": {},
   "outputs": [
    {
     "data": {
      "text/plain": [
       "DataFrame[src: string, dst: string, relationship: string]"
      ]
     },
     "metadata": {},
     "output_type": "display_data"
    }
   ],
   "source": [
    "display(g.edges)"
   ]
  },
  {
   "cell_type": "code",
   "execution_count": 12,
   "metadata": {},
   "outputs": [
    {
     "name": "stdout",
     "output_type": "stream",
     "text": [
      "+---+-------+---+\n",
      "| id|   name|age|\n",
      "+---+-------+---+\n",
      "|  a|  Alice| 34|\n",
      "|  b|    Bob| 36|\n",
      "|  c|Charlie| 30|\n",
      "|  d|  David| 29|\n",
      "|  e| Esther| 32|\n",
      "|  f|  Fanny| 36|\n",
      "|  g|  Gabby| 60|\n",
      "+---+-------+---+\n",
      "\n"
     ]
    }
   ],
   "source": [
    "g.vertices.show()"
   ]
  },
  {
   "cell_type": "code",
   "execution_count": 13,
   "metadata": {},
   "outputs": [
    {
     "name": "stdout",
     "output_type": "stream",
     "text": [
      "+---+---+------------+\n",
      "|src|dst|relationship|\n",
      "+---+---+------------+\n",
      "|  a|  b|      friend|\n",
      "|  b|  c|      follow|\n",
      "|  c|  b|      follow|\n",
      "|  f|  c|      follow|\n",
      "|  e|  f|      follow|\n",
      "|  e|  d|      friend|\n",
      "|  d|  a|      friend|\n",
      "|  a|  e|      friend|\n",
      "+---+---+------------+\n",
      "\n"
     ]
    }
   ],
   "source": [
    "g.edges.show()"
   ]
  },
  {
   "cell_type": "code",
   "execution_count": 14,
   "metadata": {},
   "outputs": [
    {
     "name": "stdout",
     "output_type": "stream",
     "text": [
      "+---+--------+\n",
      "| id|inDegree|\n",
      "+---+--------+\n",
      "|  f|       1|\n",
      "|  e|       1|\n",
      "|  d|       1|\n",
      "|  c|       2|\n",
      "|  b|       2|\n",
      "|  a|       1|\n",
      "+---+--------+\n",
      "\n"
     ]
    }
   ],
   "source": [
    "g.inDegrees.show()"
   ]
  },
  {
   "cell_type": "code",
   "execution_count": 15,
   "metadata": {},
   "outputs": [
    {
     "name": "stdout",
     "output_type": "stream",
     "text": [
      "+---+---------+\n",
      "| id|outDegree|\n",
      "+---+---------+\n",
      "|  f|        1|\n",
      "|  e|        2|\n",
      "|  d|        1|\n",
      "|  c|        1|\n",
      "|  b|        1|\n",
      "|  a|        2|\n",
      "+---+---------+\n",
      "\n"
     ]
    }
   ],
   "source": [
    "g.outDegrees.show()"
   ]
  },
  {
   "cell_type": "code",
   "execution_count": 16,
   "metadata": {},
   "outputs": [
    {
     "name": "stdout",
     "output_type": "stream",
     "text": [
      "+---+------+\n",
      "| id|degree|\n",
      "+---+------+\n",
      "|  f|     2|\n",
      "|  e|     3|\n",
      "|  d|     2|\n",
      "|  c|     3|\n",
      "|  b|     3|\n",
      "|  a|     3|\n",
      "+---+------+\n",
      "\n"
     ]
    }
   ],
   "source": [
    "g.degrees.show()"
   ]
  },
  {
   "cell_type": "code",
   "execution_count": 17,
   "metadata": {},
   "outputs": [
    {
     "name": "stdout",
     "output_type": "stream",
     "text": [
      "+--------+\n",
      "|min(age)|\n",
      "+--------+\n",
      "|      29|\n",
      "+--------+\n",
      "\n"
     ]
    }
   ],
   "source": [
    "youngest = g.vertices.groupBy().min(\"age\")\n",
    "youngest.show()"
   ]
  },
  {
   "cell_type": "code",
   "execution_count": 18,
   "metadata": {},
   "outputs": [
    {
     "name": "stdout",
     "output_type": "stream",
     "text": [
      "The number of follow edges is 4\n"
     ]
    }
   ],
   "source": [
    "numFollows = g.edges.filter(\"relationship = 'follow'\").count()\n",
    "print(\"The number of follow edges is\", numFollows)"
   ]
  },
  {
   "cell_type": "code",
   "execution_count": 19,
   "metadata": {},
   "outputs": [
    {
     "name": "stdout",
     "output_type": "stream",
     "text": [
      "+----------------+--------------+----------------+--------------+\n",
      "|               a|             e|               b|            e2|\n",
      "+----------------+--------------+----------------+--------------+\n",
      "|[c, Charlie, 30]|[c, b, follow]|    [b, Bob, 36]|[b, c, follow]|\n",
      "|    [b, Bob, 36]|[b, c, follow]|[c, Charlie, 30]|[c, b, follow]|\n",
      "+----------------+--------------+----------------+--------------+\n",
      "\n"
     ]
    }
   ],
   "source": [
    "motifs = g.find(\"(a)-[e]->(b); (b)-[e2]->(a)\")\n",
    "motifs.show()"
   ]
  },
  {
   "cell_type": "code",
   "execution_count": 20,
   "metadata": {},
   "outputs": [
    {
     "name": "stdout",
     "output_type": "stream",
     "text": [
      "+----------------+--------------+----------------+--------------+\n",
      "|               a|             e|               b|            e2|\n",
      "+----------------+--------------+----------------+--------------+\n",
      "|[c, Charlie, 30]|[c, b, follow]|    [b, Bob, 36]|[b, c, follow]|\n",
      "|    [b, Bob, 36]|[b, c, follow]|[c, Charlie, 30]|[c, b, follow]|\n",
      "+----------------+--------------+----------------+--------------+\n",
      "\n"
     ]
    }
   ],
   "source": [
    "filtered = motifs.filter(\"b.age > 30 or a.age > 30\")\n",
    "filtered.show()"
   ]
  },
  {
   "cell_type": "code",
   "execution_count": 21,
   "metadata": {},
   "outputs": [
    {
     "name": "stdout",
     "output_type": "stream",
     "text": [
      "+---------------+--------------+---------------+--------------+---------------+--------------+----------------+-----------+\n",
      "|              a|            ab|              b|            bc|              c|            cd|               d|num_friends|\n",
      "+---------------+--------------+---------------+--------------+---------------+--------------+----------------+-----------+\n",
      "| [d, David, 29]|[d, a, friend]| [a, Alice, 34]|[a, e, friend]|[e, Esther, 32]|[e, f, follow]|  [f, Fanny, 36]|          2|\n",
      "|[e, Esther, 32]|[e, d, friend]| [d, David, 29]|[d, a, friend]| [a, Alice, 34]|[a, e, friend]| [e, Esther, 32]|          3|\n",
      "| [d, David, 29]|[d, a, friend]| [a, Alice, 34]|[a, e, friend]|[e, Esther, 32]|[e, d, friend]|  [d, David, 29]|          3|\n",
      "| [d, David, 29]|[d, a, friend]| [a, Alice, 34]|[a, b, friend]|   [b, Bob, 36]|[b, c, follow]|[c, Charlie, 30]|          2|\n",
      "|[e, Esther, 32]|[e, d, friend]| [d, David, 29]|[d, a, friend]| [a, Alice, 34]|[a, b, friend]|    [b, Bob, 36]|          3|\n",
      "| [a, Alice, 34]|[a, e, friend]|[e, Esther, 32]|[e, d, friend]| [d, David, 29]|[d, a, friend]|  [a, Alice, 34]|          3|\n",
      "+---------------+--------------+---------------+--------------+---------------+--------------+----------------+-----------+\n",
      "\n"
     ]
    }
   ],
   "source": [
    "# Find chains of 4 vertices.\n",
    "chain4 = g.find(\"(a)-[ab]->(b); (b)-[bc]->(c); (c)-[cd]->(d)\")\n",
    "\n",
    "# Query on sequence, with state (cnt)\n",
    "#  (a) Define method for updating state given the next element of the motif.\n",
    "def cumFriends(cnt, edge):\n",
    "  relationship = col(edge)[\"relationship\"]\n",
    "  return when(relationship == \"friend\", cnt + 1).otherwise(cnt)\n",
    "\n",
    "#  (b) Use sequence operation to apply method to sequence of elements in motif.\n",
    "#   In this case, the elements are the 3 edges.\n",
    "edges = [\"ab\", \"bc\", \"cd\"]\n",
    "numFriends = reduce(cumFriends, edges, lit(0))\n",
    "    \n",
    "chainWith2Friends2 = chain4.withColumn(\"num_friends\", numFriends).where(numFriends >= 2)\n",
    "chainWith2Friends2.show()"
   ]
  },
  {
   "cell_type": "code",
   "execution_count": 22,
   "metadata": {},
   "outputs": [],
   "source": [
    "g2 = g.filterEdges(\"relationship = 'friend'\").filterVertices(\"age > 30\").dropIsolatedVertices()"
   ]
  },
  {
   "cell_type": "code",
   "execution_count": 23,
   "metadata": {},
   "outputs": [
    {
     "name": "stdout",
     "output_type": "stream",
     "text": [
      "+---+------+---+\n",
      "| id|  name|age|\n",
      "+---+------+---+\n",
      "|  e|Esther| 32|\n",
      "|  b|   Bob| 36|\n",
      "|  a| Alice| 34|\n",
      "+---+------+---+\n",
      "\n"
     ]
    }
   ],
   "source": [
    "g2.vertices.show()"
   ]
  },
  {
   "cell_type": "code",
   "execution_count": 24,
   "metadata": {},
   "outputs": [
    {
     "name": "stdout",
     "output_type": "stream",
     "text": [
      "+---+---+------------+\n",
      "|src|dst|relationship|\n",
      "+---+---+------------+\n",
      "|  a|  e|      friend|\n",
      "|  a|  b|      friend|\n",
      "+---+---+------------+\n",
      "\n"
     ]
    }
   ],
   "source": [
    "g2.edges.show()"
   ]
  },
  {
   "cell_type": "code",
   "execution_count": 25,
   "metadata": {},
   "outputs": [
    {
     "name": "stdout",
     "output_type": "stream",
     "text": [
      "+---------------+--------------+--------------+\n",
      "|           from|            e0|            to|\n",
      "+---------------+--------------+--------------+\n",
      "|[e, Esther, 32]|[e, d, friend]|[d, David, 29]|\n",
      "+---------------+--------------+--------------+\n",
      "\n"
     ]
    }
   ],
   "source": [
    "paths = g.bfs(\"name = 'Esther'\", \"age < 32\")\n",
    "paths.show()"
   ]
  },
  {
   "cell_type": "code",
   "execution_count": 26,
   "metadata": {},
   "outputs": [
    {
     "name": "stdout",
     "output_type": "stream",
     "text": [
      "+---------------+--------------+--------------+--------------+----------------+\n",
      "|           from|            e0|            v1|            e1|              to|\n",
      "+---------------+--------------+--------------+--------------+----------------+\n",
      "|[e, Esther, 32]|[e, f, follow]|[f, Fanny, 36]|[f, c, follow]|[c, Charlie, 30]|\n",
      "+---------------+--------------+--------------+--------------+----------------+\n",
      "\n"
     ]
    }
   ],
   "source": [
    "filteredPaths = g.bfs(\n",
    "  fromExpr = \"name = 'Esther'\",\n",
    "  toExpr = \"age < 32\",\n",
    "  edgeFilter = \"relationship != 'friend'\",\n",
    "  maxPathLength = 3)\n",
    "filteredPaths.show()"
   ]
  },
  {
   "cell_type": "code",
   "execution_count": 28,
   "metadata": {},
   "outputs": [
    {
     "name": "stdout",
     "output_type": "stream",
     "text": [
      "+---+-------+---+------------+\n",
      "| id|   name|age|   component|\n",
      "+---+-------+---+------------+\n",
      "|  a|  Alice| 34|412316860416|\n",
      "|  b|    Bob| 36|412316860416|\n",
      "|  c|Charlie| 30|412316860416|\n",
      "|  d|  David| 29|412316860416|\n",
      "|  e| Esther| 32|412316860416|\n",
      "|  f|  Fanny| 36|412316860416|\n",
      "|  g|  Gabby| 60|146028888064|\n",
      "+---+-------+---+------------+\n",
      "\n"
     ]
    }
   ],
   "source": [
    "sc.setCheckpointDir(\"/tmp/graphframes-example-connected-components\")\n",
    "result = g.connectedComponents()\n",
    "result.show()"
   ]
  },
  {
   "cell_type": "code",
   "execution_count": 29,
   "metadata": {},
   "outputs": [
    {
     "name": "stdout",
     "output_type": "stream",
     "text": [
      "+---+-------------+\n",
      "| id|    component|\n",
      "+---+-------------+\n",
      "|  g| 146028888064|\n",
      "|  b|1047972020224|\n",
      "|  e| 670014898176|\n",
      "|  a| 670014898176|\n",
      "|  f| 412316860416|\n",
      "|  d| 670014898176|\n",
      "|  c|1047972020224|\n",
      "+---+-------------+\n",
      "\n"
     ]
    }
   ],
   "source": [
    "result = g.stronglyConnectedComponents(maxIter=10)\n",
    "result.select(\"id\", \"component\").show()"
   ]
  },
  {
   "cell_type": "code",
   "execution_count": 30,
   "metadata": {},
   "outputs": [
    {
     "name": "stdout",
     "output_type": "stream",
     "text": [
      "+---+-------+---+-------------+\n",
      "| id|   name|age|        label|\n",
      "+---+-------+---+-------------+\n",
      "|  g|  Gabby| 60| 146028888064|\n",
      "|  b|    Bob| 36|1047972020224|\n",
      "|  e| Esther| 32|1382979469312|\n",
      "|  a|  Alice| 34|1382979469312|\n",
      "|  f|  Fanny| 36|1460288880640|\n",
      "|  d|  David| 29|1460288880640|\n",
      "|  c|Charlie| 30|1382979469312|\n",
      "+---+-------+---+-------------+\n",
      "\n"
     ]
    }
   ],
   "source": [
    "result = g.labelPropagation(maxIter=5)\n",
    "result.show()"
   ]
  },
  {
   "cell_type": "code",
   "execution_count": 31,
   "metadata": {},
   "outputs": [
    {
     "name": "stdout",
     "output_type": "stream",
     "text": [
      "+---+-------+---+-------------------+\n",
      "| id|   name|age|           pagerank|\n",
      "+---+-------+---+-------------------+\n",
      "|  g|  Gabby| 60| 0.1799821386239711|\n",
      "|  b|    Bob| 36|  2.655507832863289|\n",
      "|  e| Esther| 32|0.37085233187676075|\n",
      "|  a|  Alice| 34|0.44910633706538744|\n",
      "|  f|  Fanny| 36| 0.3283606792049851|\n",
      "|  d|  David| 29| 0.3283606792049851|\n",
      "|  c|Charlie| 30| 2.6878300011606218|\n",
      "+---+-------+---+-------------------+\n",
      "\n"
     ]
    }
   ],
   "source": [
    "results = g.pageRank(resetProbability=0.15, tol=0.01)\n",
    "results.vertices.show()"
   ]
  },
  {
   "cell_type": "code",
   "execution_count": 32,
   "metadata": {},
   "outputs": [
    {
     "name": "stdout",
     "output_type": "stream",
     "text": [
      "+---+---+------------+------+\n",
      "|src|dst|relationship|weight|\n",
      "+---+---+------------+------+\n",
      "|  a|  b|      friend|   0.5|\n",
      "|  b|  c|      follow|   1.0|\n",
      "|  e|  f|      follow|   0.5|\n",
      "|  e|  d|      friend|   0.5|\n",
      "|  c|  b|      follow|   1.0|\n",
      "|  a|  e|      friend|   0.5|\n",
      "|  f|  c|      follow|   1.0|\n",
      "|  d|  a|      friend|   1.0|\n",
      "+---+---+------------+------+\n",
      "\n"
     ]
    }
   ],
   "source": [
    "results.edges.show()"
   ]
  },
  {
   "cell_type": "code",
   "execution_count": 33,
   "metadata": {},
   "outputs": [
    {
     "data": {
      "text/plain": [
       "GraphFrame(v:[id: string, name: string ... 2 more fields], e:[src: string, dst: string ... 2 more fields])"
      ]
     },
     "execution_count": 33,
     "metadata": {},
     "output_type": "execute_result"
    }
   ],
   "source": [
    "# Run PageRank for a fixed number of iterations.\n",
    "g.pageRank(resetProbability=0.15, maxIter=10)"
   ]
  },
  {
   "cell_type": "code",
   "execution_count": 34,
   "metadata": {},
   "outputs": [
    {
     "data": {
      "text/plain": [
       "GraphFrame(v:[id: string, name: string ... 2 more fields], e:[src: string, dst: string ... 2 more fields])"
      ]
     },
     "execution_count": 34,
     "metadata": {},
     "output_type": "execute_result"
    }
   ],
   "source": [
    "g.pageRank(resetProbability=0.15, maxIter=10, sourceId=\"a\")"
   ]
  },
  {
   "cell_type": "code",
   "execution_count": 35,
   "metadata": {},
   "outputs": [
    {
     "name": "stdout",
     "output_type": "stream",
     "text": [
      "+---+-------+---+----------------+\n",
      "| id|   name|age|       distances|\n",
      "+---+-------+---+----------------+\n",
      "|  g|  Gabby| 60|              []|\n",
      "|  b|    Bob| 36|              []|\n",
      "|  e| Esther| 32|[a -> 2, d -> 1]|\n",
      "|  a|  Alice| 34|[a -> 0, d -> 2]|\n",
      "|  f|  Fanny| 36|              []|\n",
      "|  d|  David| 29|[a -> 1, d -> 0]|\n",
      "|  c|Charlie| 30|              []|\n",
      "+---+-------+---+----------------+\n",
      "\n"
     ]
    }
   ],
   "source": [
    "results = g.shortestPaths(landmarks=[\"a\", \"d\"])\n",
    "results.show()"
   ]
  },
  {
   "cell_type": "code",
   "execution_count": 36,
   "metadata": {},
   "outputs": [
    {
     "name": "stdout",
     "output_type": "stream",
     "text": [
      "+-----+---+-------+---+\n",
      "|count| id|   name|age|\n",
      "+-----+---+-------+---+\n",
      "|    0|  g|  Gabby| 60|\n",
      "|    0|  f|  Fanny| 36|\n",
      "|    1|  e| Esther| 32|\n",
      "|    1|  d|  David| 29|\n",
      "|    0|  c|Charlie| 30|\n",
      "|    0|  b|    Bob| 36|\n",
      "|    1|  a|  Alice| 34|\n",
      "+-----+---+-------+---+\n",
      "\n"
     ]
    }
   ],
   "source": [
    "results = g.triangleCount()\n",
    "results.show()"
   ]
  },
  {
   "cell_type": "code",
   "execution_count": null,
   "metadata": {},
   "outputs": [],
   "source": []
  }
 ],
 "metadata": {
  "kernelspec": {
   "display_name": "Python [conda env:spark_env]",
   "language": "python",
   "name": "conda-env-spark_env-py"
  },
  "language_info": {
   "codemirror_mode": {
    "name": "ipython",
    "version": 3
   },
   "file_extension": ".py",
   "mimetype": "text/x-python",
   "name": "python",
   "nbconvert_exporter": "python",
   "pygments_lexer": "ipython3",
   "version": "3.6.12"
  }
 },
 "nbformat": 4,
 "nbformat_minor": 4
}
