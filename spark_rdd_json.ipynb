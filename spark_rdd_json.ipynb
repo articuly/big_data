{
 "cells": [
  {
   "cell_type": "code",
   "execution_count": 2,
   "metadata": {},
   "outputs": [],
   "source": [
    "import json\n",
    "from pyspark import SparkContext, SparkConf, StorageLevel"
   ]
  },
  {
   "cell_type": "code",
   "execution_count": 3,
   "metadata": {},
   "outputs": [],
   "source": [
    "conf = SparkConf().setMaster('local').setAppName('jsonApp')\n",
    "sc = SparkContext(conf=conf)"
   ]
  },
  {
   "cell_type": "code",
   "execution_count": 6,
   "metadata": {},
   "outputs": [],
   "source": [
    "# 从文本文件中读取json数据\n",
    "# 需要import json\n",
    "rdd_json = sc.textFile('file:///D:/Projects/python_projects/big_data/data/profile.json')\n",
    "new_rdd = rdd_json.map(lambda line: json.loads(line))"
   ]
  },
  {
   "cell_type": "code",
   "execution_count": 7,
   "metadata": {},
   "outputs": [
    {
     "data": {
      "text/plain": [
       "'profile_set'"
      ]
     },
     "execution_count": 7,
     "metadata": {},
     "output_type": "execute_result"
    }
   ],
   "source": [
    "new_rdd.first()['type']"
   ]
  },
  {
   "cell_type": "code",
   "execution_count": 8,
   "metadata": {},
   "outputs": [
    {
     "data": {
      "text/plain": [
       "[{'type': 'profile_set',\n",
       "  'distinct_id': 'UC.aed7566e01ed4fb99be03f980ff4293f',\n",
       "  'properties': {'os_ver': 'Android OS 8.0.0 / API-26 (HUAWEIFRD-AL00/535(C00))',\n",
       "   'device_id': 'ce7a9c904768320eadee8dd238550dcb',\n",
       "   'device_model': 'HUAWEI FRD-AL00',\n",
       "   'os': 'Android',\n",
       "   'server_id': 102,\n",
       "   'login_ip': '222.188.128.144',\n",
       "   'register_time': '2018-10-16 10:01:45.000',\n",
       "   'log_type': 'account',\n",
       "   'connect_id': 4,\n",
       "   'platform_id': 1,\n",
       "   'register_ip': '117.63.92.26',\n",
       "   'channel_id': 104,\n",
       "   'account': 'UC.aed7566e01ed4fb99be03f980ff4293f',\n",
       "   'game_id': 1,\n",
       "   'app_code': 3}},\n",
       " {'type': 'profile_set',\n",
       "  'distinct_id': 'UC.3ea5453b6b6542f29bd9d46630a1a068',\n",
       "  'properties': {'os_ver': 'Android OS 8.1.0 / API-27 (HUAWEICLT-AL01/171(C00))',\n",
       "   'device_id': '86de61c26d74836a0164e407daf62a98',\n",
       "   'device_model': 'HUAWEI CLT-AL01',\n",
       "   'os': 'Android OS',\n",
       "   'server_id': 102,\n",
       "   'login_ip': '117.136.41.73',\n",
       "   'register_time': '2018-10-16 09:59:30.000',\n",
       "   'log_type': 'account',\n",
       "   'connect_id': 4,\n",
       "   'platform_id': 1,\n",
       "   'register_ip': '120.229.57.26',\n",
       "   'channel_id': 104,\n",
       "   'account': 'UC.3ea5453b6b6542f29bd9d46630a1a068',\n",
       "   'game_id': 1}},\n",
       " {'type': 'profile_set',\n",
       "  'distinct_id': 'UC.9f1d759b422b4442ac6b2c094c425390',\n",
       "  'properties': {'os_ver': 'Android OS 6.0.1 / API-23 (MMB29M/eng.root.20181029.191836)',\n",
       "   'device_id': '78b4c4823b1833a4a4336ca8d4ded36d',\n",
       "   'device_model': 'OPPO OPPO R9s Plus',\n",
       "   'os': 'Android',\n",
       "   'server_id': 105,\n",
       "   'login_ip': '112.115.89.144',\n",
       "   'register_time': '2018-12-18 12:19:42.000',\n",
       "   'log_type': 'account',\n",
       "   'connect_id': 4,\n",
       "   'platform_id': 1,\n",
       "   'register_ip': '112.115.89.144',\n",
       "   'channel_id': 104,\n",
       "   'account': 'UC.9f1d759b422b4442ac6b2c094c425390',\n",
       "   'game_id': 1,\n",
       "   'app_code': 3}}]"
      ]
     },
     "execution_count": 8,
     "metadata": {},
     "output_type": "execute_result"
    }
   ],
   "source": [
    "new_rdd.take(3)"
   ]
  },
  {
   "cell_type": "code",
   "execution_count": 9,
   "metadata": {},
   "outputs": [],
   "source": [
    "# 转换为pairRDD\n",
    "def get_dicts(dicts):\n",
    "    print(dicts)\n",
    "    for key, val in dicts.items():\n",
    "        yield (key, val)"
   ]
  },
  {
   "cell_type": "code",
   "execution_count": 10,
   "metadata": {},
   "outputs": [],
   "source": [
    "new_pair_rdd = new_rdd.flatMap(get_dicts)"
   ]
  },
  {
   "cell_type": "code",
   "execution_count": 11,
   "metadata": {},
   "outputs": [
    {
     "data": {
      "text/plain": [
       "[('type', 'profile_set'),\n",
       " ('distinct_id', 'UC.aed7566e01ed4fb99be03f980ff4293f'),\n",
       " ('properties',\n",
       "  {'os_ver': 'Android OS 8.0.0 / API-26 (HUAWEIFRD-AL00/535(C00))',\n",
       "   'device_id': 'ce7a9c904768320eadee8dd238550dcb',\n",
       "   'device_model': 'HUAWEI FRD-AL00',\n",
       "   'os': 'Android',\n",
       "   'server_id': 102,\n",
       "   'login_ip': '222.188.128.144',\n",
       "   'register_time': '2018-10-16 10:01:45.000',\n",
       "   'log_type': 'account',\n",
       "   'connect_id': 4,\n",
       "   'platform_id': 1,\n",
       "   'register_ip': '117.63.92.26',\n",
       "   'channel_id': 104,\n",
       "   'account': 'UC.aed7566e01ed4fb99be03f980ff4293f',\n",
       "   'game_id': 1,\n",
       "   'app_code': 3}),\n",
       " ('type', 'profile_set'),\n",
       " ('distinct_id', 'UC.3ea5453b6b6542f29bd9d46630a1a068'),\n",
       " ('properties',\n",
       "  {'os_ver': 'Android OS 8.1.0 / API-27 (HUAWEICLT-AL01/171(C00))',\n",
       "   'device_id': '86de61c26d74836a0164e407daf62a98',\n",
       "   'device_model': 'HUAWEI CLT-AL01',\n",
       "   'os': 'Android OS',\n",
       "   'server_id': 102,\n",
       "   'login_ip': '117.136.41.73',\n",
       "   'register_time': '2018-10-16 09:59:30.000',\n",
       "   'log_type': 'account',\n",
       "   'connect_id': 4,\n",
       "   'platform_id': 1,\n",
       "   'register_ip': '120.229.57.26',\n",
       "   'channel_id': 104,\n",
       "   'account': 'UC.3ea5453b6b6542f29bd9d46630a1a068',\n",
       "   'game_id': 1})]"
      ]
     },
     "execution_count": 11,
     "metadata": {},
     "output_type": "execute_result"
    }
   ],
   "source": [
    "new_pair_rdd.take(6)"
   ]
  },
  {
   "cell_type": "code",
   "execution_count": 12,
   "metadata": {},
   "outputs": [],
   "source": [
    "# 获得properties数据\n",
    "def get_dicts2(dicts):\n",
    "    for key, val in dicts['properties'].items():\n",
    "        yield (key, val)"
   ]
  },
  {
   "cell_type": "code",
   "execution_count": 13,
   "metadata": {},
   "outputs": [],
   "source": [
    "new_pair_rdd2 = new_rdd.flatMap(get_dicts2)"
   ]
  },
  {
   "cell_type": "code",
   "execution_count": 14,
   "metadata": {},
   "outputs": [
    {
     "data": {
      "text/plain": [
       "[('os_ver', 'Android OS 8.0.0 / API-26 (HUAWEIFRD-AL00/535(C00))'),\n",
       " ('device_id', 'ce7a9c904768320eadee8dd238550dcb'),\n",
       " ('device_model', 'HUAWEI FRD-AL00'),\n",
       " ('os', 'Android'),\n",
       " ('server_id', 102),\n",
       " ('login_ip', '222.188.128.144'),\n",
       " ('register_time', '2018-10-16 10:01:45.000'),\n",
       " ('log_type', 'account'),\n",
       " ('connect_id', 4),\n",
       " ('platform_id', 1),\n",
       " ('register_ip', '117.63.92.26'),\n",
       " ('channel_id', 104),\n",
       " ('account', 'UC.aed7566e01ed4fb99be03f980ff4293f'),\n",
       " ('game_id', 1),\n",
       " ('app_code', 3),\n",
       " ('os_ver', 'Android OS 8.1.0 / API-27 (HUAWEICLT-AL01/171(C00))'),\n",
       " ('device_id', '86de61c26d74836a0164e407daf62a98'),\n",
       " ('device_model', 'HUAWEI CLT-AL01'),\n",
       " ('os', 'Android OS'),\n",
       " ('server_id', 102),\n",
       " ('login_ip', '117.136.41.73'),\n",
       " ('register_time', '2018-10-16 09:59:30.000'),\n",
       " ('log_type', 'account'),\n",
       " ('connect_id', 4),\n",
       " ('platform_id', 1),\n",
       " ('register_ip', '120.229.57.26'),\n",
       " ('channel_id', 104),\n",
       " ('account', 'UC.3ea5453b6b6542f29bd9d46630a1a068')]"
      ]
     },
     "execution_count": 14,
     "metadata": {},
     "output_type": "execute_result"
    }
   ],
   "source": [
    "new_pair_rdd2.take(28)"
   ]
  },
  {
   "cell_type": "code",
   "execution_count": 15,
   "metadata": {},
   "outputs": [],
   "source": [
    "# 统计os = Android的用户有多少\n",
    "android_count = new_pair_rdd2.filter(lambda x: x[0] == 'os').filter(\n",
    "    lambda x: x[1] == 'Android').count()"
   ]
  },
  {
   "cell_type": "code",
   "execution_count": 16,
   "metadata": {},
   "outputs": [
    {
     "data": {
      "text/plain": [
       "8155"
      ]
     },
     "execution_count": 16,
     "metadata": {},
     "output_type": "execute_result"
    }
   ],
   "source": [
    "android_count"
   ]
  },
  {
   "cell_type": "code",
   "execution_count": 17,
   "metadata": {},
   "outputs": [],
   "source": [
    "# new_pair_rdd2.saveAsTextFile('data/os_android.log')"
   ]
  },
  {
   "cell_type": "markdown",
   "metadata": {},
   "source": [
    "## 统计每天的注册人数"
   ]
  },
  {
   "cell_type": "code",
   "execution_count": 26,
   "metadata": {},
   "outputs": [],
   "source": [
    "# 选出注册数据\n",
    "register_rdd = new_pair_rdd2.filter(lambda x: x[0] == 'register_time')"
   ]
  },
  {
   "cell_type": "code",
   "execution_count": 27,
   "metadata": {},
   "outputs": [
    {
     "data": {
      "text/plain": [
       "[('register_time', '2018-10-16 10:01:45.000'),\n",
       " ('register_time', '2018-10-16 09:59:30.000'),\n",
       " ('register_time', '2018-12-18 12:19:42.000'),\n",
       " ('register_time', '2019-01-24 16:06:14.000'),\n",
       " ('register_time', '2018-08-30 13:03:08.000')]"
      ]
     },
     "execution_count": 27,
     "metadata": {},
     "output_type": "execute_result"
    }
   ],
   "source": [
    "register_rdd.take(5)"
   ]
  },
  {
   "cell_type": "code",
   "execution_count": 28,
   "metadata": {},
   "outputs": [],
   "source": [
    "# 转换成以日期为key的RDD\n",
    "def get_register_date(x):\n",
    "    date = x[1][:9]\n",
    "    return (date, 1)\n",
    "\n",
    "\n",
    "register_date_rdd = register_rdd.map(get_register_date)"
   ]
  },
  {
   "cell_type": "code",
   "execution_count": 29,
   "metadata": {},
   "outputs": [],
   "source": [
    "register_data = register_date_rdd.reduceByKey(lambda x, y: x + y).sortByKey()"
   ]
  },
  {
   "cell_type": "code",
   "execution_count": 30,
   "metadata": {},
   "outputs": [
    {
     "data": {
      "text/plain": [
       "[('2018-08-2', 63),\n",
       " ('2018-08-3', 2485),\n",
       " ('2018-09-0', 836),\n",
       " ('2018-09-1', 2),\n",
       " ('2018-09-2', 212),\n",
       " ('2018-09-3', 2),\n",
       " ('2018-10-0', 1),\n",
       " ('2018-10-1', 6847),\n",
       " ('2018-10-2', 667),\n",
       " ('2018-10-3', 85)]"
      ]
     },
     "execution_count": 30,
     "metadata": {},
     "output_type": "execute_result"
    }
   ],
   "source": [
    "register_data.take(10)"
   ]
  },
  {
   "cell_type": "code",
   "execution_count": 31,
   "metadata": {},
   "outputs": [],
   "source": [
    "# register_date_rdd.saveAsTextFile('data/register_date')"
   ]
  },
  {
   "cell_type": "code",
   "execution_count": 36,
   "metadata": {},
   "outputs": [],
   "source": [
    "import pandas as pd\n",
    "df = pd.DataFrame(register_data.collect(), columns=['date', 'count'])"
   ]
  },
  {
   "cell_type": "code",
   "execution_count": 37,
   "metadata": {},
   "outputs": [
    {
     "name": "stderr",
     "output_type": "stream",
     "text": [
      "D:\\Programing\\Anaconda3\\envs\\spark_env\\lib\\site-packages\\pandas\\plotting\\_matplotlib\\core.py:1235: UserWarning: FixedFormatter should only be used together with FixedLocator\n",
      "  ax.set_xticklabels(xticklabels)\n"
     ]
    },
    {
     "data": {
      "image/png": "[encoded data removed]",
      "text/plain": [
       "<Figure size 432x288 with 1 Axes>"
      ]
     },
     "metadata": {
      "needs_background": "light"
     },
     "output_type": "display_data"
    }
   ],
   "source": [
    "df.set_index('date', inplace=True)\n",
    "ax=df.plot()\n",
    "fig=ax.get_figure()\n",
    "fig.savefig('register_date')"
   ]
  },
  {
   "cell_type": "code",
   "execution_count": null,
   "metadata": {},
   "outputs": [],
   "source": []
  }
 ],
 "metadata": {
  "kernelspec": {
   "display_name": "Python [conda env:spark_env]",
   "language": "python",
   "name": "conda-env-spark_env-py"
  },
  "language_info": {
   "codemirror_mode": {
    "name": "ipython",
    "version": 3
   },
   "file_extension": ".py",
   "mimetype": "text/x-python",
   "name": "python",
   "nbconvert_exporter": "python",
   "pygments_lexer": "ipython3",
   "version": "3.7.9"
  }
 },
 "nbformat": 4,
 "nbformat_minor": 4
}
