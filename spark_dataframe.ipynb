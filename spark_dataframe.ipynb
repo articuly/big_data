{
 "cells": [
  {
   "cell_type": "code",
   "execution_count": 42,
   "metadata": {},
   "outputs": [],
   "source": [
    "import os\n",
    "from pyspark import SparkContext, SparkConf\n",
    "from pyspark.sql import SparkSession"
   ]
  },
  {
   "cell_type": "code",
   "execution_count": 3,
   "metadata": {},
   "outputs": [],
   "source": [
    "spark=SparkSession.builder.appName('spark_dataframe').getOrCreate()"
   ]
  },
  {
   "cell_type": "markdown",
   "metadata": {},
   "source": [
    "# JSON"
   ]
  },
  {
   "cell_type": "code",
   "execution_count": 4,
   "metadata": {},
   "outputs": [],
   "source": [
    "# 读取结构化json数据\n",
    "# 并不是所有的json格式就一定能直接转换为DataFrame格式数据\n",
    "json_data=spark.read.json('data/profile.json')"
   ]
  },
  {
   "cell_type": "code",
   "execution_count": 5,
   "metadata": {},
   "outputs": [],
   "source": [
    "# 与pandas的df操作很像，比如dropna，fillna， where(别名filter)\n",
    "# 另外还具有与RDD相同的一些操作方法（DataFrame不是RDD子类））\n",
    "# https://spark.apache.org/docs/2.4.5/api/python/pyspark.sql.html#pyspark.sql.DataFrame"
   ]
  },
  {
   "cell_type": "code",
   "execution_count": 6,
   "metadata": {},
   "outputs": [
    {
     "name": "stdout",
     "output_type": "stream",
     "text": [
      "DataFrame[distinct_id: string, event: string, original_id: string, properties: struct<$is_login_id:boolean,account:string,app_code:bigint,auction_profit:bigint,baptise_infos:string,channel_id:bigint,charm:bigint,client_version:string,coin_id:bigint,coin_new_value:bigint,connect_id:bigint,copper:bigint,device_id:string,device_model:string,elf_infos:string,env_tag:string,equip_infos:string,fashion_level:bigint,game_id:bigint,gold:bigint,guild_level:bigint,guild_name:string,guild_uid:string,is_online:boolean,is_pay_first:boolean,is_zc:string,jade_infos:string,jewel_infos:string,job:bigint,level:bigint,log_type:string,login_in_time:string,login_ip:string,login_out_time:string,muhon_infos:string,online_time:bigint,os:string,os_ver:string,pay_gold_times:bigint,pay_last_time:string,pay_real_amount:bigint,pay_times:bigint,pay_total_amount:bigint,pay_virtual_amount:bigint,platform_id:bigint,rebirth_level:bigint,register_ip:string,register_time:string,role_name:string,sdk_accountid:string,server_id:bigint,server_version:string,sex:bigint,test_serverid:string,vip:bigint,vip_exp:double,wifi:boolean,wing_level:bigint>, time: bigint, type: string]\n"
     ]
    }
   ],
   "source": [
    "print(json_data)"
   ]
  },
  {
   "cell_type": "code",
   "execution_count": 7,
   "metadata": {},
   "outputs": [
    {
     "data": {
      "text/plain": [
       "['__class__',\n",
       " '__delattr__',\n",
       " '__dict__',\n",
       " '__dir__',\n",
       " '__doc__',\n",
       " '__eq__',\n",
       " '__format__',\n",
       " '__ge__',\n",
       " '__getattr__',\n",
       " '__getattribute__',\n",
       " '__getitem__',\n",
       " '__gt__',\n",
       " '__hash__',\n",
       " '__init__',\n",
       " '__init_subclass__',\n",
       " '__le__',\n",
       " '__lt__',\n",
       " '__module__',\n",
       " '__ne__',\n",
       " '__new__',\n",
       " '__reduce__',\n",
       " '__reduce_ex__',\n",
       " '__repr__',\n",
       " '__setattr__',\n",
       " '__sizeof__',\n",
       " '__str__',\n",
       " '__subclasshook__',\n",
       " '__weakref__',\n",
       " '_collectAsArrow',\n",
       " '_jcols',\n",
       " '_jdf',\n",
       " '_jmap',\n",
       " '_jseq',\n",
       " '_lazy_rdd',\n",
       " '_repr_html_',\n",
       " '_sc',\n",
       " '_schema',\n",
       " '_sort_cols',\n",
       " '_support_repr_html',\n",
       " 'agg',\n",
       " 'alias',\n",
       " 'approxQuantile',\n",
       " 'cache',\n",
       " 'checkpoint',\n",
       " 'coalesce',\n",
       " 'colRegex',\n",
       " 'collect',\n",
       " 'columns',\n",
       " 'corr',\n",
       " 'count',\n",
       " 'cov',\n",
       " 'createGlobalTempView',\n",
       " 'createOrReplaceGlobalTempView',\n",
       " 'createOrReplaceTempView',\n",
       " 'createTempView',\n",
       " 'crossJoin',\n",
       " 'crosstab',\n",
       " 'cube',\n",
       " 'describe',\n",
       " 'distinct',\n",
       " 'drop',\n",
       " 'dropDuplicates',\n",
       " 'drop_duplicates',\n",
       " 'dropna',\n",
       " 'dtypes',\n",
       " 'exceptAll',\n",
       " 'explain',\n",
       " 'fillna',\n",
       " 'filter',\n",
       " 'first',\n",
       " 'foreach',\n",
       " 'foreachPartition',\n",
       " 'freqItems',\n",
       " 'groupBy',\n",
       " 'groupby',\n",
       " 'head',\n",
       " 'hint',\n",
       " 'intersect',\n",
       " 'intersectAll',\n",
       " 'isLocal',\n",
       " 'isStreaming',\n",
       " 'is_cached',\n",
       " 'join',\n",
       " 'limit',\n",
       " 'localCheckpoint',\n",
       " 'na',\n",
       " 'orderBy',\n",
       " 'persist',\n",
       " 'printSchema',\n",
       " 'randomSplit',\n",
       " 'rdd',\n",
       " 'registerTempTable',\n",
       " 'repartition',\n",
       " 'repartitionByRange',\n",
       " 'replace',\n",
       " 'rollup',\n",
       " 'sample',\n",
       " 'sampleBy',\n",
       " 'schema',\n",
       " 'select',\n",
       " 'selectExpr',\n",
       " 'show',\n",
       " 'sort',\n",
       " 'sortWithinPartitions',\n",
       " 'sql_ctx',\n",
       " 'stat',\n",
       " 'storageLevel',\n",
       " 'subtract',\n",
       " 'summary',\n",
       " 'take',\n",
       " 'toDF',\n",
       " 'toJSON',\n",
       " 'toLocalIterator',\n",
       " 'toPandas',\n",
       " 'union',\n",
       " 'unionAll',\n",
       " 'unionByName',\n",
       " 'unpersist',\n",
       " 'where',\n",
       " 'withColumn',\n",
       " 'withColumnRenamed',\n",
       " 'withWatermark',\n",
       " 'write',\n",
       " 'writeStream']"
      ]
     },
     "execution_count": 7,
     "metadata": {},
     "output_type": "execute_result"
    }
   ],
   "source": [
    "dir(json_data)"
   ]
  },
  {
   "cell_type": "code",
   "execution_count": 8,
   "metadata": {},
   "outputs": [
    {
     "data": {
      "text/plain": [
       "[('distinct_id', 'string'),\n",
       " ('event', 'string'),\n",
       " ('original_id', 'string'),\n",
       " ('properties',\n",
       "  'struct<$is_login_id:boolean,account:string,app_code:bigint,auction_profit:bigint,baptise_infos:string,channel_id:bigint,charm:bigint,client_version:string,coin_id:bigint,coin_new_value:bigint,connect_id:bigint,copper:bigint,device_id:string,device_model:string,elf_infos:string,env_tag:string,equip_infos:string,fashion_level:bigint,game_id:bigint,gold:bigint,guild_level:bigint,guild_name:string,guild_uid:string,is_online:boolean,is_pay_first:boolean,is_zc:string,jade_infos:string,jewel_infos:string,job:bigint,level:bigint,log_type:string,login_in_time:string,login_ip:string,login_out_time:string,muhon_infos:string,online_time:bigint,os:string,os_ver:string,pay_gold_times:bigint,pay_last_time:string,pay_real_amount:bigint,pay_times:bigint,pay_total_amount:bigint,pay_virtual_amount:bigint,platform_id:bigint,rebirth_level:bigint,register_ip:string,register_time:string,role_name:string,sdk_accountid:string,server_id:bigint,server_version:string,sex:bigint,test_serverid:string,vip:bigint,vip_exp:double,wifi:boolean,wing_level:bigint>'),\n",
       " ('time', 'bigint'),\n",
       " ('type', 'string')]"
      ]
     },
     "execution_count": 8,
     "metadata": {},
     "output_type": "execute_result"
    }
   ],
   "source": [
    "json_data.dtypes"
   ]
  },
  {
   "cell_type": "code",
   "execution_count": 9,
   "metadata": {},
   "outputs": [
    {
     "data": {
      "text/plain": [
       "['distinct_id', 'event', 'original_id', 'properties', 'time', 'type']"
      ]
     },
     "execution_count": 9,
     "metadata": {},
     "output_type": "execute_result"
    }
   ],
   "source": [
    "json_data.columns"
   ]
  },
  {
   "cell_type": "code",
   "execution_count": 10,
   "metadata": {},
   "outputs": [
    {
     "data": {
      "text/plain": [
       "DataFrame[summary: string, distinct_id: string, event: string, original_id: string, time: string, type: string]"
      ]
     },
     "execution_count": 10,
     "metadata": {},
     "output_type": "execute_result"
    }
   ],
   "source": [
    "json_data.describe()"
   ]
  },
  {
   "cell_type": "code",
   "execution_count": 11,
   "metadata": {},
   "outputs": [],
   "source": [
    "# df.collect()"
   ]
  },
  {
   "cell_type": "code",
   "execution_count": 12,
   "metadata": {},
   "outputs": [
    {
     "data": {
      "text/plain": [
       "[Row(distinct_id='UC.aed7566e01ed4fb99be03f980ff4293f', event=None, original_id=None, properties=Row($is_login_id=None, account='UC.aed7566e01ed4fb99be03f980ff4293f', app_code=3, auction_profit=None, baptise_infos=None, channel_id=104, charm=None, client_version=None, coin_id=None, coin_new_value=None, connect_id=4, copper=None, device_id='ce7a9c904768320eadee8dd238550dcb', device_model='HUAWEI FRD-AL00', elf_infos=None, env_tag=None, equip_infos=None, fashion_level=None, game_id=1, gold=None, guild_level=None, guild_name=None, guild_uid=None, is_online=None, is_pay_first=None, is_zc=None, jade_infos=None, jewel_infos=None, job=None, level=None, log_type='account', login_in_time=None, login_ip='222.188.128.144', login_out_time=None, muhon_infos=None, online_time=None, os='Android', os_ver='Android OS 8.0.0 / API-26 (HUAWEIFRD-AL00/535(C00))', pay_gold_times=None, pay_last_time=None, pay_real_amount=None, pay_times=None, pay_total_amount=None, pay_virtual_amount=None, platform_id=1, rebirth_level=None, register_ip='117.63.92.26', register_time='2018-10-16 10:01:45.000', role_name=None, sdk_accountid=None, server_id=102, server_version=None, sex=None, test_serverid=None, vip=None, vip_exp=None, wifi=None, wing_level=None), time=None, type='profile_set'),\n",
       " Row(distinct_id='UC.3ea5453b6b6542f29bd9d46630a1a068', event=None, original_id=None, properties=Row($is_login_id=None, account='UC.3ea5453b6b6542f29bd9d46630a1a068', app_code=None, auction_profit=None, baptise_infos=None, channel_id=104, charm=None, client_version=None, coin_id=None, coin_new_value=None, connect_id=4, copper=None, device_id='86de61c26d74836a0164e407daf62a98', device_model='HUAWEI CLT-AL01', elf_infos=None, env_tag=None, equip_infos=None, fashion_level=None, game_id=1, gold=None, guild_level=None, guild_name=None, guild_uid=None, is_online=None, is_pay_first=None, is_zc=None, jade_infos=None, jewel_infos=None, job=None, level=None, log_type='account', login_in_time=None, login_ip='117.136.41.73', login_out_time=None, muhon_infos=None, online_time=None, os='Android OS', os_ver='Android OS 8.1.0 / API-27 (HUAWEICLT-AL01/171(C00))', pay_gold_times=None, pay_last_time=None, pay_real_amount=None, pay_times=None, pay_total_amount=None, pay_virtual_amount=None, platform_id=1, rebirth_level=None, register_ip='120.229.57.26', register_time='2018-10-16 09:59:30.000', role_name=None, sdk_accountid=None, server_id=102, server_version=None, sex=None, test_serverid=None, vip=None, vip_exp=None, wifi=None, wing_level=None), time=None, type='profile_set'),\n",
       " Row(distinct_id='UC.9f1d759b422b4442ac6b2c094c425390', event=None, original_id=None, properties=Row($is_login_id=None, account='UC.9f1d759b422b4442ac6b2c094c425390', app_code=3, auction_profit=None, baptise_infos=None, channel_id=104, charm=None, client_version=None, coin_id=None, coin_new_value=None, connect_id=4, copper=None, device_id='78b4c4823b1833a4a4336ca8d4ded36d', device_model='OPPO OPPO R9s Plus', elf_infos=None, env_tag=None, equip_infos=None, fashion_level=None, game_id=1, gold=None, guild_level=None, guild_name=None, guild_uid=None, is_online=None, is_pay_first=None, is_zc=None, jade_infos=None, jewel_infos=None, job=None, level=None, log_type='account', login_in_time=None, login_ip='112.115.89.144', login_out_time=None, muhon_infos=None, online_time=None, os='Android', os_ver='Android OS 6.0.1 / API-23 (MMB29M/eng.root.20181029.191836)', pay_gold_times=None, pay_last_time=None, pay_real_amount=None, pay_times=None, pay_total_amount=None, pay_virtual_amount=None, platform_id=1, rebirth_level=None, register_ip='112.115.89.144', register_time='2018-12-18 12:19:42.000', role_name=None, sdk_accountid=None, server_id=105, server_version=None, sex=None, test_serverid=None, vip=None, vip_exp=None, wifi=None, wing_level=None), time=None, type='profile_set'),\n",
       " Row(distinct_id='11AE142139D946EDB00C4F5EAF074298', event='$SignUp', original_id='11AE142139D946EDB00C4F5EAF074298', properties=Row($is_login_id=None, account=None, app_code=None, auction_profit=None, baptise_infos=None, channel_id=None, charm=None, client_version=None, coin_id=None, coin_new_value=None, connect_id=None, copper=None, device_id=None, device_model=None, elf_infos=None, env_tag=None, equip_infos=None, fashion_level=None, game_id=None, gold=None, guild_level=None, guild_name=None, guild_uid=None, is_online=None, is_pay_first=None, is_zc=None, jade_infos=None, jewel_infos=None, job=None, level=None, log_type=None, login_in_time=None, login_ip=None, login_out_time=None, muhon_infos=None, online_time=None, os=None, os_ver=None, pay_gold_times=None, pay_last_time=None, pay_real_amount=None, pay_times=None, pay_total_amount=None, pay_virtual_amount=None, platform_id=None, rebirth_level=None, register_ip=None, register_time=None, role_name=None, sdk_accountid=None, server_id=None, server_version=None, sex=None, test_serverid=None, vip=None, vip_exp=None, wifi=None, wing_level=None), time=1568800557532, type='track_signup'),\n",
       " Row(distinct_id='11AE142139D946EDB00C4F5EAF074298', event=None, original_id=None, properties=Row($is_login_id=True, account='c878e3d7ba1b44d28574b9a91451aed6', app_code=None, auction_profit=None, baptise_infos=None, channel_id=None, charm=None, client_version=None, coin_id=None, coin_new_value=None, connect_id=None, copper=None, device_id=None, device_model=None, elf_infos=None, env_tag=None, equip_infos=None, fashion_level=1, game_id=1, gold=0, guild_level=None, guild_name=None, guild_uid=None, is_online=False, is_pay_first=None, is_zc=None, jade_infos=None, jewel_infos=None, job=None, level=300, log_type='role', login_in_time='2019-01-24 15:18:51.000', login_ip='114.219.22.46', login_out_time='2019-01-24 15:56:51.000', muhon_infos=None, online_time=38, os=None, os_ver=None, pay_gold_times=None, pay_last_time=None, pay_real_amount=None, pay_times=None, pay_total_amount=None, pay_virtual_amount=None, platform_id=0, rebirth_level=None, register_ip=None, register_time=None, role_name=None, sdk_accountid=None, server_id=101, server_version='1.0', sex=None, test_serverid=None, vip=0, vip_exp=None, wifi=None, wing_level=None), time=None, type='profile_set')]"
      ]
     },
     "execution_count": 12,
     "metadata": {},
     "output_type": "execute_result"
    }
   ],
   "source": [
    "json_data.take(5)"
   ]
  },
  {
   "cell_type": "code",
   "execution_count": 13,
   "metadata": {},
   "outputs": [
    {
     "name": "stdout",
     "output_type": "stream",
     "text": [
      "+--------------------+-------+--------------------+--------------------+-------------+------------+\n",
      "|         distinct_id|  event|         original_id|          properties|         time|        type|\n",
      "+--------------------+-------+--------------------+--------------------+-------------+------------+\n",
      "|UC.aed7566e01ed4f...|   null|                null|[, UC.aed7566e01e...|         null| profile_set|\n",
      "|UC.3ea5453b6b6542...|   null|                null|[, UC.3ea5453b6b6...|         null| profile_set|\n",
      "|UC.9f1d759b422b44...|   null|                null|[, UC.9f1d759b422...|         null| profile_set|\n",
      "|11AE142139D946EDB...|$SignUp|11AE142139D946EDB...|[,,,,,,,,,,,,,,,,...|1568800557532|track_signup|\n",
      "|11AE142139D946EDB...|   null|                null|[true, c878e3d7ba...|         null| profile_set|\n",
      "|BA15409A2F1945E8A...|$SignUp|BA15409A2F1945E8A...|[,,,,,,,,,,,,,,,,...|1568800557532|track_signup|\n",
      "|BA15409A2F1945E8A...|   null|                null|[true,,,,,,,,,,,,...|         null| profile_set|\n",
      "|941EDDFC022B42B99...|$SignUp|941EDDFC022B42B99...|[,,,,,,,,,,,,,,,,...|1568800557533|track_signup|\n",
      "|941EDDFC022B42B99...|   null|                null|[true, ad7ede55b1...|         null| profile_set|\n",
      "|UC.7c67fb5a639a48...|   null|                null|[, UC.7c67fb5a639...|         null| profile_set|\n",
      "|6DABB4E93F9A47C9B...|   null|                null|[, XG.12003a5a15c...|         null| profile_set|\n",
      "|UC.1642eda3b0e247...|   null|                null|[, UC.1642eda3b0e...|         null| profile_set|\n",
      "|XG.fb26332eaa8344...|   null|                null|[, XG.fb26332eaa8...|         null| profile_set|\n",
      "|UC.09999246ce434c...|   null|                null|[, UC.09999246ce4...|         null| profile_set|\n",
      "|543B549D75EA4D09A...|   null|                null|[, 543B549D75EA4D...|         null| profile_set|\n",
      "|404337BDEFDD46B78...|   null|                null|[, UC.6fc63c74eb4...|         null| profile_set|\n",
      "|UC.7175649925874e...|   null|                null|[, UC.71756499258...|         null| profile_set|\n",
      "|047EFA6C5BED4BA0B...|$SignUp|047EFA6C5BED4BA0B...|[,,,,,,,,,,,,,,,,...|1568800557536|track_signup|\n",
      "|047EFA6C5BED4BA0B...|   null|                null|[true, 882a4aa5d2...|         null| profile_set|\n",
      "|2FD26132BFD842DD8...|$SignUp|2FD26132BFD842DD8...|[,,,,,,,,,,,,,,,,...|1568800557536|track_signup|\n",
      "+--------------------+-------+--------------------+--------------------+-------------+------------+\n",
      "only showing top 20 rows\n",
      "\n"
     ]
    }
   ],
   "source": [
    "json_data.show()"
   ]
  },
  {
   "cell_type": "code",
   "execution_count": 14,
   "metadata": {},
   "outputs": [
    {
     "data": {
      "text/plain": [
       "Row(distinct_id='UC.aed7566e01ed4fb99be03f980ff4293f', event=None, original_id=None, properties=Row($is_login_id=None, account='UC.aed7566e01ed4fb99be03f980ff4293f', app_code=3, auction_profit=None, baptise_infos=None, channel_id=104, charm=None, client_version=None, coin_id=None, coin_new_value=None, connect_id=4, copper=None, device_id='ce7a9c904768320eadee8dd238550dcb', device_model='HUAWEI FRD-AL00', elf_infos=None, env_tag=None, equip_infos=None, fashion_level=None, game_id=1, gold=None, guild_level=None, guild_name=None, guild_uid=None, is_online=None, is_pay_first=None, is_zc=None, jade_infos=None, jewel_infos=None, job=None, level=None, log_type='account', login_in_time=None, login_ip='222.188.128.144', login_out_time=None, muhon_infos=None, online_time=None, os='Android', os_ver='Android OS 8.0.0 / API-26 (HUAWEIFRD-AL00/535(C00))', pay_gold_times=None, pay_last_time=None, pay_real_amount=None, pay_times=None, pay_total_amount=None, pay_virtual_amount=None, platform_id=1, rebirth_level=None, register_ip='117.63.92.26', register_time='2018-10-16 10:01:45.000', role_name=None, sdk_accountid=None, server_id=102, server_version=None, sex=None, test_serverid=None, vip=None, vip_exp=None, wifi=None, wing_level=None), time=None, type='profile_set')"
      ]
     },
     "execution_count": 14,
     "metadata": {},
     "output_type": "execute_result"
    }
   ],
   "source": [
    "json_data.head()"
   ]
  },
  {
   "cell_type": "code",
   "execution_count": 15,
   "metadata": {},
   "outputs": [
    {
     "name": "stdout",
     "output_type": "stream",
     "text": [
      "root\n",
      " |-- distinct_id: string (nullable = true)\n",
      " |-- event: string (nullable = true)\n",
      " |-- original_id: string (nullable = true)\n",
      " |-- properties: struct (nullable = true)\n",
      " |    |-- $is_login_id: boolean (nullable = true)\n",
      " |    |-- account: string (nullable = true)\n",
      " |    |-- app_code: long (nullable = true)\n",
      " |    |-- auction_profit: long (nullable = true)\n",
      " |    |-- baptise_infos: string (nullable = true)\n",
      " |    |-- channel_id: long (nullable = true)\n",
      " |    |-- charm: long (nullable = true)\n",
      " |    |-- client_version: string (nullable = true)\n",
      " |    |-- coin_id: long (nullable = true)\n",
      " |    |-- coin_new_value: long (nullable = true)\n",
      " |    |-- connect_id: long (nullable = true)\n",
      " |    |-- copper: long (nullable = true)\n",
      " |    |-- device_id: string (nullable = true)\n",
      " |    |-- device_model: string (nullable = true)\n",
      " |    |-- elf_infos: string (nullable = true)\n",
      " |    |-- env_tag: string (nullable = true)\n",
      " |    |-- equip_infos: string (nullable = true)\n",
      " |    |-- fashion_level: long (nullable = true)\n",
      " |    |-- game_id: long (nullable = true)\n",
      " |    |-- gold: long (nullable = true)\n",
      " |    |-- guild_level: long (nullable = true)\n",
      " |    |-- guild_name: string (nullable = true)\n",
      " |    |-- guild_uid: string (nullable = true)\n",
      " |    |-- is_online: boolean (nullable = true)\n",
      " |    |-- is_pay_first: boolean (nullable = true)\n",
      " |    |-- is_zc: string (nullable = true)\n",
      " |    |-- jade_infos: string (nullable = true)\n",
      " |    |-- jewel_infos: string (nullable = true)\n",
      " |    |-- job: long (nullable = true)\n",
      " |    |-- level: long (nullable = true)\n",
      " |    |-- log_type: string (nullable = true)\n",
      " |    |-- login_in_time: string (nullable = true)\n",
      " |    |-- login_ip: string (nullable = true)\n",
      " |    |-- login_out_time: string (nullable = true)\n",
      " |    |-- muhon_infos: string (nullable = true)\n",
      " |    |-- online_time: long (nullable = true)\n",
      " |    |-- os: string (nullable = true)\n",
      " |    |-- os_ver: string (nullable = true)\n",
      " |    |-- pay_gold_times: long (nullable = true)\n",
      " |    |-- pay_last_time: string (nullable = true)\n",
      " |    |-- pay_real_amount: long (nullable = true)\n",
      " |    |-- pay_times: long (nullable = true)\n",
      " |    |-- pay_total_amount: long (nullable = true)\n",
      " |    |-- pay_virtual_amount: long (nullable = true)\n",
      " |    |-- platform_id: long (nullable = true)\n",
      " |    |-- rebirth_level: long (nullable = true)\n",
      " |    |-- register_ip: string (nullable = true)\n",
      " |    |-- register_time: string (nullable = true)\n",
      " |    |-- role_name: string (nullable = true)\n",
      " |    |-- sdk_accountid: string (nullable = true)\n",
      " |    |-- server_id: long (nullable = true)\n",
      " |    |-- server_version: string (nullable = true)\n",
      " |    |-- sex: long (nullable = true)\n",
      " |    |-- test_serverid: string (nullable = true)\n",
      " |    |-- vip: long (nullable = true)\n",
      " |    |-- vip_exp: double (nullable = true)\n",
      " |    |-- wifi: boolean (nullable = true)\n",
      " |    |-- wing_level: long (nullable = true)\n",
      " |-- time: long (nullable = true)\n",
      " |-- type: string (nullable = true)\n",
      "\n"
     ]
    }
   ],
   "source": [
    "json_data.printSchema()"
   ]
  },
  {
   "cell_type": "code",
   "execution_count": 16,
   "metadata": {},
   "outputs": [
    {
     "data": {
      "text/plain": [
       "DataFrame[distinct_id: string, event: string, original_id: string, properties: struct<$is_login_id:boolean,account:string,app_code:bigint,auction_profit:bigint,baptise_infos:string,channel_id:bigint,charm:bigint,client_version:string,coin_id:bigint,coin_new_value:bigint,connect_id:bigint,copper:bigint,device_id:string,device_model:string,elf_infos:string,env_tag:string,equip_infos:string,fashion_level:bigint,game_id:bigint,gold:bigint,guild_level:bigint,guild_name:string,guild_uid:string,is_online:boolean,is_pay_first:boolean,is_zc:string,jade_infos:string,jewel_infos:string,job:bigint,level:bigint,log_type:string,login_in_time:string,login_ip:string,login_out_time:string,muhon_infos:string,online_time:bigint,os:string,os_ver:string,pay_gold_times:bigint,pay_last_time:string,pay_real_amount:bigint,pay_times:bigint,pay_total_amount:bigint,pay_virtual_amount:bigint,platform_id:bigint,rebirth_level:bigint,register_ip:string,register_time:string,role_name:string,sdk_accountid:string,server_id:bigint,server_version:string,sex:bigint,test_serverid:string,vip:bigint,vip_exp:double,wifi:boolean,wing_level:bigint>, time: bigint, type: string]"
      ]
     },
     "execution_count": 16,
     "metadata": {},
     "output_type": "execute_result"
    }
   ],
   "source": [
    "json_data.filter(json_data.distinct_id=='B191FB28A8524687B421AE0BEF981716')"
   ]
  },
  {
   "cell_type": "code",
   "execution_count": 17,
   "metadata": {},
   "outputs": [
    {
     "data": {
      "text/plain": [
       "[Row(properties=Row($is_login_id=None, account='UC.aed7566e01ed4fb99be03f980ff4293f', app_code=3, auction_profit=None, baptise_infos=None, channel_id=104, charm=None, client_version=None, coin_id=None, coin_new_value=None, connect_id=4, copper=None, device_id='ce7a9c904768320eadee8dd238550dcb', device_model='HUAWEI FRD-AL00', elf_infos=None, env_tag=None, equip_infos=None, fashion_level=None, game_id=1, gold=None, guild_level=None, guild_name=None, guild_uid=None, is_online=None, is_pay_first=None, is_zc=None, jade_infos=None, jewel_infos=None, job=None, level=None, log_type='account', login_in_time=None, login_ip='222.188.128.144', login_out_time=None, muhon_infos=None, online_time=None, os='Android', os_ver='Android OS 8.0.0 / API-26 (HUAWEIFRD-AL00/535(C00))', pay_gold_times=None, pay_last_time=None, pay_real_amount=None, pay_times=None, pay_total_amount=None, pay_virtual_amount=None, platform_id=1, rebirth_level=None, register_ip='117.63.92.26', register_time='2018-10-16 10:01:45.000', role_name=None, sdk_accountid=None, server_id=102, server_version=None, sex=None, test_serverid=None, vip=None, vip_exp=None, wifi=None, wing_level=None)),\n",
       " Row(properties=Row($is_login_id=None, account='UC.3ea5453b6b6542f29bd9d46630a1a068', app_code=None, auction_profit=None, baptise_infos=None, channel_id=104, charm=None, client_version=None, coin_id=None, coin_new_value=None, connect_id=4, copper=None, device_id='86de61c26d74836a0164e407daf62a98', device_model='HUAWEI CLT-AL01', elf_infos=None, env_tag=None, equip_infos=None, fashion_level=None, game_id=1, gold=None, guild_level=None, guild_name=None, guild_uid=None, is_online=None, is_pay_first=None, is_zc=None, jade_infos=None, jewel_infos=None, job=None, level=None, log_type='account', login_in_time=None, login_ip='117.136.41.73', login_out_time=None, muhon_infos=None, online_time=None, os='Android OS', os_ver='Android OS 8.1.0 / API-27 (HUAWEICLT-AL01/171(C00))', pay_gold_times=None, pay_last_time=None, pay_real_amount=None, pay_times=None, pay_total_amount=None, pay_virtual_amount=None, platform_id=1, rebirth_level=None, register_ip='120.229.57.26', register_time='2018-10-16 09:59:30.000', role_name=None, sdk_accountid=None, server_id=102, server_version=None, sex=None, test_serverid=None, vip=None, vip_exp=None, wifi=None, wing_level=None))]"
      ]
     },
     "execution_count": 17,
     "metadata": {},
     "output_type": "execute_result"
    }
   ],
   "source": [
    "json_data.select('properties').take(2)"
   ]
  },
  {
   "cell_type": "code",
   "execution_count": 18,
   "metadata": {},
   "outputs": [
    {
     "data": {
      "text/plain": [
       "[Row(account='UC.aed7566e01ed4fb99be03f980ff4293f'),\n",
       " Row(account='UC.3ea5453b6b6542f29bd9d46630a1a068'),\n",
       " Row(account='UC.9f1d759b422b4442ac6b2c094c425390')]"
      ]
     },
     "execution_count": 18,
     "metadata": {},
     "output_type": "execute_result"
    }
   ],
   "source": [
    "json_data.select('properties.account').take(3)"
   ]
  },
  {
   "cell_type": "code",
   "execution_count": 19,
   "metadata": {},
   "outputs": [
    {
     "data": {
      "text/plain": [
       "[Row(account='UC.aed7566e01ed4fb99be03f980ff4293f', event=None),\n",
       " Row(account='UC.3ea5453b6b6542f29bd9d46630a1a068', event=None),\n",
       " Row(account='UC.9f1d759b422b4442ac6b2c094c425390', event=None)]"
      ]
     },
     "execution_count": 19,
     "metadata": {},
     "output_type": "execute_result"
    }
   ],
   "source": [
    "json_data.select('properties.account', 'event').take(3)"
   ]
  },
  {
   "cell_type": "code",
   "execution_count": 20,
   "metadata": {},
   "outputs": [],
   "source": [
    "df=json_data.toPandas()"
   ]
  },
  {
   "cell_type": "code",
   "execution_count": 21,
   "metadata": {},
   "outputs": [
    {
     "data": {
      "text/plain": [
       "(37902, 6)"
      ]
     },
     "execution_count": 21,
     "metadata": {},
     "output_type": "execute_result"
    }
   ],
   "source": [
    "df.shape"
   ]
  },
  {
   "cell_type": "code",
   "execution_count": 22,
   "metadata": {},
   "outputs": [
    {
     "data": {
      "text/html": [
       "<div>\n",
       "<style scoped>\n",
       "    .dataframe tbody tr th:only-of-type {\n",
       "        vertical-align: middle;\n",
       "    }\n",
       "\n",
       "    .dataframe tbody tr th {\n",
       "        vertical-align: top;\n",
       "    }\n",
       "\n",
       "    .dataframe thead th {\n",
       "        text-align: right;\n",
       "    }\n",
       "</style>\n",
       "<table border=\"1\" class=\"dataframe\">\n",
       "  <thead>\n",
       "    <tr style=\"text-align: right;\">\n",
       "      <th></th>\n",
       "      <th>distinct_id</th>\n",
       "      <th>event</th>\n",
       "      <th>original_id</th>\n",
       "      <th>properties</th>\n",
       "      <th>time</th>\n",
       "      <th>type</th>\n",
       "    </tr>\n",
       "  </thead>\n",
       "  <tbody>\n",
       "    <tr>\n",
       "      <th>0</th>\n",
       "      <td>UC.aed7566e01ed4fb99be03f980ff4293f</td>\n",
       "      <td>None</td>\n",
       "      <td>None</td>\n",
       "      <td>(None, UC.aed7566e01ed4fb99be03f980ff4293f, 3,...</td>\n",
       "      <td>NaN</td>\n",
       "      <td>profile_set</td>\n",
       "    </tr>\n",
       "    <tr>\n",
       "      <th>1</th>\n",
       "      <td>UC.3ea5453b6b6542f29bd9d46630a1a068</td>\n",
       "      <td>None</td>\n",
       "      <td>None</td>\n",
       "      <td>(None, UC.3ea5453b6b6542f29bd9d46630a1a068, No...</td>\n",
       "      <td>NaN</td>\n",
       "      <td>profile_set</td>\n",
       "    </tr>\n",
       "    <tr>\n",
       "      <th>2</th>\n",
       "      <td>UC.9f1d759b422b4442ac6b2c094c425390</td>\n",
       "      <td>None</td>\n",
       "      <td>None</td>\n",
       "      <td>(None, UC.9f1d759b422b4442ac6b2c094c425390, 3,...</td>\n",
       "      <td>NaN</td>\n",
       "      <td>profile_set</td>\n",
       "    </tr>\n",
       "    <tr>\n",
       "      <th>3</th>\n",
       "      <td>11AE142139D946EDB00C4F5EAF074298</td>\n",
       "      <td>$SignUp</td>\n",
       "      <td>11AE142139D946EDB00C4F5EAF074298</td>\n",
       "      <td>(None, None, None, None, None, None, None, Non...</td>\n",
       "      <td>1.568801e+12</td>\n",
       "      <td>track_signup</td>\n",
       "    </tr>\n",
       "    <tr>\n",
       "      <th>4</th>\n",
       "      <td>11AE142139D946EDB00C4F5EAF074298</td>\n",
       "      <td>None</td>\n",
       "      <td>None</td>\n",
       "      <td>(True, c878e3d7ba1b44d28574b9a91451aed6, None,...</td>\n",
       "      <td>NaN</td>\n",
       "      <td>profile_set</td>\n",
       "    </tr>\n",
       "  </tbody>\n",
       "</table>\n",
       "</div>"
      ],
      "text/plain": [
       "                           distinct_id    event  \\\n",
       "0  UC.aed7566e01ed4fb99be03f980ff4293f     None   \n",
       "1  UC.3ea5453b6b6542f29bd9d46630a1a068     None   \n",
       "2  UC.9f1d759b422b4442ac6b2c094c425390     None   \n",
       "3     11AE142139D946EDB00C4F5EAF074298  $SignUp   \n",
       "4     11AE142139D946EDB00C4F5EAF074298     None   \n",
       "\n",
       "                        original_id  \\\n",
       "0                              None   \n",
       "1                              None   \n",
       "2                              None   \n",
       "3  11AE142139D946EDB00C4F5EAF074298   \n",
       "4                              None   \n",
       "\n",
       "                                          properties          time  \\\n",
       "0  (None, UC.aed7566e01ed4fb99be03f980ff4293f, 3,...           NaN   \n",
       "1  (None, UC.3ea5453b6b6542f29bd9d46630a1a068, No...           NaN   \n",
       "2  (None, UC.9f1d759b422b4442ac6b2c094c425390, 3,...           NaN   \n",
       "3  (None, None, None, None, None, None, None, Non...  1.568801e+12   \n",
       "4  (True, c878e3d7ba1b44d28574b9a91451aed6, None,...           NaN   \n",
       "\n",
       "           type  \n",
       "0   profile_set  \n",
       "1   profile_set  \n",
       "2   profile_set  \n",
       "3  track_signup  \n",
       "4   profile_set  "
      ]
     },
     "execution_count": 22,
     "metadata": {},
     "output_type": "execute_result"
    }
   ],
   "source": [
    "df.head()"
   ]
  },
  {
   "cell_type": "code",
   "execution_count": 23,
   "metadata": {},
   "outputs": [
    {
     "data": {
      "text/plain": [
       "distinct_id        0\n",
       "event          33091\n",
       "original_id    33091\n",
       "properties         0\n",
       "time           33091\n",
       "type               0\n",
       "dtype: int64"
      ]
     },
     "execution_count": 23,
     "metadata": {},
     "output_type": "execute_result"
    }
   ],
   "source": [
    "df.isnull().sum()"
   ]
  },
  {
   "cell_type": "markdown",
   "metadata": {},
   "source": [
    "# CSV"
   ]
  },
  {
   "cell_type": "code",
   "execution_count": 24,
   "metadata": {},
   "outputs": [],
   "source": [
    "job_data=spark.read.csv('data/51job_data_2.csv')"
   ]
  },
  {
   "cell_type": "code",
   "execution_count": 25,
   "metadata": {},
   "outputs": [
    {
     "name": "stdout",
     "output_type": "stream",
     "text": [
      "+------------------------------+------------+--------------------------------+-------------------------------------+\n",
      "|                           _c0|         _c1|                             _c2|                                  _c3|\n",
      "+------------------------------+------------+--------------------------------+-------------------------------------+\n",
      "|              Python开发工程师|  1-1.5万/月|     厦门  |  无工作经验  |  ...|   工作职责：  1、参与项目系统设计...|\n",
      "|              Python开发工程师|  20-30万/年|    广州-天河区  |  1年经验  ...|岗位职责：根据项目需求，从事交易程...|\n",
      "|Python后台开发工程师(职位编...|1.2-2.2万/月|   上海-浦东新区  |  2年经验 ...|   岗位职责：1.后台和数据框架开发2...|\n",
      "|          Python高级开发工程师|1.5-2.5万/月|    广州-天河区  |  5-7年经验...|   1. 参与相关业务线的后端研发工作...|\n",
      "|                python开发助理|    6-8千/月|     深圳  |  无工作经验  |  ...| 【岗位职责】　　1、服从项目经理分...|\n",
      "|          Python高级开发工程师|  1.5-2万/月|    北京-海淀区  |  3-4年经验...|       1、使用Python，参与气象领域...|\n",
      "|              Python开发工程师|  0.9-1万/月|    苏州-工业园区  |  3-4年经...|计算机软件或相关专业本科以上学历；...|\n",
      "|          python运维开发工程师|  1-1.5万/月|    深圳-南山区  |  2年经验  ...| 岗位职责：1、开发运维平台，研究和...|\n",
      "|              Python开发工程师|  1-1.5万/月|    深圳-南山区  |  2年经验  ...|    1、负责公司产品对接广告平台(Go...|\n",
      "|               python开发-武汉|  1-1.8万/月|武汉-东湖新技术产业开发区  | ...|      【岗位职责】1、负责提供DevOp...|\n",
      "|              Python开发工程师|    6-8千/月|  西安-雁塔区  |  无工作经验 ...|      技能要求：Python技能要求：数...|\n",
      "|              Python开发工程师|  0.8-1万/月|     杭州  |  无工作经验  |  ...|  征服未知，勇做先驱！善贾——拥有国...|\n",
      "|  大数据开发工程师-PYTHON/S...|1.5-2.5万/月|  广州-海珠区  |  无工作经验 ...| 1、承担数据抽取、清洗、转化等数据...|\n",
      "|              Python开发工程师|0.8-1.6万/月|    武汉-洪山区  |  2年经验  ...|  工作内容：1、 基础系统架构、模块...|\n",
      "|              Python开发工程师|1.5-2.5万/月|    上海-长宁区  |  3-4年经验...|         岗位职责：1、精通 Python ...|\n",
      "|              Python开发工程师|0.8-1.5万/月|  上海-闵行区  |  无工作经验 ...| 岗位职责：1、负责编写公司三维虚拟...|\n",
      "|              Python开发工程师|  2-2.5万/月|  广州-黄埔区  |  无工作经验 ...|  工作内容：1.参与项目的需求分析，...|\n",
      "|              Python开发工程师|  1-1.5万/月|    北京-朝阳区  |  3-4年经验...|         岗位职责：1.       参与基...|\n",
      "|              Python开发工程师|1.1-1.4万/月|    北京-顺义区  |  3-4年经验...|                 1. Build implemen...|\n",
      "|              Python开发工程师|  5.5-7千/月|     武汉  |  无工作经验  |  ...|        岗位要求：1、熟悉Python、J...|\n",
      "+------------------------------+------------+--------------------------------+-------------------------------------+\n",
      "only showing top 20 rows\n",
      "\n"
     ]
    }
   ],
   "source": [
    "job_data.show()"
   ]
  },
  {
   "cell_type": "code",
   "execution_count": 26,
   "metadata": {},
   "outputs": [],
   "source": [
    "table=job_data.registerTempTable('myjob')"
   ]
  },
  {
   "cell_type": "code",
   "execution_count": 27,
   "metadata": {},
   "outputs": [],
   "source": [
    "res=spark.sql('select _c0 from myjob')"
   ]
  },
  {
   "cell_type": "code",
   "execution_count": 28,
   "metadata": {},
   "outputs": [
    {
     "data": {
      "text/plain": [
       "[Row(_c0='Python开发工程师'),\n",
       " Row(_c0='Python开发工程师'),\n",
       " Row(_c0='Python后台开发工程师(职位编号：005)'),\n",
       " Row(_c0='Python高级开发工程师'),\n",
       " Row(_c0='python开发助理')]"
      ]
     },
     "execution_count": 28,
     "metadata": {},
     "output_type": "execute_result"
    }
   ],
   "source": [
    "res.head(5)"
   ]
  },
  {
   "cell_type": "markdown",
   "metadata": {},
   "source": [
    "# MYSQL"
   ]
  },
  {
   "cell_type": "code",
   "execution_count": 29,
   "metadata": {},
   "outputs": [],
   "source": [
    "users=spark.read.format('jdbc').options(url='jdbc:mysql://127.0.0.1:3306', dbtable='mycms.users', user='root', password='123456', useUnicode=True, characterEncoding='utf-8', serverTimezone='UTC').load()"
   ]
  },
  {
   "cell_type": "code",
   "execution_count": 30,
   "metadata": {},
   "outputs": [
    {
     "name": "stdout",
     "output_type": "stream",
     "text": [
      "+-------+---------------+--------+--------+--------+------+---+---+---------+-------------------+-------------------+\n",
      "|user_id|       username|realname|password|province|  city|age|sex|    hobby|           reg_date|         last_login|\n",
      "+-------+---------------+--------+--------+--------+------+---+---+---------+-------------------+-------------------+\n",
      "|    100|           luxp|  humoha|  270776|    浙江|  杭州| 15| 男|         |2019-07-04 19:08:53|2019-11-25 19:08:53|\n",
      "|    101|          admin|  vprzyf|  469459|    浙江|  台州| 26| 男|         |2019-10-15 19:08:53|2020-02-02 19:08:53|\n",
      "|    102|       articuly|  wrjldn|  152100|    山东|  青岛| 25| 女|钓鱼,旅游|2019-04-20 19:08:53|2019-06-06 19:08:53|\n",
      "|    103|       pjterunk|  jesfuh|  820638|    浙江|  杭州| 32| 男|     唱歌|2019-04-30 19:08:53|2019-11-14 19:08:53|\n",
      "|    104|      qupkqegxw|  ylfxqv|  632010|    广东|  珠海| 41| 女|     钓鱼|2019-10-03 19:08:53|2020-05-19 19:08:53|\n",
      "|    105|       hecccgon|  klqdhb|  299862|    广东|  肇庆| 22| 男|钓鱼,唱歌|2020-02-01 19:08:53|2020-05-29 19:08:53|\n",
      "|    106|   dzfsxthuerjr|  lmxehb|  515969|    重庆|江津区| 20| 女|旅游,看书|2019-05-19 19:08:53|2019-12-17 19:08:53|\n",
      "|    107|  ebwmnrgaixgem|  ffopdr|  839335|    上海|杨浦区| 18| 男|看书,唱歌|2019-08-13 19:08:53|2019-11-03 19:08:53|\n",
      "|    108| oqktjahysiomvc|  lcmjiv|  808037|    山东|  青岛| 24| 男|     旅游|2020-02-14 19:08:53|2020-05-22 19:08:53|\n",
      "|    109|xhynahfobrzwbbc|  akhcnb|  177944|    重庆|巴南区| 45| 男|看书,唱歌|2019-07-05 19:08:53|2020-03-09 19:08:53|\n",
      "|    110|ujbkgrowtmlpmkh|  wkehuf|  902580|    广东|  佛山| 23| 男|         |2020-01-21 19:08:53|2020-06-15 19:08:53|\n",
      "|    111|       uqfiwjqf|  yanupc|  498947|    浙江|  温州| 17| 女|     看书|2020-02-05 19:08:53|2020-05-28 19:08:53|\n",
      "|    112|czipmdoboijojla|  nlwirv|  597951|    广东|  广州| 41| 女|钓鱼,看书|2020-02-23 19:08:53|2020-09-24 19:08:53|\n",
      "|    113|   cqkamzjuhnoc|  rszvsy|  799857|    广东|  中山| 31| 女|钓鱼,旅游|2019-11-20 19:08:53|2020-07-26 19:08:53|\n",
      "|    114|         zwiqgz|  rtgovn|  936676|    浙江|  温州| 43| 男|         |2019-04-21 19:08:53|2019-11-01 19:08:53|\n",
      "|    115|      mwugpxall|  cotfgz|  174662|    上海|杨浦区| 44| 女|     旅游|2019-09-18 19:08:53|2019-10-08 19:08:53|\n",
      "|    116|         yegewq|  bezmnj|  234182|    山东|  烟台| 42| 女|         |2020-04-09 19:08:53|2020-06-10 19:08:53|\n",
      "|    117|         jkqukz|  rkxurn|  642487|    北京|通州区| 26| 女|     钓鱼|2019-05-22 19:08:53|2019-12-17 19:08:53|\n",
      "|    118| qldltdwpfpycxw|  yituqz|  788514|    湖北|  宜昌| 22| 女|钓鱼,旅游|2020-02-12 19:08:53|2020-08-10 19:08:53|\n",
      "|    119|         xqfypu|  twgjjh|  823382|    山东|  烟台| 30| 女|     唱歌|2019-10-17 19:08:53|2019-11-09 19:08:53|\n",
      "+-------+---------------+--------+--------+--------+------+---+---+---------+-------------------+-------------------+\n",
      "only showing top 20 rows\n",
      "\n"
     ]
    }
   ],
   "source": [
    "users.show()"
   ]
  },
  {
   "cell_type": "code",
   "execution_count": 31,
   "metadata": {},
   "outputs": [
    {
     "data": {
      "text/plain": [
       "DataFrame[user_id: int, username: string, realname: string, password: string, province: string, city: string, age: int, sex: string, hobby: string, reg_date: timestamp, last_login: timestamp]"
      ]
     },
     "execution_count": 31,
     "metadata": {},
     "output_type": "execute_result"
    }
   ],
   "source": [
    "users"
   ]
  },
  {
   "cell_type": "code",
   "execution_count": 32,
   "metadata": {},
   "outputs": [
    {
     "data": {
      "text/plain": [
       "[('user_id', 'int'),\n",
       " ('username', 'string'),\n",
       " ('realname', 'string'),\n",
       " ('password', 'string'),\n",
       " ('province', 'string'),\n",
       " ('city', 'string'),\n",
       " ('age', 'int'),\n",
       " ('sex', 'string'),\n",
       " ('hobby', 'string'),\n",
       " ('reg_date', 'timestamp'),\n",
       " ('last_login', 'timestamp')]"
      ]
     },
     "execution_count": 32,
     "metadata": {},
     "output_type": "execute_result"
    }
   ],
   "source": [
    "users.dtypes"
   ]
  },
  {
   "cell_type": "markdown",
   "metadata": {},
   "source": [
    "# 普通文本"
   ]
  },
  {
   "cell_type": "code",
   "execution_count": 48,
   "metadata": {},
   "outputs": [],
   "source": [
    "# 读取普通文本数据并转换为DataFrame\n",
    "# 普通文本数据没有结构需要自定义结构\n",
    "sc=SparkContext.getOrCreate(SparkConf().setMaster(\"local[4]\"))"
   ]
  },
  {
   "cell_type": "code",
   "execution_count": 49,
   "metadata": {},
   "outputs": [],
   "source": [
    "lines=sc.textFile('data/web_access_demo.log', use_unicode=True)"
   ]
  },
  {
   "cell_type": "code",
   "execution_count": 51,
   "metadata": {},
   "outputs": [],
   "source": [
    "new_lines=lines.map(lambda x: x.split(' '))"
   ]
  },
  {
   "cell_type": "code",
   "execution_count": 65,
   "metadata": {},
   "outputs": [
    {
     "data": {
      "text/plain": [
       "[['27.19.74.143',\n",
       "  '-',\n",
       "  '30/May/2013:17:38:20',\n",
       "  '+0800',\n",
       "  '\"GET',\n",
       "  '/static/image/common/faq.gif',\n",
       "  'HTTP/1.1\"',\n",
       "  '200',\n",
       "  '1127'],\n",
       " ['110.52.250.126',\n",
       "  '-',\n",
       "  '30/May/2013:17:38:20',\n",
       "  '+0800',\n",
       "  '\"GET',\n",
       "  '/data/cache/style_1_widthauto.css?y7a',\n",
       "  'HTTP/1.1\"',\n",
       "  '200',\n",
       "  '1292'],\n",
       " ['27.19.74.143',\n",
       "  '-',\n",
       "  '30/May/2013:17:38:20',\n",
       "  '+0800',\n",
       "  '\"GET',\n",
       "  '/static/image/common/hot_1.gif',\n",
       "  'HTTP/1.1\"',\n",
       "  '200',\n",
       "  '680']]"
      ]
     },
     "execution_count": 65,
     "metadata": {},
     "output_type": "execute_result"
    }
   ],
   "source": [
    "new_lines.take(3)"
   ]
  },
  {
   "cell_type": "code",
   "execution_count": 66,
   "metadata": {},
   "outputs": [],
   "source": [
    "visit_log=new_lines.map(lambda x: (x[0], x[2], x[4], x[5], x[7]))"
   ]
  },
  {
   "cell_type": "code",
   "execution_count": 67,
   "metadata": {},
   "outputs": [],
   "source": [
    "# 字段列表\n",
    "schemaString=['ip', 'date', 'methed', 'path', 'code']\n",
    "# 生成字段列表结构\n",
    "from pyspark.sql.types import StructField, StringType, StructType\n",
    "fields = [StructField(field_name, StringType(), nullable=True) for field_name in schemaString]\n",
    "schema=StructType(fields)"
   ]
  },
  {
   "cell_type": "code",
   "execution_count": 68,
   "metadata": {},
   "outputs": [
    {
     "data": {
      "text/plain": [
       "\u001b[1;31mInit signature:\u001b[0m \u001b[0mStructField\u001b[0m\u001b[1;33m(\u001b[0m\u001b[0mname\u001b[0m\u001b[1;33m,\u001b[0m \u001b[0mdataType\u001b[0m\u001b[1;33m,\u001b[0m \u001b[0mnullable\u001b[0m\u001b[1;33m=\u001b[0m\u001b[1;32mTrue\u001b[0m\u001b[1;33m,\u001b[0m \u001b[0mmetadata\u001b[0m\u001b[1;33m=\u001b[0m\u001b[1;32mNone\u001b[0m\u001b[1;33m)\u001b[0m\u001b[1;33m\u001b[0m\u001b[1;33m\u001b[0m\u001b[0m\n",
       "\u001b[1;31mDocstring:\u001b[0m     \n",
       "A field in :class:`StructType`.\n",
       "\n",
       ":param name: string, name of the field.\n",
       ":param dataType: :class:`DataType` of the field.\n",
       ":param nullable: boolean, whether the field can be null (None) or not.\n",
       ":param metadata: a dict from string to simple type that can be toInternald to JSON automatically\n",
       "\u001b[1;31mInit docstring:\u001b[0m\n",
       ">>> (StructField(\"f1\", StringType(), True)\n",
       "...      == StructField(\"f1\", StringType(), True))\n",
       "True\n",
       ">>> (StructField(\"f1\", StringType(), True)\n",
       "...      == StructField(\"f2\", StringType(), True))\n",
       "False\n",
       "\u001b[1;31mFile:\u001b[0m           d:\\programing\\anaconda3\\envs\\spark_env\\lib\\site-packages\\pyspark\\sql\\types.py\n",
       "\u001b[1;31mType:\u001b[0m           type\n",
       "\u001b[1;31mSubclasses:\u001b[0m     \n"
      ]
     },
     "metadata": {},
     "output_type": "display_data"
    }
   ],
   "source": [
    "StructField?"
   ]
  },
  {
   "cell_type": "code",
   "execution_count": 73,
   "metadata": {},
   "outputs": [
    {
     "data": {
      "text/plain": [
       "StructType(List(StructField(ip,StringType,true),StructField(date,StringType,true),StructField(methed,StringType,true),StructField(path,StringType,true),StructField(code,StringType,true)))"
      ]
     },
     "execution_count": 73,
     "metadata": {},
     "output_type": "execute_result"
    }
   ],
   "source": [
    "schema"
   ]
  },
  {
   "cell_type": "code",
   "execution_count": 71,
   "metadata": {},
   "outputs": [],
   "source": [
    "# 转为数据库\n",
    "visit_log_db=spark.createDataFrame(visit_log, schema)"
   ]
  },
  {
   "cell_type": "code",
   "execution_count": 72,
   "metadata": {},
   "outputs": [
    {
     "name": "stdout",
     "output_type": "stream",
     "text": [
      "+--------------+--------------------+------+--------------------+----+\n",
      "|            ip|                date|methed|                path|code|\n",
      "+--------------+--------------------+------+--------------------+----+\n",
      "|  27.19.74.143|30/May/2013:17:38:20|  \"GET|/static/image/com...| 200|\n",
      "|110.52.250.126|30/May/2013:17:38:20|  \"GET|/data/cache/style...| 200|\n",
      "|  27.19.74.143|30/May/2013:17:38:20|  \"GET|/static/image/com...| 200|\n",
      "|  27.19.74.143|30/May/2013:17:38:20|  \"GET|/static/image/com...| 200|\n",
      "|  27.19.74.143|30/May/2013:17:38:20|  \"GET|/static/image/fil...| 200|\n",
      "|110.52.250.126|30/May/2013:17:38:20|  \"GET|/source/plugin/ws...| 200|\n",
      "|110.52.250.126|30/May/2013:17:38:20|  \"GET|/data/cache/style...| 200|\n",
      "|110.52.250.126|30/May/2013:17:38:20|  \"GET|/source/plugin/ws...| 200|\n",
      "|  27.19.74.143|30/May/2013:17:38:20|  \"GET|/static/image/com...| 200|\n",
      "|110.52.250.126|30/May/2013:17:38:20|  \"GET|/static/image/com...| 200|\n",
      "|  27.19.74.143|30/May/2013:17:38:20|  \"GET|/data/attachment/...| 200|\n",
      "|110.52.250.126|30/May/2013:17:38:20|  \"GET|/static/js/loggin...| 200|\n",
      "|  8.35.201.144|30/May/2013:17:38:20|  \"GET|/uc_server/avatar...| 301|\n",
      "|  27.19.74.143|30/May/2013:17:38:20|  \"GET|/data/cache/commo...| 200|\n",
      "|  27.19.74.143|30/May/2013:17:38:20|  \"GET|/static/image/com...| 200|\n",
      "|  27.19.74.143|30/May/2013:17:38:20|  \"GET|/static/image/com...| 200|\n",
      "|  27.19.74.143|30/May/2013:17:38:20|  \"GET|/static/image/edi...| 200|\n",
      "|  8.35.201.165|30/May/2013:17:38:21|  \"GET|/uc_server/data/a...| 200|\n",
      "|  8.35.201.164|30/May/2013:17:38:21|  \"GET|/uc_server/data/a...| 200|\n",
      "|  8.35.201.163|30/May/2013:17:38:21|  \"GET|/uc_server/data/a...| 200|\n",
      "+--------------+--------------------+------+--------------------+----+\n",
      "only showing top 20 rows\n",
      "\n"
     ]
    }
   ],
   "source": [
    "visit_log_df.show()"
   ]
  },
  {
   "cell_type": "code",
   "execution_count": 74,
   "metadata": {},
   "outputs": [
    {
     "data": {
      "text/plain": [
       "DataFrame[ip: string, date: string, methed: string, path: string, code: string]"
      ]
     },
     "execution_count": 74,
     "metadata": {},
     "output_type": "execute_result"
    }
   ],
   "source": [
    "visit_log_db"
   ]
  },
  {
   "cell_type": "code",
   "execution_count": 75,
   "metadata": {},
   "outputs": [
    {
     "name": "stdout",
     "output_type": "stream",
     "text": [
      "root\n",
      " |-- ip: string (nullable = true)\n",
      " |-- date: string (nullable = true)\n",
      " |-- methed: string (nullable = true)\n",
      " |-- path: string (nullable = true)\n",
      " |-- code: string (nullable = true)\n",
      "\n"
     ]
    }
   ],
   "source": [
    "visit_log_db.printSchema()"
   ]
  },
  {
   "cell_type": "code",
   "execution_count": 76,
   "metadata": {},
   "outputs": [],
   "source": [
    "# 通过DataFrame创建数据视图\n",
    "visit_log_db.createOrReplaceTempView('mytable')"
   ]
  },
  {
   "cell_type": "code",
   "execution_count": 77,
   "metadata": {},
   "outputs": [],
   "source": [
    "res=spark.sql('select ip from mytable')"
   ]
  },
  {
   "cell_type": "code",
   "execution_count": 79,
   "metadata": {},
   "outputs": [
    {
     "name": "stdout",
     "output_type": "stream",
     "text": [
      "+--------------+\n",
      "|            ip|\n",
      "+--------------+\n",
      "|  27.19.74.143|\n",
      "|110.52.250.126|\n",
      "|  27.19.74.143|\n",
      "|  27.19.74.143|\n",
      "|  27.19.74.143|\n",
      "|110.52.250.126|\n",
      "|110.52.250.126|\n",
      "|110.52.250.126|\n",
      "|  27.19.74.143|\n",
      "|110.52.250.126|\n",
      "|  27.19.74.143|\n",
      "|110.52.250.126|\n",
      "|  8.35.201.144|\n",
      "|  27.19.74.143|\n",
      "|  27.19.74.143|\n",
      "|  27.19.74.143|\n",
      "|  27.19.74.143|\n",
      "|  8.35.201.165|\n",
      "|  8.35.201.164|\n",
      "|  8.35.201.163|\n",
      "+--------------+\n",
      "only showing top 20 rows\n",
      "\n"
     ]
    }
   ],
   "source": [
    "res.show()"
   ]
  },
  {
   "cell_type": "code",
   "execution_count": 80,
   "metadata": {},
   "outputs": [],
   "source": [
    "json_data.createOrReplaceTempView(\"mytable\")\n",
    "res = spark.sql(\"select distinct_id from mytable\")"
   ]
  },
  {
   "cell_type": "code",
   "execution_count": 81,
   "metadata": {},
   "outputs": [
    {
     "data": {
      "text/plain": [
       "[Row(distinct_id='UC.aed7566e01ed4fb99be03f980ff4293f'),\n",
       " Row(distinct_id='UC.3ea5453b6b6542f29bd9d46630a1a068'),\n",
       " Row(distinct_id='UC.9f1d759b422b4442ac6b2c094c425390'),\n",
       " Row(distinct_id='11AE142139D946EDB00C4F5EAF074298'),\n",
       " Row(distinct_id='11AE142139D946EDB00C4F5EAF074298'),\n",
       " Row(distinct_id='BA15409A2F1945E8A38A7359DB4A1CB5\\n'),\n",
       " Row(distinct_id='BA15409A2F1945E8A38A7359DB4A1CB5\\n'),\n",
       " Row(distinct_id='941EDDFC022B42B999F0B78D5D28E414'),\n",
       " Row(distinct_id='941EDDFC022B42B999F0B78D5D28E414'),\n",
       " Row(distinct_id='UC.7c67fb5a639a48739d8b9a0d9b57b37c')]"
      ]
     },
     "execution_count": 81,
     "metadata": {},
     "output_type": "execute_result"
    }
   ],
   "source": [
    "res.take(10)"
   ]
  },
  {
   "cell_type": "code",
   "execution_count": null,
   "metadata": {},
   "outputs": [],
   "source": []
  }
 ],
 "metadata": {
  "kernelspec": {
   "display_name": "Python [conda env:spark_env]",
   "language": "python",
   "name": "conda-env-spark_env-py"
  },
  "language_info": {
   "codemirror_mode": {
    "name": "ipython",
    "version": 3
   },
   "file_extension": ".py",
   "mimetype": "text/x-python",
   "name": "python",
   "nbconvert_exporter": "python",
   "pygments_lexer": "ipython3",
   "version": "3.7.9"
  }
 },
 "nbformat": 4,
 "nbformat_minor": 4
}
