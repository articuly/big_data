{
 "cells": [
  {
   "cell_type": "code",
   "execution_count": 1,
   "metadata": {},
   "outputs": [],
   "source": [
    "from pyspark import SparkContext, SparkConf\n",
    "\n",
    "# local - 本地运行\n",
    "conf = SparkConf().setMaster(\"local\").setAppName(\"myApp\")\n",
    "sc = SparkContext(conf=conf)"
   ]
  },
  {
   "cell_type": "code",
   "execution_count": 2,
   "metadata": {},
   "outputs": [],
   "source": [
    "# 键值对rdd(pairRDD)\n",
    "# 键值型rdd适合进行聚合运算\n",
    "# (\"ip\", 访问次数）\n",
    "new_pair_rdd = sc.parallelize([(\"192.168.3.11\", 32), (\"192.168.3.12\", 50),\n",
    "                               (\"192.168.3.11\", 30), (\"192.168.3.12\", 21),\n",
    "                               (\"192.168.3.12\", 15), (\"192.168.3.11\", 63),\n",
    "                               (\"192.168.3.11\", 33), (\"192.168.3.11\", 32)])"
   ]
  },
  {
   "cell_type": "code",
   "execution_count": 3,
   "metadata": {},
   "outputs": [
    {
     "data": {
      "text/plain": [
       "['192.168.3.11',\n",
       " '192.168.3.12',\n",
       " '192.168.3.11',\n",
       " '192.168.3.12',\n",
       " '192.168.3.12',\n",
       " '192.168.3.11',\n",
       " '192.168.3.11',\n",
       " '192.168.3.11']"
      ]
     },
     "execution_count": 3,
     "metadata": {},
     "output_type": "execute_result"
    }
   ],
   "source": [
    "# 所有键\n",
    "new_pair_rdd.keys().collect()"
   ]
  },
  {
   "cell_type": "code",
   "execution_count": 4,
   "metadata": {},
   "outputs": [
    {
     "data": {
      "text/plain": [
       "[32, 50, 30, 21, 15, 63, 33, 32]"
      ]
     },
     "execution_count": 4,
     "metadata": {},
     "output_type": "execute_result"
    }
   ],
   "source": [
    "# 所有值\n",
    "new_pair_rdd.values().collect()"
   ]
  },
  {
   "cell_type": "code",
   "execution_count": 5,
   "metadata": {},
   "outputs": [
    {
     "data": {
      "text/plain": [
       "8"
      ]
     },
     "execution_count": 5,
     "metadata": {},
     "output_type": "execute_result"
    }
   ],
   "source": [
    "# 统计元素个数\n",
    "new_pair_rdd.count()"
   ]
  },
  {
   "cell_type": "code",
   "execution_count": 6,
   "metadata": {},
   "outputs": [
    {
     "data": {
      "text/plain": [
       "defaultdict(int, {'192.168.3.11': 5, '192.168.3.12': 3})"
      ]
     },
     "execution_count": 6,
     "metadata": {},
     "output_type": "execute_result"
    }
   ],
   "source": [
    "# 按键名统计元素个数\n",
    "new_pair_rdd.countByKey()"
   ]
  },
  {
   "cell_type": "code",
   "execution_count": 7,
   "metadata": {},
   "outputs": [
    {
     "data": {
      "text/plain": [
       "defaultdict(int,\n",
       "            {('192.168.3.11', 32): 2,\n",
       "             ('192.168.3.12', 50): 1,\n",
       "             ('192.168.3.11', 30): 1,\n",
       "             ('192.168.3.12', 21): 1,\n",
       "             ('192.168.3.12', 15): 1,\n",
       "             ('192.168.3.11', 63): 1,\n",
       "             ('192.168.3.11', 33): 1})"
      ]
     },
     "execution_count": 7,
     "metadata": {},
     "output_type": "execute_result"
    }
   ],
   "source": [
    "# 按照值统计元素个数，加上键的区别\n",
    "new_pair_rdd.countByValue()"
   ]
  },
  {
   "cell_type": "code",
   "execution_count": 8,
   "metadata": {},
   "outputs": [
    {
     "data": {
      "text/plain": [
       "[('192.168.3.11', 190), ('192.168.3.12', 86)]"
      ]
     },
     "execution_count": 8,
     "metadata": {},
     "output_type": "execute_result"
    }
   ],
   "source": [
    "# 根据键值reduce\n",
    "rdd = new_pair_rdd.reduceByKey(lambda x, y: x + y)\n",
    "rdd.collect()"
   ]
  },
  {
   "cell_type": "code",
   "execution_count": 9,
   "metadata": {},
   "outputs": [
    {
     "data": {
      "text/plain": [
       "[('192.168.3.11', <pyspark.resultiterable.ResultIterable at 0x21a378308c8>),\n",
       " ('192.168.3.12', <pyspark.resultiterable.ResultIterable at 0x21a37830808>)]"
      ]
     },
     "execution_count": 9,
     "metadata": {},
     "output_type": "execute_result"
    }
   ],
   "source": [
    "# 根据键进行分组\n",
    "rdd = new_pair_rdd.groupByKey()\n",
    "rdd.collect()"
   ]
  },
  {
   "cell_type": "code",
   "execution_count": 10,
   "metadata": {},
   "outputs": [
    {
     "data": {
      "text/plain": [
       "[('192.168.3.11', 5), ('192.168.3.12', 3)]"
      ]
     },
     "execution_count": 10,
     "metadata": {},
     "output_type": "execute_result"
    }
   ],
   "source": [
    "# 对每个值进行mapValues\n",
    "# 对分组后的rdd进行mapValues\n",
    "rdd.mapValues(len).collect()"
   ]
  },
  {
   "cell_type": "code",
   "execution_count": 11,
   "metadata": {},
   "outputs": [
    {
     "data": {
      "text/plain": [
       "[('192.168.3.11', [32, 30, 63, 33, 32]), ('192.168.3.12', [50, 21, 15])]"
      ]
     },
     "execution_count": 11,
     "metadata": {},
     "output_type": "execute_result"
    }
   ],
   "source": [
    "rdd.mapValues(list).collect()"
   ]
  },
  {
   "cell_type": "code",
   "execution_count": 12,
   "metadata": {},
   "outputs": [
    {
     "data": {
      "text/plain": [
       "[('192.168.3.11', 190), ('192.168.3.12', 86)]"
      ]
     },
     "execution_count": 12,
     "metadata": {},
     "output_type": "execute_result"
    }
   ],
   "source": [
    "rdd.mapValues(sum).collect()"
   ]
  },
  {
   "cell_type": "code",
   "execution_count": 13,
   "metadata": {},
   "outputs": [],
   "source": [
    "# ############################################\n",
    "# new_pair_rdd.combineByKey(createCombiner, mergeValue, mergeCombiners)\n",
    "# combineByKey过程中，会遍历每一个元素\n",
    "# createCombiner - 遍历过程中，当第一次遍历到某个键时,使用createCombiner创建一个这个键的初始值(在每个分区)\n",
    "# mergeValue - 将新值添加到对应的key元素值中\n",
    "# mergeCombiners - 将两个组合成一个\n",
    "# combineByKey可以把rdd的value整合成不同类型的value，比如原来的是[(\"a\",1),(\"a\",2)]可以整合成[(\"a\",3)]\n",
    "# 也可以整合成[(\"a\",[1,2])]\n",
    "# ###############################################"
   ]
  },
  {
   "cell_type": "code",
   "execution_count": 14,
   "metadata": {},
   "outputs": [],
   "source": [
    "new_pair_rdd = sc.parallelize([\n",
    "    (\"a\", [1, 2, 3, 4]),\n",
    "    (\"b\", [10, 20, 30, 40]),\n",
    "    (\"a\", [6, 7, 8, 9]),\n",
    "    (\"b\", [60, 70, 80, 90]),\n",
    "])"
   ]
  },
  {
   "cell_type": "code",
   "execution_count": 15,
   "metadata": {},
   "outputs": [],
   "source": [
    "# No.1 对每个键的每一个元素首先求和，然后所有的和合并成一个列表\n",
    "# 目标 [(\"a\",[10, 30]), (\"b\", [100,300])]\n",
    "# 遇到的第一个新元素\n",
    "def create_list(first_item):\n",
    "    print('first=', first_item)\n",
    "    return [sum(first_item)]"
   ]
  },
  {
   "cell_type": "code",
   "execution_count": 16,
   "metadata": {},
   "outputs": [],
   "source": [
    "# 将后面遇到的相同的key元素添加到对应的列表\n",
    "def append(last_result, current_item):\n",
    "    print('args:', last_result, current_item)\n",
    "    last_result.append(sum(current_item))\n",
    "    return last_result"
   ]
  },
  {
   "cell_type": "code",
   "execution_count": 17,
   "metadata": {},
   "outputs": [],
   "source": [
    "# 每个分区最后合并成一个新的列表，只有一个区不会执行\n",
    "def extend(last_partitioner, current_partitioner):\n",
    "    print('partitioner:', last_partitioner, current_partitioner)\n",
    "    last_partitioner.extend(current_partitioner)\n",
    "    return last_partitioner"
   ]
  },
  {
   "cell_type": "code",
   "execution_count": 18,
   "metadata": {},
   "outputs": [],
   "source": [
    "rdd1 = new_pair_rdd.combineByKey(create_list, append, extend)"
   ]
  },
  {
   "cell_type": "code",
   "execution_count": 19,
   "metadata": {},
   "outputs": [
    {
     "data": {
      "text/plain": [
       "[('a', [10, 30]), ('b', [100, 300])]"
      ]
     },
     "execution_count": 19,
     "metadata": {},
     "output_type": "execute_result"
    }
   ],
   "source": [
    "rdd1.collect()"
   ]
  },
  {
   "cell_type": "code",
   "execution_count": 20,
   "metadata": {},
   "outputs": [],
   "source": [
    "# No.2 每个键求一个总和\n",
    "# 目标 [(\"a\",40), (\"b\", 400)]\n",
    "def create_init(first_item):\n",
    "    return sum(first_item)\n",
    "\n",
    "\n",
    "def accumulation(last_result, current_item):\n",
    "    return last_result + sum(current_item)\n",
    "\n",
    "\n",
    "def reduce_partitioner(last_partitioner, current_partitioner):\n",
    "    return last_partitioner + current_partitioner"
   ]
  },
  {
   "cell_type": "code",
   "execution_count": 21,
   "metadata": {},
   "outputs": [],
   "source": [
    "rdd2 = new_pair_rdd.combineByKey(create_init, accumulation, reduce_partitioner)"
   ]
  },
  {
   "cell_type": "code",
   "execution_count": 22,
   "metadata": {},
   "outputs": [
    {
     "data": {
      "text/plain": [
       "[('a', 40), ('b', 400)]"
      ]
     },
     "execution_count": 22,
     "metadata": {},
     "output_type": "execute_result"
    }
   ],
   "source": [
    "rdd2.collect()"
   ]
  },
  {
   "cell_type": "code",
   "execution_count": 23,
   "metadata": {},
   "outputs": [],
   "source": [
    "# 统计各地总销量\n",
    "# 地区1\n",
    "# 商品名  2018年  2019年  2020年\n",
    "# mac    1000    1200   1000\n",
    "# iphone 3000    3300   1800\n",
    "\n",
    "# 地区2\n",
    "# 商品名  2018年  2019年  2020年\n",
    "# mac    1100    1300   1200\n",
    "# iphone 3200    3100   2000\n",
    "\n",
    "# 地区3\n",
    "# 商品名  2018年  2019年  2020年\n",
    "# mac    1500    1800   1300\n",
    "# iphone 3100    3200   2200"
   ]
  },
  {
   "cell_type": "code",
   "execution_count": 24,
   "metadata": {},
   "outputs": [],
   "source": [
    "sale_rdd = sc.parallelize([\n",
    "    (\"mac\", [1000, 1200, 1000]),\n",
    "    (\"iphone\", [3000, 3300, 1800]),\n",
    "    (\"mac\", [1100, 1300, 1200]),\n",
    "    (\"iphone\", [3200, 3100, 2000]),\n",
    "    (\"mac\", [1500, 1800, 1300]),\n",
    "    (\"iphone\", [3100, 3200, 2200]),\n",
    "])"
   ]
  },
  {
   "cell_type": "code",
   "execution_count": 25,
   "metadata": {},
   "outputs": [],
   "source": [
    "sale_count_1 = sale_rdd.combineByKey(create_list, append, extend)"
   ]
  },
  {
   "cell_type": "code",
   "execution_count": 26,
   "metadata": {},
   "outputs": [
    {
     "data": {
      "text/plain": [
       "[('mac', [3200, 3600, 4600]), ('iphone', [8100, 8300, 8500])]"
      ]
     },
     "execution_count": 26,
     "metadata": {},
     "output_type": "execute_result"
    }
   ],
   "source": [
    "sale_count_1.collect()"
   ]
  },
  {
   "cell_type": "code",
   "execution_count": 27,
   "metadata": {},
   "outputs": [],
   "source": [
    "sale_count_2 = sale_rdd.combineByKey(create_init, accumulation,\n",
    "                                     reduce_partitioner)"
   ]
  },
  {
   "cell_type": "code",
   "execution_count": 28,
   "metadata": {},
   "outputs": [
    {
     "data": {
      "text/plain": [
       "[('mac', 11400), ('iphone', 24900)]"
      ]
     },
     "execution_count": 28,
     "metadata": {},
     "output_type": "execute_result"
    }
   ],
   "source": [
    "sale_count_2.collect()"
   ]
  },
  {
   "cell_type": "code",
   "execution_count": 29,
   "metadata": {},
   "outputs": [],
   "source": [
    "sale_count_3 = sale_rdd.combineByKey(create_list, append, reduce_partitioner)"
   ]
  },
  {
   "cell_type": "code",
   "execution_count": 30,
   "metadata": {},
   "outputs": [
    {
     "data": {
      "text/plain": [
       "[('mac', [3200, 3600, 4600]), ('iphone', [8100, 8300, 8500])]"
      ]
     },
     "execution_count": 30,
     "metadata": {},
     "output_type": "execute_result"
    }
   ],
   "source": [
    "sale_count_3.collect()"
   ]
  },
  {
   "cell_type": "code",
   "execution_count": 37,
   "metadata": {},
   "outputs": [],
   "source": [
    "def init_item(first_item):\n",
    "    return tuple(first_item)\n",
    "\n",
    "\n",
    "def add_by_year(last_result, current_item):\n",
    "    lst = [last_result[i] + current_item[i] for i in range(len(last_result))]\n",
    "    print(lst)\n",
    "    return lst\n",
    "\n",
    "\n",
    "def reduce_partitioner(last_partitioner, current_partitioner):\n",
    "    return last_partitioner + current_partitioner"
   ]
  },
  {
   "cell_type": "code",
   "execution_count": 38,
   "metadata": {},
   "outputs": [],
   "source": [
    "sale_count_4 = sale_rdd.combineByKey(init_item, add_by_year, reduce_partitioner)"
   ]
  },
  {
   "cell_type": "code",
   "execution_count": 39,
   "metadata": {},
   "outputs": [
    {
     "data": {
      "text/plain": [
       "[('mac', [3600, 4300, 3500]), ('iphone', [9300, 9600, 6000])]"
      ]
     },
     "execution_count": 39,
     "metadata": {},
     "output_type": "execute_result"
    }
   ],
   "source": [
    "sale_count_4.collect()"
   ]
  },
  {
   "cell_type": "code",
   "execution_count": null,
   "metadata": {},
   "outputs": [],
   "source": []
  }
 ],
 "metadata": {
  "kernelspec": {
   "display_name": "Python [conda env:spark_env]",
   "language": "python",
   "name": "conda-env-spark_env-py"
  },
  "language_info": {
   "codemirror_mode": {
    "name": "ipython",
    "version": 3
   },
   "file_extension": ".py",
   "mimetype": "text/x-python",
   "name": "python",
   "nbconvert_exporter": "python",
   "pygments_lexer": "ipython3",
   "version": "3.7.9"
  }
 },
 "nbformat": 4,
 "nbformat_minor": 4
}
