{
 "cells": [
  {
   "cell_type": "code",
   "execution_count": 2,
   "metadata": {},
   "outputs": [],
   "source": [
    "import os\n",
    "from pyspark import SparkContext\n",
    "from pyspark.sql import SparkSession"
   ]
  },
  {
   "cell_type": "code",
   "execution_count": 13,
   "metadata": {},
   "outputs": [],
   "source": [
    "spark=SparkSession.builder.appName('read_hdfs').getOrCreate()"
   ]
  },
  {
   "cell_type": "code",
   "execution_count": 3,
   "metadata": {},
   "outputs": [],
   "source": [
    "spark.conf.set(\"spark.debug.maxToStringFields\", 10000)"
   ]
  },
  {
   "cell_type": "code",
   "execution_count": 4,
   "metadata": {},
   "outputs": [],
   "source": [
    "# 需要先使用hadoop bin/hdfs dfs put命令将本地文件profile上传到hadoop文件系统\n",
    "# 根据core-site.xml定义的文件系统地址访问文件\n",
    "# 读取数据\n",
    "json_data=spark.read.json('hdfs://192.168.32.11:9000/user/root/data/profile.json')"
   ]
  },
  {
   "cell_type": "code",
   "execution_count": 5,
   "metadata": {},
   "outputs": [
    {
     "name": "stdout",
     "output_type": "stream",
     "text": [
      "+--------------------+-------+--------------------+--------------------+-------------+------------+\n",
      "|         distinct_id|  event|         original_id|          properties|         time|        type|\n",
      "+--------------------+-------+--------------------+--------------------+-------------+------------+\n",
      "|UC.aed7566e01ed4f...|   null|                null|[, UC.aed7566e01e...|         null| profile_set|\n",
      "|UC.3ea5453b6b6542...|   null|                null|[, UC.3ea5453b6b6...|         null| profile_set|\n",
      "|UC.9f1d759b422b44...|   null|                null|[, UC.9f1d759b422...|         null| profile_set|\n",
      "|11AE142139D946EDB...|$SignUp|11AE142139D946EDB...|[,,,,,,,,,,,,,,,,...|1568800557532|track_signup|\n",
      "|11AE142139D946EDB...|   null|                null|[true, c878e3d7ba...|         null| profile_set|\n",
      "|BA15409A2F1945E8A...|$SignUp|BA15409A2F1945E8A...|[,,,,,,,,,,,,,,,,...|1568800557532|track_signup|\n",
      "|BA15409A2F1945E8A...|   null|                null|[true,,,,,,,,,,,,...|         null| profile_set|\n",
      "|941EDDFC022B42B99...|$SignUp|941EDDFC022B42B99...|[,,,,,,,,,,,,,,,,...|1568800557533|track_signup|\n",
      "|941EDDFC022B42B99...|   null|                null|[true, ad7ede55b1...|         null| profile_set|\n",
      "|UC.7c67fb5a639a48...|   null|                null|[, UC.7c67fb5a639...|         null| profile_set|\n",
      "|6DABB4E93F9A47C9B...|   null|                null|[, XG.12003a5a15c...|         null| profile_set|\n",
      "|UC.1642eda3b0e247...|   null|                null|[, UC.1642eda3b0e...|         null| profile_set|\n",
      "|XG.fb26332eaa8344...|   null|                null|[, XG.fb26332eaa8...|         null| profile_set|\n",
      "|UC.09999246ce434c...|   null|                null|[, UC.09999246ce4...|         null| profile_set|\n",
      "|543B549D75EA4D09A...|   null|                null|[, 543B549D75EA4D...|         null| profile_set|\n",
      "|404337BDEFDD46B78...|   null|                null|[, UC.6fc63c74eb4...|         null| profile_set|\n",
      "|UC.7175649925874e...|   null|                null|[, UC.71756499258...|         null| profile_set|\n",
      "|047EFA6C5BED4BA0B...|$SignUp|047EFA6C5BED4BA0B...|[,,,,,,,,,,,,,,,,...|1568800557536|track_signup|\n",
      "|047EFA6C5BED4BA0B...|   null|                null|[true, 882a4aa5d2...|         null| profile_set|\n",
      "|2FD26132BFD842DD8...|$SignUp|2FD26132BFD842DD8...|[,,,,,,,,,,,,,,,,...|1568800557536|track_signup|\n",
      "+--------------------+-------+--------------------+--------------------+-------------+------------+\n",
      "only showing top 20 rows\n",
      "\n"
     ]
    }
   ],
   "source": [
    "json_data.show()"
   ]
  },
  {
   "cell_type": "code",
   "execution_count": 6,
   "metadata": {},
   "outputs": [
    {
     "data": {
      "text/plain": [
       "Row(distinct_id='UC.aed7566e01ed4fb99be03f980ff4293f', event=None, original_id=None, properties=Row($is_login_id=None, account='UC.aed7566e01ed4fb99be03f980ff4293f', app_code=3, auction_profit=None, baptise_infos=None, channel_id=104, charm=None, client_version=None, coin_id=None, coin_new_value=None, connect_id=4, copper=None, device_id='ce7a9c904768320eadee8dd238550dcb', device_model='HUAWEI FRD-AL00', elf_infos=None, env_tag=None, equip_infos=None, fashion_level=None, game_id=1, gold=None, guild_level=None, guild_name=None, guild_uid=None, is_online=None, is_pay_first=None, is_zc=None, jade_infos=None, jewel_infos=None, job=None, level=None, log_type='account', login_in_time=None, login_ip='222.188.128.144', login_out_time=None, muhon_infos=None, online_time=None, os='Android', os_ver='Android OS 8.0.0 / API-26 (HUAWEIFRD-AL00/535(C00))', pay_gold_times=None, pay_last_time=None, pay_real_amount=None, pay_times=None, pay_total_amount=None, pay_virtual_amount=None, platform_id=1, rebirth_level=None, register_ip='117.63.92.26', register_time='2018-10-16 10:01:45.000', role_name=None, sdk_accountid=None, server_id=102, server_version=None, sex=None, test_serverid=None, vip=None, vip_exp=None, wifi=None, wing_level=None), time=None, type='profile_set')"
      ]
     },
     "execution_count": 6,
     "metadata": {},
     "output_type": "execute_result"
    }
   ],
   "source": [
    "json_data.first()"
   ]
  },
  {
   "cell_type": "code",
   "execution_count": 8,
   "metadata": {},
   "outputs": [],
   "source": [
    "# 存入hdfs\n",
    "json_data.write.save('hdfs://lan.node1:9000/user/root/backup/profile.bk')"
   ]
  },
  {
   "cell_type": "code",
   "execution_count": 9,
   "metadata": {},
   "outputs": [
    {
     "data": {
      "text/plain": [
       "\u001b[1;31mSignature:\u001b[0m \u001b[0mjson_data\u001b[0m\u001b[1;33m.\u001b[0m\u001b[0mselect\u001b[0m\u001b[1;33m(\u001b[0m\u001b[1;33m*\u001b[0m\u001b[0mcols\u001b[0m\u001b[1;33m)\u001b[0m\u001b[1;33m\u001b[0m\u001b[1;33m\u001b[0m\u001b[0m\n",
       "\u001b[1;31mDocstring:\u001b[0m\n",
       "Projects a set of expressions and returns a new :class:`DataFrame`.\n",
       "\n",
       ":param cols: list of column names (string) or expressions (:class:`Column`).\n",
       "    If one of the column names is '*', that column is expanded to include all columns\n",
       "    in the current :class:`DataFrame`.\n",
       "\n",
       ">>> df.select('*').collect()\n",
       "[Row(age=2, name='Alice'), Row(age=5, name='Bob')]\n",
       ">>> df.select('name', 'age').collect()\n",
       "[Row(name='Alice', age=2), Row(name='Bob', age=5)]\n",
       ">>> df.select(df.name, (df.age + 10).alias('age')).collect()\n",
       "[Row(name='Alice', age=12), Row(name='Bob', age=15)]\n",
       "\n",
       ".. versionadded:: 1.3\n",
       "\u001b[1;31mFile:\u001b[0m      d:\\programing\\anaconda3\\envs\\spark_env\\lib\\site-packages\\pyspark\\sql\\dataframe.py\n",
       "\u001b[1;31mType:\u001b[0m      method\n"
      ]
     },
     "metadata": {},
     "output_type": "display_data"
    }
   ],
   "source": [
    "json_data.select?"
   ]
  },
  {
   "cell_type": "code",
   "execution_count": 10,
   "metadata": {},
   "outputs": [],
   "source": [
    "properties_data=json_data.select('properties')"
   ]
  },
  {
   "cell_type": "code",
   "execution_count": 11,
   "metadata": {},
   "outputs": [
    {
     "name": "stdout",
     "output_type": "stream",
     "text": [
      "+--------------------+\n",
      "|          properties|\n",
      "+--------------------+\n",
      "|[, UC.aed7566e01e...|\n",
      "|[, UC.3ea5453b6b6...|\n",
      "|[, UC.9f1d759b422...|\n",
      "|[,,,,,,,,,,,,,,,,...|\n",
      "|[true, c878e3d7ba...|\n",
      "|[,,,,,,,,,,,,,,,,...|\n",
      "|[true,,,,,,,,,,,,...|\n",
      "|[,,,,,,,,,,,,,,,,...|\n",
      "|[true, ad7ede55b1...|\n",
      "|[, UC.7c67fb5a639...|\n",
      "|[, XG.12003a5a15c...|\n",
      "|[, UC.1642eda3b0e...|\n",
      "|[, XG.fb26332eaa8...|\n",
      "|[, UC.09999246ce4...|\n",
      "|[, 543B549D75EA4D...|\n",
      "|[, UC.6fc63c74eb4...|\n",
      "|[, UC.71756499258...|\n",
      "|[,,,,,,,,,,,,,,,,...|\n",
      "|[true, 882a4aa5d2...|\n",
      "|[,,,,,,,,,,,,,,,,...|\n",
      "+--------------------+\n",
      "only showing top 20 rows\n",
      "\n"
     ]
    }
   ],
   "source": [
    "properties_data.show()"
   ]
  },
  {
   "cell_type": "code",
   "execution_count": 12,
   "metadata": {},
   "outputs": [
    {
     "ename": "Py4JJavaError",
     "evalue": "An error occurred while calling o81.text.\n: org.apache.hadoop.net.ConnectTimeoutException: Call From Articuly-LT/192.168.142.1 to 192.168.3.171:9000 failed on socket timeout exception: org.apache.hadoop.net.ConnectTimeoutException: 20000 millis timeout while waiting for channel to be ready for connect. ch : java.nio.channels.SocketChannel[connection-pending remote=192.168.3.171/192.168.3.171:9000]; For more details see:  http://wiki.apache.org/hadoop/SocketTimeout\r\n\tat sun.reflect.NativeConstructorAccessorImpl.newInstance0(Native Method)\r\n\tat sun.reflect.NativeConstructorAccessorImpl.newInstance(NativeConstructorAccessorImpl.java:62)\r\n\tat sun.reflect.DelegatingConstructorAccessorImpl.newInstance(DelegatingConstructorAccessorImpl.java:45)\r\n\tat java.lang.reflect.Constructor.newInstance(Constructor.java:423)\r\n\tat org.apache.hadoop.net.NetUtils.wrapWithMessage(NetUtils.java:792)\r\n\tat org.apache.hadoop.net.NetUtils.wrapException(NetUtils.java:751)\r\n\tat org.apache.hadoop.ipc.Client.call(Client.java:1479)\r\n\tat org.apache.hadoop.ipc.Client.call(Client.java:1412)\r\n\tat org.apache.hadoop.ipc.ProtobufRpcEngine$Invoker.invoke(ProtobufRpcEngine.java:229)\r\n\tat com.sun.proxy.$Proxy19.getFileInfo(Unknown Source)\r\n\tat org.apache.hadoop.hdfs.protocolPB.ClientNamenodeProtocolTranslatorPB.getFileInfo(ClientNamenodeProtocolTranslatorPB.java:771)\r\n\tat sun.reflect.GeneratedMethodAccessor36.invoke(Unknown Source)\r\n\tat sun.reflect.DelegatingMethodAccessorImpl.invoke(DelegatingMethodAccessorImpl.java:43)\r\n\tat java.lang.reflect.Method.invoke(Method.java:498)\r\n\tat org.apache.hadoop.io.retry.RetryInvocationHandler.invokeMethod(RetryInvocationHandler.java:191)\r\n\tat org.apache.hadoop.io.retry.RetryInvocationHandler.invoke(RetryInvocationHandler.java:102)\r\n\tat com.sun.proxy.$Proxy20.getFileInfo(Unknown Source)\r\n\tat org.apache.hadoop.hdfs.DFSClient.getFileInfo(DFSClient.java:2108)\r\n\tat org.apache.hadoop.hdfs.DistributedFileSystem$22.doCall(DistributedFileSystem.java:1305)\r\n\tat org.apache.hadoop.hdfs.DistributedFileSystem$22.doCall(DistributedFileSystem.java:1301)\r\n\tat org.apache.hadoop.fs.FileSystemLinkResolver.resolve(FileSystemLinkResolver.java:81)\r\n\tat org.apache.hadoop.hdfs.DistributedFileSystem.getFileStatus(DistributedFileSystem.java:1317)\r\n\tat org.apache.hadoop.fs.FileSystem.exists(FileSystem.java:1426)\r\n\tat org.apache.spark.sql.execution.datasources.InsertIntoHadoopFsRelationCommand.run(InsertIntoHadoopFsRelationCommand.scala:93)\r\n\tat org.apache.spark.sql.execution.command.DataWritingCommandExec.sideEffectResult$lzycompute(commands.scala:104)\r\n\tat org.apache.spark.sql.execution.command.DataWritingCommandExec.sideEffectResult(commands.scala:102)\r\n\tat org.apache.spark.sql.execution.command.DataWritingCommandExec.doExecute(commands.scala:122)\r\n\tat org.apache.spark.sql.execution.SparkPlan$$anonfun$execute$1.apply(SparkPlan.scala:131)\r\n\tat org.apache.spark.sql.execution.SparkPlan$$anonfun$execute$1.apply(SparkPlan.scala:127)\r\n\tat org.apache.spark.sql.execution.SparkPlan$$anonfun$executeQuery$1.apply(SparkPlan.scala:155)\r\n\tat org.apache.spark.rdd.RDDOperationScope$.withScope(RDDOperationScope.scala:151)\r\n\tat org.apache.spark.sql.execution.SparkPlan.executeQuery(SparkPlan.scala:152)\r\n\tat org.apache.spark.sql.execution.SparkPlan.execute(SparkPlan.scala:127)\r\n\tat org.apache.spark.sql.execution.QueryExecution.toRdd$lzycompute(QueryExecution.scala:83)\r\n\tat org.apache.spark.sql.execution.QueryExecution.toRdd(QueryExecution.scala:81)\r\n\tat org.apache.spark.sql.DataFrameWriter$$anonfun$runCommand$1.apply(DataFrameWriter.scala:677)\r\n\tat org.apache.spark.sql.DataFrameWriter$$anonfun$runCommand$1.apply(DataFrameWriter.scala:677)\r\n\tat org.apache.spark.sql.execution.SQLExecution$$anonfun$withNewExecutionId$1.apply(SQLExecution.scala:80)\r\n\tat org.apache.spark.sql.execution.SQLExecution$.withSQLConfPropagated(SQLExecution.scala:127)\r\n\tat org.apache.spark.sql.execution.SQLExecution$.withNewExecutionId(SQLExecution.scala:75)\r\n\tat org.apache.spark.sql.DataFrameWriter.runCommand(DataFrameWriter.scala:677)\r\n\tat org.apache.spark.sql.DataFrameWriter.saveToV1Source(DataFrameWriter.scala:286)\r\n\tat org.apache.spark.sql.DataFrameWriter.save(DataFrameWriter.scala:272)\r\n\tat org.apache.spark.sql.DataFrameWriter.save(DataFrameWriter.scala:230)\r\n\tat org.apache.spark.sql.DataFrameWriter.text(DataFrameWriter.scala:615)\r\n\tat sun.reflect.NativeMethodAccessorImpl.invoke0(Native Method)\r\n\tat sun.reflect.NativeMethodAccessorImpl.invoke(NativeMethodAccessorImpl.java:62)\r\n\tat sun.reflect.DelegatingMethodAccessorImpl.invoke(DelegatingMethodAccessorImpl.java:43)\r\n\tat java.lang.reflect.Method.invoke(Method.java:498)\r\n\tat py4j.reflection.MethodInvoker.invoke(MethodInvoker.java:244)\r\n\tat py4j.reflection.ReflectionEngine.invoke(ReflectionEngine.java:357)\r\n\tat py4j.Gateway.invoke(Gateway.java:282)\r\n\tat py4j.commands.AbstractCommand.invokeMethod(AbstractCommand.java:132)\r\n\tat py4j.commands.CallCommand.execute(CallCommand.java:79)\r\n\tat py4j.GatewayConnection.run(GatewayConnection.java:238)\r\n\tat java.lang.Thread.run(Thread.java:748)\r\nCaused by: org.apache.hadoop.net.ConnectTimeoutException: 20000 millis timeout while waiting for channel to be ready for connect. ch : java.nio.channels.SocketChannel[connection-pending remote=192.168.3.171/192.168.3.171:9000]\r\n\tat org.apache.hadoop.net.NetUtils.connect(NetUtils.java:534)\r\n\tat org.apache.hadoop.net.NetUtils.connect(NetUtils.java:495)\r\n\tat org.apache.hadoop.ipc.Client$Connection.setupConnection(Client.java:614)\r\n\tat org.apache.hadoop.ipc.Client$Connection.setupIOstreams(Client.java:712)\r\n\tat org.apache.hadoop.ipc.Client$Connection.access$2900(Client.java:375)\r\n\tat org.apache.hadoop.ipc.Client.getConnection(Client.java:1528)\r\n\tat org.apache.hadoop.ipc.Client.call(Client.java:1451)\r\n\t... 49 more\r\n",
     "output_type": "error",
     "traceback": [
      "\u001b[1;31m---------------------------------------------------------------------------\u001b[0m",
      "\u001b[1;31mPy4JJavaError\u001b[0m                             Traceback (most recent call last)",
      "\u001b[1;32m<ipython-input-12-989923e88fde>\u001b[0m in \u001b[0;36m<module>\u001b[1;34m\u001b[0m\n\u001b[1;32m----> 1\u001b[1;33m \u001b[0mjson_data\u001b[0m\u001b[1;33m.\u001b[0m\u001b[0mselect\u001b[0m\u001b[1;33m(\u001b[0m\u001b[1;34m\"event\"\u001b[0m\u001b[1;33m)\u001b[0m\u001b[1;33m.\u001b[0m\u001b[0mwrite\u001b[0m\u001b[1;33m.\u001b[0m\u001b[0mtext\u001b[0m\u001b[1;33m(\u001b[0m\u001b[1;34m\"hdfs://192.168.3.171:9000/user/root/backup/event.log\"\u001b[0m\u001b[1;33m)\u001b[0m\u001b[1;33m\u001b[0m\u001b[1;33m\u001b[0m\u001b[0m\n\u001b[0m",
      "\u001b[1;32mD:\\Programing\\Anaconda3\\envs\\spark_env\\lib\\site-packages\\pyspark\\sql\\readwriter.py\u001b[0m in \u001b[0;36mtext\u001b[1;34m(self, path, compression, lineSep)\u001b[0m\n\u001b[0;32m    859\u001b[0m         \"\"\"\n\u001b[0;32m    860\u001b[0m         \u001b[0mself\u001b[0m\u001b[1;33m.\u001b[0m\u001b[0m_set_opts\u001b[0m\u001b[1;33m(\u001b[0m\u001b[0mcompression\u001b[0m\u001b[1;33m=\u001b[0m\u001b[0mcompression\u001b[0m\u001b[1;33m,\u001b[0m \u001b[0mlineSep\u001b[0m\u001b[1;33m=\u001b[0m\u001b[0mlineSep\u001b[0m\u001b[1;33m)\u001b[0m\u001b[1;33m\u001b[0m\u001b[1;33m\u001b[0m\u001b[0m\n\u001b[1;32m--> 861\u001b[1;33m         \u001b[0mself\u001b[0m\u001b[1;33m.\u001b[0m\u001b[0m_jwrite\u001b[0m\u001b[1;33m.\u001b[0m\u001b[0mtext\u001b[0m\u001b[1;33m(\u001b[0m\u001b[0mpath\u001b[0m\u001b[1;33m)\u001b[0m\u001b[1;33m\u001b[0m\u001b[1;33m\u001b[0m\u001b[0m\n\u001b[0m\u001b[0;32m    862\u001b[0m \u001b[1;33m\u001b[0m\u001b[0m\n\u001b[0;32m    863\u001b[0m     \u001b[1;33m@\u001b[0m\u001b[0msince\u001b[0m\u001b[1;33m(\u001b[0m\u001b[1;36m2.0\u001b[0m\u001b[1;33m)\u001b[0m\u001b[1;33m\u001b[0m\u001b[1;33m\u001b[0m\u001b[0m\n",
      "\u001b[1;32mD:\\Programing\\Anaconda3\\envs\\spark_env\\lib\\site-packages\\py4j\\java_gateway.py\u001b[0m in \u001b[0;36m__call__\u001b[1;34m(self, *args)\u001b[0m\n\u001b[0;32m   1255\u001b[0m         \u001b[0manswer\u001b[0m \u001b[1;33m=\u001b[0m \u001b[0mself\u001b[0m\u001b[1;33m.\u001b[0m\u001b[0mgateway_client\u001b[0m\u001b[1;33m.\u001b[0m\u001b[0msend_command\u001b[0m\u001b[1;33m(\u001b[0m\u001b[0mcommand\u001b[0m\u001b[1;33m)\u001b[0m\u001b[1;33m\u001b[0m\u001b[1;33m\u001b[0m\u001b[0m\n\u001b[0;32m   1256\u001b[0m         return_value = get_return_value(\n\u001b[1;32m-> 1257\u001b[1;33m             answer, self.gateway_client, self.target_id, self.name)\n\u001b[0m\u001b[0;32m   1258\u001b[0m \u001b[1;33m\u001b[0m\u001b[0m\n\u001b[0;32m   1259\u001b[0m         \u001b[1;32mfor\u001b[0m \u001b[0mtemp_arg\u001b[0m \u001b[1;32min\u001b[0m \u001b[0mtemp_args\u001b[0m\u001b[1;33m:\u001b[0m\u001b[1;33m\u001b[0m\u001b[1;33m\u001b[0m\u001b[0m\n",
      "\u001b[1;32mD:\\Programing\\Anaconda3\\envs\\spark_env\\lib\\site-packages\\pyspark\\sql\\utils.py\u001b[0m in \u001b[0;36mdeco\u001b[1;34m(*a, **kw)\u001b[0m\n\u001b[0;32m     61\u001b[0m     \u001b[1;32mdef\u001b[0m \u001b[0mdeco\u001b[0m\u001b[1;33m(\u001b[0m\u001b[1;33m*\u001b[0m\u001b[0ma\u001b[0m\u001b[1;33m,\u001b[0m \u001b[1;33m**\u001b[0m\u001b[0mkw\u001b[0m\u001b[1;33m)\u001b[0m\u001b[1;33m:\u001b[0m\u001b[1;33m\u001b[0m\u001b[1;33m\u001b[0m\u001b[0m\n\u001b[0;32m     62\u001b[0m         \u001b[1;32mtry\u001b[0m\u001b[1;33m:\u001b[0m\u001b[1;33m\u001b[0m\u001b[1;33m\u001b[0m\u001b[0m\n\u001b[1;32m---> 63\u001b[1;33m             \u001b[1;32mreturn\u001b[0m \u001b[0mf\u001b[0m\u001b[1;33m(\u001b[0m\u001b[1;33m*\u001b[0m\u001b[0ma\u001b[0m\u001b[1;33m,\u001b[0m \u001b[1;33m**\u001b[0m\u001b[0mkw\u001b[0m\u001b[1;33m)\u001b[0m\u001b[1;33m\u001b[0m\u001b[1;33m\u001b[0m\u001b[0m\n\u001b[0m\u001b[0;32m     64\u001b[0m         \u001b[1;32mexcept\u001b[0m \u001b[0mpy4j\u001b[0m\u001b[1;33m.\u001b[0m\u001b[0mprotocol\u001b[0m\u001b[1;33m.\u001b[0m\u001b[0mPy4JJavaError\u001b[0m \u001b[1;32mas\u001b[0m \u001b[0me\u001b[0m\u001b[1;33m:\u001b[0m\u001b[1;33m\u001b[0m\u001b[1;33m\u001b[0m\u001b[0m\n\u001b[0;32m     65\u001b[0m             \u001b[0ms\u001b[0m \u001b[1;33m=\u001b[0m \u001b[0me\u001b[0m\u001b[1;33m.\u001b[0m\u001b[0mjava_exception\u001b[0m\u001b[1;33m.\u001b[0m\u001b[0mtoString\u001b[0m\u001b[1;33m(\u001b[0m\u001b[1;33m)\u001b[0m\u001b[1;33m\u001b[0m\u001b[1;33m\u001b[0m\u001b[0m\n",
      "\u001b[1;32mD:\\Programing\\Anaconda3\\envs\\spark_env\\lib\\site-packages\\py4j\\protocol.py\u001b[0m in \u001b[0;36mget_return_value\u001b[1;34m(answer, gateway_client, target_id, name)\u001b[0m\n\u001b[0;32m    326\u001b[0m                 raise Py4JJavaError(\n\u001b[0;32m    327\u001b[0m                     \u001b[1;34m\"An error occurred while calling {0}{1}{2}.\\n\"\u001b[0m\u001b[1;33m.\u001b[0m\u001b[1;33m\u001b[0m\u001b[1;33m\u001b[0m\u001b[0m\n\u001b[1;32m--> 328\u001b[1;33m                     format(target_id, \".\", name), value)\n\u001b[0m\u001b[0;32m    329\u001b[0m             \u001b[1;32melse\u001b[0m\u001b[1;33m:\u001b[0m\u001b[1;33m\u001b[0m\u001b[1;33m\u001b[0m\u001b[0m\n\u001b[0;32m    330\u001b[0m                 raise Py4JError(\n",
      "\u001b[1;31mPy4JJavaError\u001b[0m: An error occurred while calling o81.text.\n: org.apache.hadoop.net.ConnectTimeoutException: Call From Articuly-LT/192.168.142.1 to 192.168.3.171:9000 failed on socket timeout exception: org.apache.hadoop.net.ConnectTimeoutException: 20000 millis timeout while waiting for channel to be ready for connect. ch : java.nio.channels.SocketChannel[connection-pending remote=192.168.3.171/192.168.3.171:9000]; For more details see:  http://wiki.apache.org/hadoop/SocketTimeout\r\n\tat sun.reflect.NativeConstructorAccessorImpl.newInstance0(Native Method)\r\n\tat sun.reflect.NativeConstructorAccessorImpl.newInstance(NativeConstructorAccessorImpl.java:62)\r\n\tat sun.reflect.DelegatingConstructorAccessorImpl.newInstance(DelegatingConstructorAccessorImpl.java:45)\r\n\tat java.lang.reflect.Constructor.newInstance(Constructor.java:423)\r\n\tat org.apache.hadoop.net.NetUtils.wrapWithMessage(NetUtils.java:792)\r\n\tat org.apache.hadoop.net.NetUtils.wrapException(NetUtils.java:751)\r\n\tat org.apache.hadoop.ipc.Client.call(Client.java:1479)\r\n\tat org.apache.hadoop.ipc.Client.call(Client.java:1412)\r\n\tat org.apache.hadoop.ipc.ProtobufRpcEngine$Invoker.invoke(ProtobufRpcEngine.java:229)\r\n\tat com.sun.proxy.$Proxy19.getFileInfo(Unknown Source)\r\n\tat org.apache.hadoop.hdfs.protocolPB.ClientNamenodeProtocolTranslatorPB.getFileInfo(ClientNamenodeProtocolTranslatorPB.java:771)\r\n\tat sun.reflect.GeneratedMethodAccessor36.invoke(Unknown Source)\r\n\tat sun.reflect.DelegatingMethodAccessorImpl.invoke(DelegatingMethodAccessorImpl.java:43)\r\n\tat java.lang.reflect.Method.invoke(Method.java:498)\r\n\tat org.apache.hadoop.io.retry.RetryInvocationHandler.invokeMethod(RetryInvocationHandler.java:191)\r\n\tat org.apache.hadoop.io.retry.RetryInvocationHandler.invoke(RetryInvocationHandler.java:102)\r\n\tat com.sun.proxy.$Proxy20.getFileInfo(Unknown Source)\r\n\tat org.apache.hadoop.hdfs.DFSClient.getFileInfo(DFSClient.java:2108)\r\n\tat org.apache.hadoop.hdfs.DistributedFileSystem$22.doCall(DistributedFileSystem.java:1305)\r\n\tat org.apache.hadoop.hdfs.DistributedFileSystem$22.doCall(DistributedFileSystem.java:1301)\r\n\tat org.apache.hadoop.fs.FileSystemLinkResolver.resolve(FileSystemLinkResolver.java:81)\r\n\tat org.apache.hadoop.hdfs.DistributedFileSystem.getFileStatus(DistributedFileSystem.java:1317)\r\n\tat org.apache.hadoop.fs.FileSystem.exists(FileSystem.java:1426)\r\n\tat org.apache.spark.sql.execution.datasources.InsertIntoHadoopFsRelationCommand.run(InsertIntoHadoopFsRelationCommand.scala:93)\r\n\tat org.apache.spark.sql.execution.command.DataWritingCommandExec.sideEffectResult$lzycompute(commands.scala:104)\r\n\tat org.apache.spark.sql.execution.command.DataWritingCommandExec.sideEffectResult(commands.scala:102)\r\n\tat org.apache.spark.sql.execution.command.DataWritingCommandExec.doExecute(commands.scala:122)\r\n\tat org.apache.spark.sql.execution.SparkPlan$$anonfun$execute$1.apply(SparkPlan.scala:131)\r\n\tat org.apache.spark.sql.execution.SparkPlan$$anonfun$execute$1.apply(SparkPlan.scala:127)\r\n\tat org.apache.spark.sql.execution.SparkPlan$$anonfun$executeQuery$1.apply(SparkPlan.scala:155)\r\n\tat org.apache.spark.rdd.RDDOperationScope$.withScope(RDDOperationScope.scala:151)\r\n\tat org.apache.spark.sql.execution.SparkPlan.executeQuery(SparkPlan.scala:152)\r\n\tat org.apache.spark.sql.execution.SparkPlan.execute(SparkPlan.scala:127)\r\n\tat org.apache.spark.sql.execution.QueryExecution.toRdd$lzycompute(QueryExecution.scala:83)\r\n\tat org.apache.spark.sql.execution.QueryExecution.toRdd(QueryExecution.scala:81)\r\n\tat org.apache.spark.sql.DataFrameWriter$$anonfun$runCommand$1.apply(DataFrameWriter.scala:677)\r\n\tat org.apache.spark.sql.DataFrameWriter$$anonfun$runCommand$1.apply(DataFrameWriter.scala:677)\r\n\tat org.apache.spark.sql.execution.SQLExecution$$anonfun$withNewExecutionId$1.apply(SQLExecution.scala:80)\r\n\tat org.apache.spark.sql.execution.SQLExecution$.withSQLConfPropagated(SQLExecution.scala:127)\r\n\tat org.apache.spark.sql.execution.SQLExecution$.withNewExecutionId(SQLExecution.scala:75)\r\n\tat org.apache.spark.sql.DataFrameWriter.runCommand(DataFrameWriter.scala:677)\r\n\tat org.apache.spark.sql.DataFrameWriter.saveToV1Source(DataFrameWriter.scala:286)\r\n\tat org.apache.spark.sql.DataFrameWriter.save(DataFrameWriter.scala:272)\r\n\tat org.apache.spark.sql.DataFrameWriter.save(DataFrameWriter.scala:230)\r\n\tat org.apache.spark.sql.DataFrameWriter.text(DataFrameWriter.scala:615)\r\n\tat sun.reflect.NativeMethodAccessorImpl.invoke0(Native Method)\r\n\tat sun.reflect.NativeMethodAccessorImpl.invoke(NativeMethodAccessorImpl.java:62)\r\n\tat sun.reflect.DelegatingMethodAccessorImpl.invoke(DelegatingMethodAccessorImpl.java:43)\r\n\tat java.lang.reflect.Method.invoke(Method.java:498)\r\n\tat py4j.reflection.MethodInvoker.invoke(MethodInvoker.java:244)\r\n\tat py4j.reflection.ReflectionEngine.invoke(ReflectionEngine.java:357)\r\n\tat py4j.Gateway.invoke(Gateway.java:282)\r\n\tat py4j.commands.AbstractCommand.invokeMethod(AbstractCommand.java:132)\r\n\tat py4j.commands.CallCommand.execute(CallCommand.java:79)\r\n\tat py4j.GatewayConnection.run(GatewayConnection.java:238)\r\n\tat java.lang.Thread.run(Thread.java:748)\r\nCaused by: org.apache.hadoop.net.ConnectTimeoutException: 20000 millis timeout while waiting for channel to be ready for connect. ch : java.nio.channels.SocketChannel[connection-pending remote=192.168.3.171/192.168.3.171:9000]\r\n\tat org.apache.hadoop.net.NetUtils.connect(NetUtils.java:534)\r\n\tat org.apache.hadoop.net.NetUtils.connect(NetUtils.java:495)\r\n\tat org.apache.hadoop.ipc.Client$Connection.setupConnection(Client.java:614)\r\n\tat org.apache.hadoop.ipc.Client$Connection.setupIOstreams(Client.java:712)\r\n\tat org.apache.hadoop.ipc.Client$Connection.access$2900(Client.java:375)\r\n\tat org.apache.hadoop.ipc.Client.getConnection(Client.java:1528)\r\n\tat org.apache.hadoop.ipc.Client.call(Client.java:1451)\r\n\t... 49 more\r\n"
     ]
    }
   ],
   "source": [
    "json_data.select(\"event\").write.text(\"hdfs://192.168.3.171:9000/user/root/backup/event.log\")"
   ]
  },
  {
   "cell_type": "code",
   "execution_count": null,
   "metadata": {},
   "outputs": [],
   "source": [
    "properties_data.write.text(\"hdfs://192.168.3.171:9000/user/root/backup/properties.log\")"
   ]
  },
  {
   "cell_type": "code",
   "execution_count": null,
   "metadata": {},
   "outputs": [],
   "source": []
  }
 ],
 "metadata": {
  "kernelspec": {
   "display_name": "Python [conda env:spark_env]",
   "language": "python",
   "name": "conda-env-spark_env-py"
  },
  "language_info": {
   "codemirror_mode": {
    "name": "ipython",
    "version": 3
   },
   "file_extension": ".py",
   "mimetype": "text/x-python",
   "name": "python",
   "nbconvert_exporter": "python",
   "pygments_lexer": "ipython3",
   "version": "3.6.12"
  }
 },
 "nbformat": 4,
 "nbformat_minor": 4
}
