{
 "cells": [
  {
   "cell_type": "code",
   "execution_count": 1,
   "metadata": {},
   "outputs": [],
   "source": [
    "import pyspark\n",
    "from pyspark.sql import SQLContext\n",
    "\n",
    "sc = pyspark.SparkContext('local[*]')\n",
    "sqlc = SQLContext(sc)"
   ]
  },
  {
   "cell_type": "code",
   "execution_count": 2,
   "metadata": {},
   "outputs": [],
   "source": [
    "data = '''balance,gender,user_id\n",
    "10,,0\n",
    "1,M,1\n",
    "-0.5,F,2\n",
    "0,F,3\n",
    "5,,4\n",
    "3,M,5\n",
    "'''\n",
    "with open('user_demo.csv', 'w') as output:\n",
    "    output.write(data)"
   ]
  },
  {
   "cell_type": "code",
   "execution_count": 3,
   "metadata": {},
   "outputs": [
    {
     "name": "stdout",
     "output_type": "stream",
     "text": [
      "+-------+------+-------+\n",
      "|balance|gender|user_id|\n",
      "+-------+------+-------+\n",
      "|   10.0|  null|      0|\n",
      "|    1.0|     M|      1|\n",
      "|   -0.5|     F|      2|\n",
      "|    0.0|     F|      3|\n",
      "|    5.0|  null|      4|\n",
      "|    3.0|     M|      5|\n",
      "+-------+------+-------+\n",
      "\n"
     ]
    }
   ],
   "source": [
    "df = sqlc.read.format('com.databricks.spark.csv').options(\n",
    "    header='true', inferschema='true').load(\n",
    "        'file:///D:/Projects/python_projects/big_data/user_demo.csv')\n",
    "df.show()"
   ]
  },
  {
   "cell_type": "code",
   "execution_count": 4,
   "metadata": {},
   "outputs": [
    {
     "name": "stdout",
     "output_type": "stream",
     "text": [
      "root\n",
      " |-- balance: double (nullable = true)\n",
      " |-- gender: string (nullable = true)\n",
      " |-- user_id: integer (nullable = true)\n",
      "\n"
     ]
    }
   ],
   "source": [
    "df.printSchema()"
   ]
  },
  {
   "cell_type": "code",
   "execution_count": 5,
   "metadata": {},
   "outputs": [
    {
     "data": {
      "text/plain": [
       "DataFrame[balance: double, gender: string, user_id: int]"
      ]
     },
     "execution_count": 5,
     "metadata": {},
     "output_type": "execute_result"
    }
   ],
   "source": [
    "df"
   ]
  },
  {
   "cell_type": "code",
   "execution_count": 6,
   "metadata": {},
   "outputs": [
    {
     "data": {
      "text/plain": [
       "[('balance', 'double'), ('gender', 'string'), ('user_id', 'int')]"
      ]
     },
     "execution_count": 6,
     "metadata": {},
     "output_type": "execute_result"
    }
   ],
   "source": [
    "df.dtypes"
   ]
  },
  {
   "cell_type": "code",
   "execution_count": 7,
   "metadata": {},
   "outputs": [
    {
     "data": {
      "text/plain": [
       "['balance', 'gender', 'user_id']"
      ]
     },
     "execution_count": 7,
     "metadata": {},
     "output_type": "execute_result"
    }
   ],
   "source": [
    "df.columns"
   ]
  },
  {
   "cell_type": "code",
   "execution_count": 8,
   "metadata": {},
   "outputs": [
    {
     "name": "stdout",
     "output_type": "stream",
     "text": [
      "+-------+------+-------+\n",
      "|balance|gender|user_id|\n",
      "+-------+------+-------+\n",
      "|    1.0|     M|      1|\n",
      "|    3.0|     M|      5|\n",
      "+-------+------+-------+\n",
      "\n"
     ]
    }
   ],
   "source": [
    "df.filter(df['gender'] != 'null').filter(df['balance'] > 0).select(\n",
    "    ['balance', 'gender', 'user_id']).show()"
   ]
  },
  {
   "cell_type": "code",
   "execution_count": 9,
   "metadata": {},
   "outputs": [
    {
     "name": "stdout",
     "output_type": "stream",
     "text": [
      "+-------+------+-------+\n",
      "|balance|gender|user_id|\n",
      "+-------+------+-------+\n",
      "|    1.0|     M|      1|\n",
      "|    3.0|     M|      5|\n",
      "+-------+------+-------+\n",
      "\n"
     ]
    }
   ],
   "source": [
    "df.filter('gender is not null').filter('balance > 0').select(\n",
    "    '*').show()  # 支持SQL字符串"
   ]
  },
  {
   "cell_type": "code",
   "execution_count": 10,
   "metadata": {},
   "outputs": [
    {
     "name": "stdout",
     "output_type": "stream",
     "text": [
      "+-------+------+-------+\n",
      "|balance|gender|user_id|\n",
      "+-------+------+-------+\n",
      "|   -0.5|     F|      2|\n",
      "+-------+------+-------+\n",
      "\n"
     ]
    }
   ],
   "source": [
    "df.filter('gender is not null and balance < 0').show()"
   ]
  },
  {
   "cell_type": "code",
   "execution_count": 11,
   "metadata": {},
   "outputs": [
    {
     "name": "stdout",
     "output_type": "stream",
     "text": [
      "+-------+------+-------+\n",
      "|balance|gender|user_id|\n",
      "+-------+------+-------+\n",
      "|    1.0|     M|      1|\n",
      "|   -0.5|     F|      2|\n",
      "|    0.0|     F|      3|\n",
      "|    3.0|     M|      5|\n",
      "+-------+------+-------+\n",
      "\n"
     ]
    }
   ],
   "source": [
    "# 处理缺失数据\n",
    "df.na.drop().show()"
   ]
  },
  {
   "cell_type": "code",
   "execution_count": 12,
   "metadata": {},
   "outputs": [
    {
     "name": "stdout",
     "output_type": "stream",
     "text": [
      "+-------+------+-------+\n",
      "|balance|gender|user_id|\n",
      "+-------+------+-------+\n",
      "|    1.0|     M|      1|\n",
      "|   -0.5|     F|      2|\n",
      "|    0.0|     F|      3|\n",
      "|    3.0|     M|      5|\n",
      "+-------+------+-------+\n",
      "\n"
     ]
    }
   ],
   "source": [
    "df.na.drop(subset=['gender']).show()"
   ]
  },
  {
   "cell_type": "code",
   "execution_count": 13,
   "metadata": {},
   "outputs": [
    {
     "name": "stdout",
     "output_type": "stream",
     "text": [
      "+-------+------+-------+\n",
      "|balance|gender|user_id|\n",
      "+-------+------+-------+\n",
      "|   10.0|     U|      0|\n",
      "|    1.0|     M|      1|\n",
      "|   -0.5|     F|      2|\n",
      "|    0.0|     F|      3|\n",
      "|    5.0|     U|      4|\n",
      "|    3.0|     M|      5|\n",
      "+-------+------+-------+\n",
      "\n"
     ]
    }
   ],
   "source": [
    "df.na.fill({'gender': 'U', 'balance': 0}).show()"
   ]
  },
  {
   "cell_type": "code",
   "execution_count": 14,
   "metadata": {},
   "outputs": [
    {
     "name": "stdout",
     "output_type": "stream",
     "text": [
      "+------+------------+\n",
      "|gender|avg(balance)|\n",
      "+------+------------+\n",
      "|     F|       -0.25|\n",
      "|     M|         2.0|\n",
      "|     U|         7.5|\n",
      "+------+------------+\n",
      "\n"
     ]
    }
   ],
   "source": [
    "# 聚合函数\n",
    "df.na.fill({\n",
    "    'gender': 'U',\n",
    "    'balance': 0\n",
    "}).groupBy('gender').avg('balance').show()"
   ]
  },
  {
   "cell_type": "code",
   "execution_count": 15,
   "metadata": {},
   "outputs": [],
   "source": [
    "# 转换\n",
    "pdf = df.toPandas()"
   ]
  },
  {
   "cell_type": "code",
   "execution_count": 16,
   "metadata": {},
   "outputs": [
    {
     "data": {
      "text/html": [
       "<div>\n",
       "<style scoped>\n",
       "    .dataframe tbody tr th:only-of-type {\n",
       "        vertical-align: middle;\n",
       "    }\n",
       "\n",
       "    .dataframe tbody tr th {\n",
       "        vertical-align: top;\n",
       "    }\n",
       "\n",
       "    .dataframe thead th {\n",
       "        text-align: right;\n",
       "    }\n",
       "</style>\n",
       "<table border=\"1\" class=\"dataframe\">\n",
       "  <thead>\n",
       "    <tr style=\"text-align: right;\">\n",
       "      <th></th>\n",
       "      <th>balance</th>\n",
       "      <th>gender</th>\n",
       "      <th>user_id</th>\n",
       "    </tr>\n",
       "  </thead>\n",
       "  <tbody>\n",
       "    <tr>\n",
       "      <th>0</th>\n",
       "      <td>10.0</td>\n",
       "      <td>None</td>\n",
       "      <td>0</td>\n",
       "    </tr>\n",
       "    <tr>\n",
       "      <th>1</th>\n",
       "      <td>1.0</td>\n",
       "      <td>M</td>\n",
       "      <td>1</td>\n",
       "    </tr>\n",
       "    <tr>\n",
       "      <th>2</th>\n",
       "      <td>-0.5</td>\n",
       "      <td>F</td>\n",
       "      <td>2</td>\n",
       "    </tr>\n",
       "    <tr>\n",
       "      <th>3</th>\n",
       "      <td>0.0</td>\n",
       "      <td>F</td>\n",
       "      <td>3</td>\n",
       "    </tr>\n",
       "    <tr>\n",
       "      <th>4</th>\n",
       "      <td>5.0</td>\n",
       "      <td>None</td>\n",
       "      <td>4</td>\n",
       "    </tr>\n",
       "  </tbody>\n",
       "</table>\n",
       "</div>"
      ],
      "text/plain": [
       "   balance gender  user_id\n",
       "0     10.0   None        0\n",
       "1      1.0      M        1\n",
       "2     -0.5      F        2\n",
       "3      0.0      F        3\n",
       "4      5.0   None        4"
      ]
     },
     "execution_count": 16,
     "metadata": {},
     "output_type": "execute_result"
    }
   ],
   "source": [
    "pdf.head()"
   ]
  },
  {
   "cell_type": "code",
   "execution_count": 17,
   "metadata": {},
   "outputs": [],
   "source": [
    "df.registerTempTable('users')"
   ]
  },
  {
   "cell_type": "code",
   "execution_count": 18,
   "metadata": {},
   "outputs": [],
   "source": [
    "table = sqlc.table('users')"
   ]
  },
  {
   "cell_type": "code",
   "execution_count": 19,
   "metadata": {},
   "outputs": [
    {
     "data": {
      "text/plain": [
       "pyspark.sql.dataframe.DataFrame"
      ]
     },
     "execution_count": 19,
     "metadata": {},
     "output_type": "execute_result"
    }
   ],
   "source": [
    "type(sqlc.table('users'))"
   ]
  },
  {
   "cell_type": "code",
   "execution_count": 20,
   "metadata": {},
   "outputs": [
    {
     "name": "stdout",
     "output_type": "stream",
     "text": [
      "+------+------------+\n",
      "|gender|avg(balance)|\n",
      "+------+------------+\n",
      "|     F|       -0.25|\n",
      "|     M|         2.0|\n",
      "+------+------------+\n",
      "\n"
     ]
    }
   ],
   "source": [
    "sqlc.sql(\n",
    "    'select gender, AVG(balance) from users where gender is not null group by gender'\n",
    ").show()"
   ]
  },
  {
   "cell_type": "code",
   "execution_count": 21,
   "metadata": {},
   "outputs": [
    {
     "name": "stdout",
     "output_type": "stream",
     "text": [
      "+-------+------+-------+\n",
      "|balance|gender|user_id|\n",
      "+-------+------+-------+\n",
      "|   10.0|  null|      0|\n",
      "|    1.0|     M|      1|\n",
      "|   -0.5|     F|      2|\n",
      "|    0.0|     F|      3|\n",
      "|    5.0|  null|      4|\n",
      "|    3.0|     M|      5|\n",
      "+-------+------+-------+\n",
      "\n"
     ]
    }
   ],
   "source": [
    "table.show()"
   ]
  },
  {
   "cell_type": "code",
   "execution_count": 22,
   "metadata": {},
   "outputs": [
    {
     "data": {
      "text/plain": [
       "[Row(balance=10.0, gender=None, user_id=0),\n",
       " Row(balance=1.0, gender='M', user_id=1),\n",
       " Row(balance=-0.5, gender='F', user_id=2),\n",
       " Row(balance=0.0, gender='F', user_id=3),\n",
       " Row(balance=5.0, gender=None, user_id=4),\n",
       " Row(balance=3.0, gender='M', user_id=5)]"
      ]
     },
     "execution_count": 22,
     "metadata": {},
     "output_type": "execute_result"
    }
   ],
   "source": [
    "table.collect()"
   ]
  },
  {
   "cell_type": "code",
   "execution_count": 23,
   "metadata": {},
   "outputs": [
    {
     "name": "stdout",
     "output_type": "stream",
     "text": [
      "Row(balance=10.0, gender=None, user_id=0)\n"
     ]
    }
   ],
   "source": [
    "a_row = sqlc.sql('select * from users').first()\n",
    "print(a_row)"
   ]
  },
  {
   "cell_type": "code",
   "execution_count": 24,
   "metadata": {},
   "outputs": [
    {
     "name": "stdout",
     "output_type": "stream",
     "text": [
      "10.0\n",
      "None\n"
     ]
    }
   ],
   "source": [
    "print(a_row['balance'])\n",
    "print(a_row.gender)"
   ]
  },
  {
   "cell_type": "code",
   "execution_count": 25,
   "metadata": {},
   "outputs": [
    {
     "data": {
      "text/plain": [
       "{'balance': 10.0, 'gender': None, 'user_id': 0}"
      ]
     },
     "execution_count": 25,
     "metadata": {},
     "output_type": "execute_result"
    }
   ],
   "source": [
    "a_row.asDict()"
   ]
  },
  {
   "cell_type": "code",
   "execution_count": 26,
   "metadata": {},
   "outputs": [],
   "source": [
    "# 保存\n",
    "df.na.drop().write.save(\n",
    "    'file:///D:/Projects/python_projects/big_data/user_demo2.csv', format='csv')"
   ]
  },
  {
   "cell_type": "code",
   "execution_count": 27,
   "metadata": {},
   "outputs": [],
   "source": [
    "# 保存\n",
    "df.na.drop().write.save(\n",
    "    'file:///D:/Projects/python_projects/big_data/user_demo2.json',\n",
    "    format='json')"
   ]
  },
  {
   "cell_type": "code",
   "execution_count": 28,
   "metadata": {},
   "outputs": [],
   "source": [
    "# 保存\n",
    "df.na.drop().write.save(\n",
    "    'file:///D:/Projects/python_projects/big_data/user_demo2.parquet',\n",
    "    format='parquet')"
   ]
  },
  {
   "cell_type": "code",
   "execution_count": 29,
   "metadata": {},
   "outputs": [
    {
     "name": "stdout",
     "output_type": "stream",
     "text": [
      "+----+---+---+\n",
      "| _c0|_c1|_c2|\n",
      "+----+---+---+\n",
      "| 1.0|  M|  1|\n",
      "|-0.5|  F|  2|\n",
      "| 0.0|  F|  3|\n",
      "| 3.0|  M|  5|\n",
      "+----+---+---+\n",
      "\n"
     ]
    }
   ],
   "source": [
    "# 读取\n",
    "sqlc.sql(\n",
    "    'select * from csv.`file:///D:/Projects/python_projects/big_data/user_demo2.csv`'\n",
    ").show()"
   ]
  },
  {
   "cell_type": "code",
   "execution_count": 30,
   "metadata": {},
   "outputs": [
    {
     "name": "stdout",
     "output_type": "stream",
     "text": [
      "+-------+------+-------+\n",
      "|balance|gender|user_id|\n",
      "+-------+------+-------+\n",
      "|    1.0|     M|      1|\n",
      "|   -0.5|     F|      2|\n",
      "|    0.0|     F|      3|\n",
      "|    3.0|     M|      5|\n",
      "+-------+------+-------+\n",
      "\n"
     ]
    }
   ],
   "source": [
    "# 读取\n",
    "sqlc.sql(\n",
    "    'select * from json.`file:///D:/Projects/python_projects/big_data/user_demo2.json`'\n",
    ").show()"
   ]
  },
  {
   "cell_type": "code",
   "execution_count": 31,
   "metadata": {},
   "outputs": [
    {
     "name": "stdout",
     "output_type": "stream",
     "text": [
      "+-------+------+-------+\n",
      "|balance|gender|user_id|\n",
      "+-------+------+-------+\n",
      "|    1.0|     M|      1|\n",
      "|   -0.5|     F|      2|\n",
      "|    0.0|     F|      3|\n",
      "|    3.0|     M|      5|\n",
      "+-------+------+-------+\n",
      "\n"
     ]
    }
   ],
   "source": [
    "# 读取\n",
    "sqlc.sql(\n",
    "    'select * from parquet.`file:///D:/Projects/python_projects/big_data/user_demo2.parquet`'\n",
    ").show()"
   ]
  },
  {
   "cell_type": "code",
   "execution_count": 32,
   "metadata": {},
   "outputs": [],
   "source": [
    "# 创建数据表\n",
    "from pyspark.sql import Row\n",
    "rdd_gender = sc.parallelize([\n",
    "    Row(short_gender='M', long_gender='Male'),\n",
    "    Row(short_gender='F', long_gender='Female')\n",
    "])\n",
    "sqlc.createDataFrame(rdd_gender).registerTempTable('gender_maps')"
   ]
  },
  {
   "cell_type": "code",
   "execution_count": 33,
   "metadata": {},
   "outputs": [
    {
     "name": "stdout",
     "output_type": "stream",
     "text": [
      "+-----------+------------+\n",
      "|long_gender|short_gender|\n",
      "+-----------+------------+\n",
      "|       Male|           M|\n",
      "|     Female|           F|\n",
      "+-----------+------------+\n",
      "\n"
     ]
    }
   ],
   "source": [
    "sqlc.table('gender_maps').show()"
   ]
  },
  {
   "cell_type": "code",
   "execution_count": 34,
   "metadata": {},
   "outputs": [
    {
     "name": "stdout",
     "output_type": "stream",
     "text": [
      "+-------+-----------+-------+\n",
      "|balance|long_gender|user_id|\n",
      "+-------+-----------+-------+\n",
      "|    3.0|       Male|      5|\n",
      "|    1.0|       Male|      1|\n",
      "|    0.0|     Female|      3|\n",
      "|   -0.5|     Female|      2|\n",
      "+-------+-----------+-------+\n",
      "\n"
     ]
    }
   ],
   "source": [
    "# 联合查询\n",
    "sqlc.sql('''\n",
    "select balance, long_gender, user_id\n",
    "from users join gender_maps\n",
    "on gender=short_gender\n",
    "''').show()"
   ]
  },
  {
   "cell_type": "code",
   "execution_count": 35,
   "metadata": {},
   "outputs": [
    {
     "data": {
      "text/plain": [
       "['gender_maps', 'users']"
      ]
     },
     "execution_count": 35,
     "metadata": {},
     "output_type": "execute_result"
    }
   ],
   "source": [
    "sqlc.tableNames()"
   ]
  },
  {
   "cell_type": "code",
   "execution_count": 36,
   "metadata": {},
   "outputs": [],
   "source": [
    "# 删除内存的数据表\n",
    "for table in sqlc.tableNames():\n",
    "    sqlc.dropTempTable(table)"
   ]
  },
  {
   "cell_type": "code",
   "execution_count": null,
   "metadata": {},
   "outputs": [],
   "source": []
  }
 ],
 "metadata": {
  "kernelspec": {
   "display_name": "Python [conda env:spark_env]",
   "language": "python",
   "name": "conda-env-spark_env-py"
  },
  "language_info": {
   "codemirror_mode": {
    "name": "ipython",
    "version": 3
   },
   "file_extension": ".py",
   "mimetype": "text/x-python",
   "name": "python",
   "nbconvert_exporter": "python",
   "pygments_lexer": "ipython3",
   "version": "3.7.9"
  }
 },
 "nbformat": 4,
 "nbformat_minor": 4
}
