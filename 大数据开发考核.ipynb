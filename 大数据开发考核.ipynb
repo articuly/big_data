{
 "cells": [
  {
   "cell_type": "markdown",
   "metadata": {},
   "source": [
    "（10分） spark是一款什么软件，有什么特点？"
   ]
  },
  {
   "cell_type": "markdown",
   "metadata": {},
   "source": [
    "（10分） spark的RDD与DataFrame区别？"
   ]
  },
  {
   "cell_type": "markdown",
   "metadata": {},
   "source": [
    "（10分） hadoop是一款什么软件？"
   ]
  },
  {
   "cell_type": "markdown",
   "metadata": {},
   "source": [
    "（10分） MapReduce是什么过程？"
   ]
  },
  {
   "cell_type": "markdown",
   "metadata": {},
   "source": [
    "（10分） 什么是yarn模式？"
   ]
  },
  {
   "cell_type": "markdown",
   "metadata": {},
   "source": [
    "（25分） 实操题1：\n",
    "计算profile.json（课件数据）中的根据register_time”，不同系统的注册人数，上交代码。"
   ]
  },
  {
   "cell_type": "markdown",
   "metadata": {},
   "source": [
    "（25分） 实操题2：\n",
    "抓取51job的python岗位，统计其中对hadoop，spark存在要求的岗位数量比例， 上交代码。"
   ]
  },
  {
   "cell_type": "code",
   "execution_count": 0,
   "metadata": {},
   "outputs": [],
   "source": []
  }
 ],
 "metadata": {
  "kernelspec": {
   "display_name": "Python 3",
   "language": "python",
   "name": "python3"
  },
  "language_info": {
   "codemirror_mode": {
    "name": "ipython",
    "version": 3
   },
   "file_extension": ".py",
   "mimetype": "text/x-python",
   "name": "python",
   "nbconvert_exporter": "python",
   "pygments_lexer": "ipython3",
   "version": "3.7.7"
  }
 },
 "nbformat": 4,
 "nbformat_minor": 4
}