{
 "cells": [
  {
   "cell_type": "code",
   "execution_count": 4,
   "metadata": {},
   "outputs": [],
   "source": [
    "from pyspark import SparkContext, SparkConf\n",
    "\n",
    "conf = SparkConf().setMaster('local').setAppName('textApp')\n",
    "sc = SparkContext(conf=conf)"
   ]
  },
  {
   "cell_type": "code",
   "execution_count": 5,
   "metadata": {},
   "outputs": [],
   "source": [
    "# 从文本文件中读取数据\n",
    "rdd_text = sc.textFile('data/web_access_demo.log')"
   ]
  },
  {
   "cell_type": "code",
   "execution_count": 13,
   "metadata": {},
   "outputs": [
    {
     "data": {
      "text/plain": [
       "['27.19.74.143 - 30/May/2013:17:38:20 +0800 \"GET /static/image/common/faq.gif HTTP/1.1\" 200 1127',\n",
       " '110.52.250.126 - 30/May/2013:17:38:20 +0800 \"GET /data/cache/style_1_widthauto.css?y7a HTTP/1.1\" 200 1292',\n",
       " '27.19.74.143 - 30/May/2013:17:38:20 +0800 \"GET /static/image/common/hot_1.gif HTTP/1.1\" 200 680',\n",
       " '27.19.74.143 - 30/May/2013:17:38:20 +0800 \"GET /static/image/common/hot_2.gif HTTP/1.1\" 200 682',\n",
       " '27.19.74.143 - 30/May/2013:17:38:20 +0800 \"GET /static/image/filetype/common.gif HTTP/1.1\" 200 90']"
      ]
     },
     "execution_count": 13,
     "metadata": {},
     "output_type": "execute_result"
    }
   ],
   "source": [
    "rdd_text.take(5)"
   ]
  },
  {
   "cell_type": "code",
   "execution_count": 18,
   "metadata": {},
   "outputs": [],
   "source": [
    "# rdd转换操作\n",
    "# 查找包含某个ip访问的日志记录\n",
    "new_rdd = rdd_text.filter(lambda line: line.find('58.210.235.70') != -1)"
   ]
  },
  {
   "cell_type": "code",
   "execution_count": 19,
   "metadata": {},
   "outputs": [
    {
     "data": {
      "text/plain": [
       "['58.210.235.70 - 30/May/2013:17:38:44 +0800 \"GET /forum-60-1.html HTTP/1.1\" 200 94527',\n",
       " '58.210.235.70 - 30/May/2013:17:39:09 +0800 \"GET /uc_server/avatar.php?uid=24427&size=middle HTTP/1.1\" 301 -',\n",
       " '58.210.235.70 - 30/May/2013:17:39:09 +0800 \"GET /static/image/common/none.gif HTTP/1.1\" 200 43',\n",
       " '58.210.235.70 - 30/May/2013:17:39:09 +0800 \"GET /static/image/common/arw.gif HTTP/1.1\" 200 940',\n",
       " '58.210.235.70 - 30/May/2013:17:39:09 +0800 \"GET /uc_server/avatar.php?uid=22790&size=small HTTP/1.1\" 301 -',\n",
       " '58.210.235.70 - 30/May/2013:17:39:09 +0800 \"GET /static/image/common/arrow_top.gif HTTP/1.1\" 200 51',\n",
       " '58.210.235.70 - 30/May/2013:17:39:07 +0800 \"GET /thread-8248-1-1.html HTTP/1.1\" 200 125651',\n",
       " '58.210.235.70 - 30/May/2013:17:39:09 +0800 \"GET /uc_server/avatar.php?uid=11&size=middle HTTP/1.1\" 301 -',\n",
       " '58.210.235.70 - 30/May/2013:17:39:09 +0800 \"GET /uc_server/avatar.php?uid=10997&size=middle HTTP/1.1\" 301 -',\n",
       " '58.210.235.70 - 30/May/2013:17:39:09 +0800 \"GET /uc_server/data/avatar/000/01/09/97_avatar_middle.jpg HTTP/1.1\" 200 6277']"
      ]
     },
     "execution_count": 19,
     "metadata": {},
     "output_type": "execute_result"
    }
   ],
   "source": [
    "new_rdd.take(10)"
   ]
  },
  {
   "cell_type": "code",
   "execution_count": 20,
   "metadata": {},
   "outputs": [],
   "source": [
    "# 对每一行按照空格分割\n",
    "# [[],[],[],[]]\n",
    "split_rdd = new_rdd.map(lambda line: line.split())"
   ]
  },
  {
   "cell_type": "code",
   "execution_count": 44,
   "metadata": {},
   "outputs": [
    {
     "data": {
      "text/plain": [
       "['58.210.235.70',\n",
       " '-',\n",
       " '30/May/2013:17:38:44',\n",
       " '+0800',\n",
       " '\"GET',\n",
       " '/forum-60-1.html',\n",
       " 'HTTP/1.1\"',\n",
       " '200',\n",
       " '94527']"
      ]
     },
     "execution_count": 44,
     "metadata": {},
     "output_type": "execute_result"
    }
   ],
   "source": [
    "split_rdd.first()"
   ]
  },
  {
   "cell_type": "code",
   "execution_count": 21,
   "metadata": {},
   "outputs": [
    {
     "data": {
      "text/plain": [
       "[['58.210.235.70',\n",
       "  '-',\n",
       "  '30/May/2013:17:38:44',\n",
       "  '+0800',\n",
       "  '\"GET',\n",
       "  '/forum-60-1.html',\n",
       "  'HTTP/1.1\"',\n",
       "  '200',\n",
       "  '94527'],\n",
       " ['58.210.235.70',\n",
       "  '-',\n",
       "  '30/May/2013:17:39:09',\n",
       "  '+0800',\n",
       "  '\"GET',\n",
       "  '/uc_server/avatar.php?uid=24427&size=middle',\n",
       "  'HTTP/1.1\"',\n",
       "  '301',\n",
       "  '-'],\n",
       " ['58.210.235.70',\n",
       "  '-',\n",
       "  '30/May/2013:17:39:09',\n",
       "  '+0800',\n",
       "  '\"GET',\n",
       "  '/static/image/common/none.gif',\n",
       "  'HTTP/1.1\"',\n",
       "  '200',\n",
       "  '43']]"
      ]
     },
     "execution_count": 21,
     "metadata": {},
     "output_type": "execute_result"
    }
   ],
   "source": [
    "split_rdd.take(3)"
   ]
  },
  {
   "cell_type": "code",
   "execution_count": 23,
   "metadata": {},
   "outputs": [],
   "source": [
    "# flatmap\n",
    "flat_split_rdd = new_rdd.flatMap(lambda line: line.split())"
   ]
  },
  {
   "cell_type": "code",
   "execution_count": 26,
   "metadata": {},
   "outputs": [
    {
     "data": {
      "text/plain": [
       "['58.210.235.70',\n",
       " '-',\n",
       " '30/May/2013:17:38:44',\n",
       " '+0800',\n",
       " '\"GET',\n",
       " '/forum-60-1.html',\n",
       " 'HTTP/1.1\"',\n",
       " '200',\n",
       " '94527',\n",
       " '58.210.235.70',\n",
       " '-',\n",
       " '30/May/2013:17:39:09',\n",
       " '+0800',\n",
       " '\"GET',\n",
       " '/uc_server/avatar.php?uid=24427&size=middle',\n",
       " 'HTTP/1.1\"',\n",
       " '301',\n",
       " '-']"
      ]
     },
     "execution_count": 26,
     "metadata": {},
     "output_type": "execute_result"
    }
   ],
   "source": [
    "flat_split_rdd.take(18)"
   ]
  },
  {
   "cell_type": "code",
   "execution_count": 27,
   "metadata": {},
   "outputs": [],
   "source": [
    "# 筛选ip数据\n",
    "import re\n",
    "ip_rdd = flat_split_rdd.filter(lambda x: re.match(\"^(\\d+\\.){3}\\d+\", x))"
   ]
  },
  {
   "cell_type": "code",
   "execution_count": 39,
   "metadata": {},
   "outputs": [],
   "source": [
    "# 统计每个ip的访问次数\n",
    "flat_split_new_rdd = rdd_text.flatMap(lambda line: line.split())\n",
    "new_ip_rdd = flat_split_new_rdd.filter(lambda x: re.match(\"^(\\d+\\.){3}\\d+\", x))"
   ]
  },
  {
   "cell_type": "code",
   "execution_count": 40,
   "metadata": {},
   "outputs": [],
   "source": [
    "# 对结果进行统计\n",
    "res = new_ip_rdd.countByValue()\n",
    "sort_res = sorted(res.items(), key=lambda x: x[1], reverse=True)"
   ]
  },
  {
   "cell_type": "code",
   "execution_count": 41,
   "metadata": {},
   "outputs": [
    {
     "data": {
      "text/plain": [
       "[('222.133.189.179', 29948),\n",
       " ('61.50.141.7', 22836),\n",
       " ('123.147.245.79', 9999),\n",
       " ('49.72.74.77', 8876),\n",
       " ('60.10.5.65', 6341)]"
      ]
     },
     "execution_count": 41,
     "metadata": {},
     "output_type": "execute_result"
    }
   ],
   "source": [
    "sort_res[:5]"
   ]
  },
  {
   "cell_type": "code",
   "execution_count": 43,
   "metadata": {},
   "outputs": [],
   "source": [
    "# 保存rdd到文本文件\n",
    "new_ip_rdd.saveAsTextFile('data/web_ip.log')"
   ]
  },
  {
   "cell_type": "code",
   "execution_count": 45,
   "metadata": {},
   "outputs": [],
   "source": [
    "# 筛选访问路经\n",
    "path_rdd = flat_split_new_rdd.filter(lambda x: re.match(\"^(\\/.*?)\", x))"
   ]
  },
  {
   "cell_type": "code",
   "execution_count": 46,
   "metadata": {},
   "outputs": [],
   "source": [
    "res_path = path_rdd.countByValue()\n",
    "sort_path = sorted(res_path.items(), key=lambda x: x[1], reverse=True)"
   ]
  },
  {
   "cell_type": "code",
   "execution_count": 47,
   "metadata": {},
   "outputs": [
    {
     "data": {
      "text/plain": [
       "[('/api.php?mod=js&bid=94', 5330),\n",
       " ('/static/js/common.js?y7a', 3886),\n",
       " ('/static/image/common/logo.png', 3362),\n",
       " ('/static/image/common/security.png', 3321),\n",
       " ('/api.php?mod=js&bid=65', 3293)]"
      ]
     },
     "execution_count": 47,
     "metadata": {},
     "output_type": "execute_result"
    }
   ],
   "source": [
    "sort_path[:5]"
   ]
  },
  {
   "cell_type": "code",
   "execution_count": 48,
   "metadata": {},
   "outputs": [],
   "source": [
    "# 筛选访问时间\n",
    "time_rdd = flat_split_new_rdd.filter(lambda x: re.match(\"(\\d+\\/\\w+\\/.*?)\", x))"
   ]
  },
  {
   "cell_type": "code",
   "execution_count": 49,
   "metadata": {},
   "outputs": [],
   "source": [
    "res_time = time_rdd.countByValue()\n",
    "sort_time = sorted(res_time.items(), key=lambda x: x[1], reverse=True)"
   ]
  },
  {
   "cell_type": "code",
   "execution_count": 50,
   "metadata": {},
   "outputs": [
    {
     "data": {
      "text/plain": [
       "[('30/May/2013:19:57:05', 182),\n",
       " ('30/May/2013:23:32:18', 175),\n",
       " ('30/May/2013:17:48:18', 165),\n",
       " ('30/May/2013:18:41:32', 157),\n",
       " ('30/May/2013:19:58:38', 155),\n",
       " ('30/May/2013:17:54:08', 154),\n",
       " ('30/May/2013:19:14:05', 151),\n",
       " ('30/May/2013:19:19:14', 151),\n",
       " ('30/May/2013:20:07:22', 151),\n",
       " ('30/May/2013:18:38:28', 149)]"
      ]
     },
     "execution_count": 50,
     "metadata": {},
     "output_type": "execute_result"
    }
   ],
   "source": [
    "sort_time[:10]"
   ]
  },
  {
   "cell_type": "code",
   "execution_count": null,
   "metadata": {},
   "outputs": [],
   "source": []
  }
 ],
 "metadata": {
  "kernelspec": {
   "display_name": "Python [conda env:spark_env]",
   "language": "python",
   "name": "conda-env-spark_env-py"
  },
  "language_info": {
   "codemirror_mode": {
    "name": "ipython",
    "version": 3
   },
   "file_extension": ".py",
   "mimetype": "text/x-python",
   "name": "python",
   "nbconvert_exporter": "python",
   "pygments_lexer": "ipython3",
   "version": "3.6.12"
  }
 },
 "nbformat": 4,
 "nbformat_minor": 4
}
