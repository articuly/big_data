{
 "cells": [
  {
   "cell_type": "markdown",
   "metadata": {},
   "source": [
    "（25分） 实操题2：\n",
    "抓取51job的python岗位，统计其中对hadoop，spark存在要求的岗位数量比例， 上交代码。"
   ]
  },
  {
   "cell_type": "code",
   "execution_count": 14,
   "metadata": {},
   "outputs": [],
   "source": [
    "import json\n",
    "import re\n",
    "from pyspark import SparkContext, SparkConf"
   ]
  },
  {
   "cell_type": "code",
   "execution_count": 2,
   "metadata": {},
   "outputs": [],
   "source": [
    "conf = SparkConf().setMaster('local[*]').setAppName('jobs_count')\n",
    "sc = SparkContext(conf=conf)"
   ]
  },
  {
   "cell_type": "code",
   "execution_count": 8,
   "metadata": {},
   "outputs": [],
   "source": [
    "rdd = sc.textFile('file:///D:/Projects/python_projects/big_data/data/51job_data_2.csv', use_unicode=True)"
   ]
  },
  {
   "cell_type": "code",
   "execution_count": 28,
   "metadata": {},
   "outputs": [
    {
     "data": {
      "text/plain": [
       "24950"
      ]
     },
     "execution_count": 28,
     "metadata": {},
     "output_type": "execute_result"
    }
   ],
   "source": [
    "job_num=rdd.count()\n",
    "job_num"
   ]
  },
  {
   "cell_type": "code",
   "execution_count": 11,
   "metadata": {},
   "outputs": [
    {
     "data": {
      "text/plain": [
       "'Python开发工程师,1-1.5万/月,厦门\\xa0\\xa0|\\xa0\\xa0无工作经验\\xa0\\xa0|\\xa0\\xa0大专\\xa0\\xa0|\\xa0\\xa0招1人\\xa0\\xa0|\\xa0\\xa007-30发布,工作职责：\\xa0\\xa01、参与项目系统设计，完成软件项目的程序开发工作；\\xa0\\xa02、负责产品需求分析、设计和文档编写；\\xa0\\xa03、根据产品需求和设计进行软件开发；\\xa0\\xa04、完成直接上级交办的其他工作任务\\xa0\\xa0经验要求：\\xa0\\xa02 - 6 years of web development experience 至少2年的开发经验4 years experience is preferred四年相关经验优先岗位描述：\\xa0\\xa02年以上Python编程经验，充分理解面向对象编程思想；相关技术（Django Flask / Numpy Scipy  Pandas StatsModels）TensorflowKeras/PyTourch/CaffeScrapy/Beautiful Soup 其他的自动化的Python Library.Matplotlib/Pydot/Bokeh/Plotly/PyBrain熟悉MySQL、Oracle等数据库，熟练掌握SQL语句，具备一定的数据库、SQL的调优能力；具备互联网开发经验优先；具备良好编码习惯及一定的技术文档编写能力；对数据库级设计、优化有一定认识，有处理实时海量数据经验；\\xa0\\xa0\\xa0\\xa0\\xa0\\xa0\\xa0\\xa0\\xa0\\xa0\\xa0\\xa0\\xa0\\xa0\\xa0\\xa0\\xa0\\xa0有较强的逻辑思维能力，良好的沟通能力，高度的工作责任心和敬业精神，有吃苦耐劳精神并能承受较大的工作压力。\\xa0\\xa0\\xa0\\xa0\\xa0\\xa0\\xa0\\xa0职能类别：软件工程师高级软件工程师微信分享'"
      ]
     },
     "execution_count": 11,
     "metadata": {},
     "output_type": "execute_result"
    }
   ],
   "source": [
    "rdd.first()"
   ]
  },
  {
   "cell_type": "code",
   "execution_count": 25,
   "metadata": {},
   "outputs": [],
   "source": [
    "# 查找包含某个ip访问的日志记录\n",
    "new_rdd = rdd.filter(lambda x: re.match(\"[hadoop | spark]\", x, flags=re.IGNORECASE))"
   ]
  },
  {
   "cell_type": "code",
   "execution_count": 29,
   "metadata": {},
   "outputs": [
    {
     "data": {
      "text/plain": [
       "3048"
      ]
     },
     "execution_count": 29,
     "metadata": {},
     "output_type": "execute_result"
    }
   ],
   "source": [
    "bd_job_num=new_rdd.count()\n",
    "bd_job_num"
   ]
  },
  {
   "cell_type": "code",
   "execution_count": 33,
   "metadata": {},
   "outputs": [
    {
     "name": "stdout",
     "output_type": "stream",
     "text": [
      "对hadoop，spark存在要求的岗位数量比例为 12.22%\n"
     ]
    }
   ],
   "source": [
    "print('对hadoop，spark存在要求的岗位数量比例为 {0:.2f}%'.format(bd_job_num/job_num*100))"
   ]
  },
  {
   "cell_type": "code",
   "execution_count": null,
   "metadata": {},
   "outputs": [],
   "source": []
  }
 ],
 "metadata": {
  "kernelspec": {
   "display_name": "Python [conda env:spark_env]",
   "language": "python",
   "name": "conda-env-spark_env-py"
  },
  "language_info": {
   "codemirror_mode": {
    "name": "ipython",
    "version": 3
   },
   "file_extension": ".py",
   "mimetype": "text/x-python",
   "name": "python",
   "nbconvert_exporter": "python",
   "pygments_lexer": "ipython3",
   "version": "3.7.9"
  }
 },
 "nbformat": 4,
 "nbformat_minor": 4
}
