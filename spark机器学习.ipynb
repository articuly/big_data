{
 "cells": [
  {
   "cell_type": "code",
   "execution_count": 1,
   "metadata": {},
   "outputs": [],
   "source": [
    "import pyspark\n",
    "from pyspark.sql import SQLContext\n",
    "\n",
    "sc = pyspark.SparkContext('local[*]')\n",
    "sqlContext = SQLContext(sc)"
   ]
  },
  {
   "cell_type": "code",
   "execution_count": 2,
   "metadata": {},
   "outputs": [],
   "source": [
    "# 获得列名\n",
    "with open('data/kddcup.names', 'rt') as f:\n",
    "    header = [line.split(':')[0] for line in f.read().splitlines()\n",
    "             ][1:]  # 从第二行之后为列名\n",
    "    header.append('target')"
   ]
  },
  {
   "cell_type": "code",
   "execution_count": 3,
   "metadata": {},
   "outputs": [
    {
     "name": "stdout",
     "output_type": "stream",
     "text": [
      "Number of features: 41\n",
      "['duration', 'protocol_type', 'service', 'flag', 'src_bytes', 'dst_bytes', 'land', 'wrong_fragment', 'urgent', 'hot', 'num_failed_logins', 'logged_in', 'num_compromised', 'root_shell', 'su_attempted', 'num_root', 'num_file_creations', 'num_shells', 'num_access_files', 'num_outbound_cmds', 'is_host_login', 'is_guest_login', 'count', 'srv_count', 'serror_rate', 'srv_serror_rate', 'rerror_rate', 'srv_rerror_rate', 'same_srv_rate', 'diff_srv_rate', 'srv_diff_host_rate', 'dst_host_count', 'dst_host_srv_count', 'dst_host_same_srv_rate', 'dst_host_diff_srv_rate', 'dst_host_same_src_port_rate', 'dst_host_srv_diff_host_rate', 'dst_host_serror_rate', 'dst_host_srv_serror_rate', 'dst_host_rerror_rate', 'dst_host_srv_rerror_rate', 'target']\n"
     ]
    }
   ],
   "source": [
    "print('Number of features:', len(header) - 1)\n",
    "print(header)"
   ]
  },
  {
   "cell_type": "code",
   "execution_count": 4,
   "metadata": {},
   "outputs": [],
   "source": [
    "# 读取文件\n",
    "train_rdd = sc.textFile(\n",
    "    \"file:///D:/Projects/python_projects/big_data/data/kddcup.data_10_percent\")\n",
    "test_rdd = sc.textFile(\n",
    "    \"file:///D:/Projects/python_projects/big_data/data/corrected\")"
   ]
  },
  {
   "cell_type": "code",
   "execution_count": 9,
   "metadata": {},
   "outputs": [],
   "source": [
    "# 处理行数据\n",
    "def line_parser(line):\n",
    "\n",
    "    def piece_parser(piece):\n",
    "        if '.' in piece or piece.isdigit():\n",
    "            return float(piece)\n",
    "        else:\n",
    "            return piece\n",
    "\n",
    "    return [piece_parser(piece) for piece in line[:-1].split(',')\n",
    "           ]  # 把行分成一块块，再处理一块"
   ]
  },
  {
   "cell_type": "code",
   "execution_count": 7,
   "metadata": {},
   "outputs": [
    {
     "data": {
      "text/plain": [
       "'0,tcp,http,SF,181,5450,0,0,0,0,0,1,0,0,0,0,0,0,0,0,0,0,8,8,0.00,0.00,0.00,0.00,1.00,0.00,0.00,9,9,1.00,0.00,0.11,0.00,0.00,0.00,0.00,0.00,normal.'"
      ]
     },
     "execution_count": 7,
     "metadata": {},
     "output_type": "execute_result"
    }
   ],
   "source": [
    "train_rdd.first()"
   ]
  },
  {
   "cell_type": "code",
   "execution_count": 11,
   "metadata": {},
   "outputs": [],
   "source": [
    "# DF加表头\n",
    "train_df = sqlContext.createDataFrame(train_rdd.map(line_parser),\n",
    "                                      header)  # 添加表头\n",
    "test_df = sqlContext.createDataFrame(test_rdd.map(line_parser), header)"
   ]
  },
  {
   "cell_type": "code",
   "execution_count": 12,
   "metadata": {},
   "outputs": [
    {
     "data": {
      "text/plain": [
       "494021"
      ]
     },
     "execution_count": 12,
     "metadata": {},
     "output_type": "execute_result"
    }
   ],
   "source": [
    "train_df.count()"
   ]
  },
  {
   "cell_type": "code",
   "execution_count": 13,
   "metadata": {},
   "outputs": [
    {
     "data": {
      "text/plain": [
       "311029"
      ]
     },
     "execution_count": 13,
     "metadata": {},
     "output_type": "execute_result"
    }
   ],
   "source": [
    "test_df.count()"
   ]
  },
  {
   "cell_type": "code",
   "execution_count": 14,
   "metadata": {},
   "outputs": [
    {
     "name": "stdout",
     "output_type": "stream",
     "text": [
      "root\n",
      " |-- duration: double (nullable = true)\n",
      " |-- protocol_type: string (nullable = true)\n",
      " |-- service: string (nullable = true)\n",
      " |-- flag: string (nullable = true)\n",
      " |-- src_bytes: double (nullable = true)\n",
      " |-- dst_bytes: double (nullable = true)\n",
      " |-- land: double (nullable = true)\n",
      " |-- wrong_fragment: double (nullable = true)\n",
      " |-- urgent: double (nullable = true)\n",
      " |-- hot: double (nullable = true)\n",
      " |-- num_failed_logins: double (nullable = true)\n",
      " |-- logged_in: double (nullable = true)\n",
      " |-- num_compromised: double (nullable = true)\n",
      " |-- root_shell: double (nullable = true)\n",
      " |-- su_attempted: double (nullable = true)\n",
      " |-- num_root: double (nullable = true)\n",
      " |-- num_file_creations: double (nullable = true)\n",
      " |-- num_shells: double (nullable = true)\n",
      " |-- num_access_files: double (nullable = true)\n",
      " |-- num_outbound_cmds: double (nullable = true)\n",
      " |-- is_host_login: double (nullable = true)\n",
      " |-- is_guest_login: double (nullable = true)\n",
      " |-- count: double (nullable = true)\n",
      " |-- srv_count: double (nullable = true)\n",
      " |-- serror_rate: double (nullable = true)\n",
      " |-- srv_serror_rate: double (nullable = true)\n",
      " |-- rerror_rate: double (nullable = true)\n",
      " |-- srv_rerror_rate: double (nullable = true)\n",
      " |-- same_srv_rate: double (nullable = true)\n",
      " |-- diff_srv_rate: double (nullable = true)\n",
      " |-- srv_diff_host_rate: double (nullable = true)\n",
      " |-- dst_host_count: double (nullable = true)\n",
      " |-- dst_host_srv_count: double (nullable = true)\n",
      " |-- dst_host_same_srv_rate: double (nullable = true)\n",
      " |-- dst_host_diff_srv_rate: double (nullable = true)\n",
      " |-- dst_host_same_src_port_rate: double (nullable = true)\n",
      " |-- dst_host_srv_diff_host_rate: double (nullable = true)\n",
      " |-- dst_host_serror_rate: double (nullable = true)\n",
      " |-- dst_host_srv_serror_rate: double (nullable = true)\n",
      " |-- dst_host_rerror_rate: double (nullable = true)\n",
      " |-- dst_host_srv_rerror_rate: double (nullable = true)\n",
      " |-- target: string (nullable = true)\n",
      "\n"
     ]
    }
   ],
   "source": [
    "train_df.printSchema()"
   ]
  },
  {
   "cell_type": "code",
   "execution_count": 16,
   "metadata": {},
   "outputs": [],
   "source": [
    "# 特征工程\n",
    "from pyspark.ml import Pipeline\n",
    "from pyspark.ml.feature import StringIndexer\n",
    "\n",
    "cols_categorical = ['protocol_type', 'service', 'flag', 'target']\n",
    "preproccess_stages = []\n",
    "for col in cols_categorical:\n",
    "    out_col = col + '_cat'  # 添加尾缀\n",
    "    preproccess_stages.append(\n",
    "        StringIndexer(inputCol=col, outputCol=out_col, handleInvalid='skip'))\n",
    "\n",
    "pipeline = Pipeline(stages=preproccess_stages)\n",
    "indexer = pipeline.fit(train_df)\n",
    "train_num_df = indexer.transform(train_df)\n",
    "test_num_df = indexer.transform(test_df)"
   ]
  },
  {
   "cell_type": "code",
   "execution_count": 17,
   "metadata": {},
   "outputs": [
    {
     "data": {
      "text/plain": [
       "[StringIndexer_336ca91fc85a,\n",
       " StringIndexer_8df0b806d09d,\n",
       " StringIndexer_91fab29b1385,\n",
       " StringIndexer_54569de4f09d]"
      ]
     },
     "execution_count": 17,
     "metadata": {},
     "output_type": "execute_result"
    }
   ],
   "source": [
    "pipeline.getStages()  # 处理四个列的特征"
   ]
  },
  {
   "cell_type": "code",
   "execution_count": 18,
   "metadata": {},
   "outputs": [
    {
     "data": {
      "text/plain": [
       "Pipeline_a814a211d2ba"
      ]
     },
     "execution_count": 18,
     "metadata": {},
     "output_type": "execute_result"
    }
   ],
   "source": [
    "pipeline"
   ]
  },
  {
   "cell_type": "code",
   "execution_count": 19,
   "metadata": {},
   "outputs": [
    {
     "data": {
      "text/plain": [
       "PipelineModel_af9081d37f0b"
      ]
     },
     "execution_count": 19,
     "metadata": {},
     "output_type": "execute_result"
    }
   ],
   "source": [
    "indexer"
   ]
  },
  {
   "cell_type": "code",
   "execution_count": 21,
   "metadata": {},
   "outputs": [
    {
     "name": "stdout",
     "output_type": "stream",
     "text": [
      "['dst_host_srv_diff_host_rate', 'srv_rerror_rate', 'num_access_files', 'num_outbound_cmds', 'same_srv_rate', 'hot', 'flag_cat', 'su_attempted', 'dst_host_count', 'urgent', 'dst_host_same_src_port_rate', 'wrong_fragment', 'root_shell', 'dst_host_srv_rerror_rate', 'srv_diff_host_rate', 'count', 'num_shells', 'srv_serror_rate', 'num_root', 'protocol_type_cat', 'dst_host_srv_serror_rate', 'is_guest_login', 'num_failed_logins', 'diff_srv_rate', 'dst_host_rerror_rate', 'serror_rate', 'land', 'srv_count', 'service_cat', 'is_host_login', 'dst_host_srv_count', 'dst_host_serror_rate', 'dst_bytes', 'duration', 'dst_host_same_srv_rate', 'logged_in', 'src_bytes', 'num_compromised', 'num_file_creations', 'dst_host_diff_srv_rate', 'rerror_rate']\n",
      "Total numerical features: 41\n"
     ]
    }
   ],
   "source": [
    "# 通过集合获取特征名\n",
    "features_header = set(header) - set(cols_categorical) | set(\n",
    "    [col + '_cat' for col in cols_categorical]) - set(['target', 'target_cat'])\n",
    "features_header = list(features_header)\n",
    "print(features_header)\n",
    "print('Total numerical features:', len(features_header))"
   ]
  },
  {
   "cell_type": "code",
   "execution_count": 29,
   "metadata": {},
   "outputs": [],
   "source": [
    "# 形成最终特征矩阵\n",
    "from pyspark.ml.feature import VectorAssembler\n",
    "\n",
    "assembler = VectorAssembler(inputCols=features_header,\n",
    "                            outputCol='features')  # 构建特征矩阵，41个特征并为一个稀疏矩阵\n",
    "Xy_train = assembler.transform(train_num_df).select('features', 'target_cat')\n",
    "Xy_test = assembler.transform(test_num_df).select('features', 'target_cat')"
   ]
  },
  {
   "cell_type": "code",
   "execution_count": 30,
   "metadata": {},
   "outputs": [
    {
     "data": {
      "text/plain": [
       "Row(features=SparseVector(41, {4: 1.0, 8: 9.0, 10: 0.11, 15: 8.0, 19: 1.0, 27: 8.0, 28: 2.0, 30: 9.0, 32: 5450.0, 34: 1.0, 35: 1.0, 36: 181.0}), target_cat=2.0)"
      ]
     },
     "execution_count": 30,
     "metadata": {},
     "output_type": "execute_result"
    }
   ],
   "source": [
    "Xy_train.first()"
   ]
  },
  {
   "cell_type": "code",
   "execution_count": 34,
   "metadata": {},
   "outputs": [],
   "source": [
    "# 训练模型\n",
    "from pyspark.ml.classification import RandomForestClassifier\n",
    "\n",
    "clf = RandomForestClassifier(labelCol='target_cat',\n",
    "                             featuresCol='features',\n",
    "                             maxBins=100,\n",
    "                             seed=101)\n",
    "fit_clf = clf.fit(Xy_train)"
   ]
  },
  {
   "cell_type": "code",
   "execution_count": 35,
   "metadata": {},
   "outputs": [
    {
     "data": {
      "text/plain": [
       "RandomForestClassifier_3f4c29c3bd03"
      ]
     },
     "execution_count": 35,
     "metadata": {},
     "output_type": "execute_result"
    }
   ],
   "source": [
    "clf"
   ]
  },
  {
   "cell_type": "code",
   "execution_count": 36,
   "metadata": {},
   "outputs": [
    {
     "data": {
      "text/plain": [
       "RandomForestClassificationModel (uid=RandomForestClassifier_3f4c29c3bd03) with 20 trees"
      ]
     },
     "execution_count": 36,
     "metadata": {},
     "output_type": "execute_result"
    }
   ],
   "source": [
    "fit_clf"
   ]
  },
  {
   "cell_type": "code",
   "execution_count": 37,
   "metadata": {},
   "outputs": [],
   "source": [
    "Xy_pred_train = fit_clf.transform(Xy_train)\n",
    "Xy_pred_test = fit_clf.transform(Xy_test)"
   ]
  },
  {
   "cell_type": "code",
   "execution_count": 38,
   "metadata": {},
   "outputs": [
    {
     "data": {
      "text/plain": [
       "Row(features=SparseVector(41, {4: 1.0, 8: 255.0, 15: 1.0, 19: 2.0, 27: 1.0, 28: 1.0, 30: 254.0, 32: 146.0, 34: 1.0, 36: 105.0, 39: 0.01}), target_cat=2.0, rawPrediction=DenseVector([0.0129, 0.0127, 19.5806, 0.0522, 0.0153, 0.0511, 0.0268, 0.1211, 0.0927, 0.0059, 0.0124, 0.0036, 0.0019, 0.0005, 0.0027, 0.0011, 0.0018, 0.001, 0.0009, 0.0006, 0.0008, 0.0005, 0.0008]), probability=DenseVector([0.0006, 0.0006, 0.979, 0.0026, 0.0008, 0.0026, 0.0013, 0.0061, 0.0046, 0.0003, 0.0006, 0.0002, 0.0001, 0.0, 0.0001, 0.0001, 0.0001, 0.0, 0.0, 0.0, 0.0, 0.0, 0.0]), prediction=2.0)"
      ]
     },
     "execution_count": 38,
     "metadata": {},
     "output_type": "execute_result"
    }
   ],
   "source": [
    "Xy_pred_test.first()  # 预测分数，概率，最可能的标签"
   ]
  },
  {
   "cell_type": "code",
   "execution_count": 42,
   "metadata": {},
   "outputs": [],
   "source": [
    "# 性能评价\n",
    "from pyspark.ml.evaluation import MulticlassClassificationEvaluator\n",
    "evaluator = MulticlassClassificationEvaluator(labelCol='target_cat',\n",
    "                                              predictionCol='prediction',\n",
    "                                              metricName='f1')\n",
    "f1_train = evaluator.evaluate(Xy_pred_train)\n",
    "f1_test = evaluator.evaluate(Xy_pred_test)"
   ]
  },
  {
   "cell_type": "code",
   "execution_count": 43,
   "metadata": {},
   "outputs": [
    {
     "data": {
      "text/plain": [
       "0.9920595809709876"
      ]
     },
     "execution_count": 43,
     "metadata": {},
     "output_type": "execute_result"
    }
   ],
   "source": [
    "f1_train"
   ]
  },
  {
   "cell_type": "code",
   "execution_count": 44,
   "metadata": {},
   "outputs": [
    {
     "data": {
      "text/plain": [
       "0.9670753890957152"
      ]
     },
     "execution_count": 44,
     "metadata": {},
     "output_type": "execute_result"
    }
   ],
   "source": [
    "f1_test"
   ]
  },
  {
   "cell_type": "code",
   "execution_count": 46,
   "metadata": {},
   "outputs": [
    {
     "name": "stdout",
     "output_type": "stream",
     "text": [
      "F1-score test set 0.9671\n"
     ]
    }
   ],
   "source": [
    "# 完整管道功能\n",
    "full_stages = preproccess_stages + [assembler, clf]\n",
    "full_pipeline = Pipeline(stages=full_stages)\n",
    "full_model = full_pipeline.fit(train_df)\n",
    "predictions = full_model.transform(test_df)\n",
    "f1_preds = evaluator.evaluate(predictions)\n",
    "print('F1-score test set {:.4f}'.format(f1_preds))"
   ]
  },
  {
   "cell_type": "code",
   "execution_count": 49,
   "metadata": {},
   "outputs": [],
   "source": [
    "# 混淆矩阵\n",
    "import numpy as np\n",
    "import matplotlib.pyplot as plt\n",
    "\n",
    "\n",
    "def plot_confusion_matrix(cm):\n",
    "    cm_normalized = cm.astype('float') / cm.sum(axis=1)[:np.newaxis]\n",
    "    plt.imshow(cm_normalized, interpolation='nearest', cmap=plt.cm.Blues)\n",
    "    plt.title('Normalized Confusion matrix')\n",
    "    plt.colorbar()\n",
    "    plt.tight_layout()\n",
    "    plt.ylabel('True label')\n",
    "    plt.xlabel('Predicted labe')"
   ]
  },
  {
   "cell_type": "code",
   "execution_count": 50,
   "metadata": {},
   "outputs": [
    {
     "data": {
      "image/png": "[encoded data removed]",
      "text/plain": [
       "<Figure size 432x288 with 2 Axes>"
      ]
     },
     "metadata": {
      "needs_background": "light"
     },
     "output_type": "display_data"
    }
   ],
   "source": [
    "from pyspark.mllib.evaluation import MulticlassMetrics\n",
    "metrics=MulticlassMetrics(predictions.select('prediction', 'target_cat').rdd)\n",
    "conf_matrix=metrics.confusionMatrix().toArray()\n",
    "plot_confusion_matrix(conf_matrix)"
   ]
  },
  {
   "cell_type": "code",
   "execution_count": 53,
   "metadata": {},
   "outputs": [
    {
     "name": "stdout",
     "output_type": "stream",
     "text": [
      "{'neptune': 107201, 'satan': 1589, 'nmap': 231, 'portsweep': 1040, 'back': 2203, 'warezclient': 1020, 'guess_passwd': 53, 'normal': 97278, 'rootkit': 10, 'perl': 3, 'buffer_overflow': 30, 'multihop': 7, 'ipsweep': 1247, 'warezmaster': 20, 'imap': 12, 'teardrop': 979, 'spy': 2, 'land': 21, 'pod': 264, 'ftp_write': 8, 'smurf': 280790, 'loadmodule': 9, 'phf': 4}\n"
     ]
    }
   ],
   "source": [
    "# 分类分布情况\n",
    "train_composition=train_df.groupBy('target').count().rdd.collectAsMap()\n",
    "print(train_composition)"
   ]
  },
  {
   "cell_type": "code",
   "execution_count": 56,
   "metadata": {},
   "outputs": [
    {
     "data": {
      "text/plain": [
       "{'neptune': 0.23320677978750198,\n",
       " 'satan': 1,\n",
       " 'nmap': 4.329004329004329,\n",
       " 'portsweep': 1,\n",
       " 'back': 1,\n",
       " 'warezclient': 1,\n",
       " 'guess_passwd': 18.867924528301888,\n",
       " 'normal': 0.2569954152017928,\n",
       " 'rootkit': 100.0,\n",
       " 'perl': 333.3333333333333,\n",
       " 'buffer_overflow': 33.333333333333336,\n",
       " 'multihop': 142.85714285714286,\n",
       " 'ipsweep': 1,\n",
       " 'warezmaster': 50.0,\n",
       " 'imap': 83.33333333333333,\n",
       " 'teardrop': 1.0214504596527068,\n",
       " 'spy': 500.0,\n",
       " 'land': 47.61904761904762,\n",
       " 'pod': 3.787878787878788,\n",
       " 'ftp_write': 125.0,\n",
       " 'smurf': 0.08903450977598917,\n",
       " 'loadmodule': 111.11111111111111,\n",
       " 'phf': 250.0}"
      ]
     },
     "execution_count": 56,
     "metadata": {},
     "output_type": "execute_result"
    }
   ],
   "source": [
    "# 重采样\n",
    "def set_sample_rate_between_vals(cnt, min_, max_):\n",
    "    if min_ <= cnt <= max_:\n",
    "        # 不进行重采样\n",
    "        return 1\n",
    "    elif cnt<min_:\n",
    "        # 超采样\n",
    "        return min_/float(cnt)\n",
    "    else:\n",
    "        # 下采样\n",
    "        return max_/float(cnt)\n",
    "\n",
    "sample_rates={k:set_sample_rate_between_vals(v, 1000, 25000) for k, v in train_composition.items()}\n",
    "sample_rates"
   ]
  },
  {
   "cell_type": "code",
   "execution_count": 57,
   "metadata": {},
   "outputs": [],
   "source": [
    "bc_sample_rates=sc.broadcast(sample_rates)"
   ]
  },
  {
   "cell_type": "code",
   "execution_count": 59,
   "metadata": {},
   "outputs": [],
   "source": [
    "def map_and_sample(line, rates):\n",
    "    rate=rates.value[line['target']]\n",
    "    if rate >=1:  # 超采样，重复行\n",
    "        return [line] * int(rate)\n",
    "    else:  # 直采样，有特定机率采到\n",
    "        import random\n",
    "        return [line] if random.random() < rate else []\n",
    "    \n",
    "sampled_train_df=train_df.rdd.flatMap(lambda x: map_and_sample(x, bc_sample_rates)).toDF().cache()"
   ]
  },
  {
   "cell_type": "code",
   "execution_count": 60,
   "metadata": {},
   "outputs": [
    {
     "data": {
      "text/plain": [
       "96586"
      ]
     },
     "execution_count": 60,
     "metadata": {},
     "output_type": "execute_result"
    }
   ],
   "source": [
    "# 重采样后减少很多\n",
    "sampled_train_df.count()"
   ]
  },
  {
   "cell_type": "code",
   "execution_count": 61,
   "metadata": {},
   "outputs": [
    {
     "data": {
      "text/plain": [
       "Row(duration=0.0, protocol_type='tcp', service='http', flag='SF', src_bytes=181.0, dst_bytes=5450.0, land=0.0, wrong_fragment=0.0, urgent=0.0, hot=0.0, num_failed_logins=0.0, logged_in=1.0, num_compromised=0.0, root_shell=0.0, su_attempted=0.0, num_root=0.0, num_file_creations=0.0, num_shells=0.0, num_access_files=0.0, num_outbound_cmds=0.0, is_host_login=0.0, is_guest_login=0.0, count=8.0, srv_count=8.0, serror_rate=0.0, srv_serror_rate=0.0, rerror_rate=0.0, srv_rerror_rate=0.0, same_srv_rate=1.0, diff_srv_rate=0.0, srv_diff_host_rate=0.0, dst_host_count=9.0, dst_host_srv_count=9.0, dst_host_same_srv_rate=1.0, dst_host_diff_srv_rate=0.0, dst_host_same_src_port_rate=0.11, dst_host_srv_diff_host_rate=0.0, dst_host_serror_rate=0.0, dst_host_srv_serror_rate=0.0, dst_host_rerror_rate=0.0, dst_host_srv_rerror_rate=0.0, target='normal')"
      ]
     },
     "execution_count": 61,
     "metadata": {},
     "output_type": "execute_result"
    }
   ],
   "source": [
    "sampled_train_df.first()"
   ]
  },
  {
   "cell_type": "code",
   "execution_count": 62,
   "metadata": {},
   "outputs": [
    {
     "name": "stdout",
     "output_type": "stream",
     "text": [
      "Resample F1-score test set: 0.9671\n"
     ]
    }
   ],
   "source": [
    "# 再次训练\n",
    "sampled_full_model=full_pipeline.fit(sampled_train_df)\n",
    "predictions_resample=sampled_full_model.transform(test_df)\n",
    "f1_preds_resample=evaluator.evaluate(predictions)\n",
    "print('Resample F1-score test set: {:.4f}'.format(f1_preds_resample))"
   ]
  },
  {
   "cell_type": "code",
   "execution_count": 65,
   "metadata": {},
   "outputs": [
    {
     "data": {
      "text/plain": [
       "[StringIndexer_336ca91fc85a,\n",
       " StringIndexer_8df0b806d09d,\n",
       " StringIndexer_91fab29b1385,\n",
       " StringIndexer_54569de4f09d,\n",
       " VectorAssembler_9cff7668798c,\n",
       " RandomForestClassifier_3f4c29c3bd03]"
      ]
     },
     "execution_count": 65,
     "metadata": {},
     "output_type": "execute_result"
    }
   ],
   "source": [
    "full_pipeline.getStages()"
   ]
  },
  {
   "cell_type": "code",
   "execution_count": 67,
   "metadata": {},
   "outputs": [
    {
     "name": "stdout",
     "output_type": "stream",
     "text": [
      "F1-score test set: 0.9673\n"
     ]
    }
   ],
   "source": [
    "# 调整模型参数再训练\n",
    "clf2=RandomForestClassifier(numTrees=50, maxBins=100, labelCol='target_cat', featuresCol='features')\n",
    "stages=full_pipeline.getStages()[:-1]\n",
    "stages.append(clf2)\n",
    "refined_pipeline=Pipeline(stages=stages)\n",
    "refined_model=refined_pipeline.fit(sampled_train_df)\n",
    "predictions=refined_model.transform(test_df)\n",
    "f1_preds=evaluator.evaluate(predictions)\n",
    "print('F1-score test set: {:.4f}'.format(f1_preds))"
   ]
  },
  {
   "cell_type": "code",
   "execution_count": 68,
   "metadata": {},
   "outputs": [],
   "source": [
    "# 准备交叉验证\n",
    "pipeline_to_clf=Pipeline(stages=preproccess_stages+[assembler]).fit(sampled_train_df)\n",
    "train=pipeline_to_clf.transform(sampled_train_df).cache()\n",
    "test=pipeline_to_clf.transform(test_df)"
   ]
  },
  {
   "cell_type": "code",
   "execution_count": 70,
   "metadata": {},
   "outputs": [],
   "source": [
    "## 交叉验证\n",
    "from pyspark.ml.tuning import ParamGridBuilder, CrossValidator\n",
    "\n",
    "rf=RandomForestClassifier(cacheNodeIds=True, seed=101, labelCol='target_cat', featuresCol='features', maxBins=100)\n",
    "grid=ParamGridBuilder().addGrid(rf.maxDepth, [3, 6, 9, 12]).addGrid(rf.numTrees, [20, 50]).build()\n",
    "cv=CrossValidator(estimator=rf, estimatorParamMaps=grid, evaluator=evaluator, numFolds=3)\n",
    "cvModel=cv.fit(train)"
   ]
  },
  {
   "cell_type": "code",
   "execution_count": 72,
   "metadata": {},
   "outputs": [
    {
     "data": {
      "text/plain": [
       "0.9699354582472229"
      ]
     },
     "execution_count": 72,
     "metadata": {},
     "output_type": "execute_result"
    }
   ],
   "source": [
    "predictions=cvModel.transform(test)\n",
    "f1_preds=evaluator.evaluate(predictions)\n",
    "f1_preds"
   ]
  },
  {
   "cell_type": "code",
   "execution_count": null,
   "metadata": {},
   "outputs": [],
   "source": [
    "# 最后清理\n",
    "bc_sample_rates.unpersist()\n",
    "sampled_train_df.unpersist()\n",
    "train.unpersist()"
   ]
  },
  {
   "cell_type": "code",
   "execution_count": null,
   "metadata": {},
   "outputs": [],
   "source": []
  }
 ],
 "metadata": {
  "kernelspec": {
   "display_name": "Python [conda env:spark_env]",
   "language": "python",
   "name": "conda-env-spark_env-py"
  },
  "language_info": {
   "codemirror_mode": {
    "name": "ipython",
    "version": 3
   },
   "file_extension": ".py",
   "mimetype": "text/x-python",
   "name": "python",
   "nbconvert_exporter": "python",
   "pygments_lexer": "ipython3",
   "version": "3.7.9"
  }
 },
 "nbformat": 4,
 "nbformat_minor": 4
}
